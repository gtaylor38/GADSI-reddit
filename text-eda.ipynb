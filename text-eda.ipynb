{
 "cells": [
  {
   "cell_type": "markdown",
   "metadata": {
    "id": "DO5NeR9uNerJ"
   },
   "source": [
    "# Text Conversion and EDA"
   ]
  },
  {
   "cell_type": "markdown",
   "metadata": {
    "id": "6Kv3HzkiNw67"
   },
   "source": [
    "### Imports"
   ]
  },
  {
   "cell_type": "code",
   "execution_count": 1,
   "metadata": {
    "id": "kUbQwAWSNcSf"
   },
   "outputs": [],
   "source": [
    "import pandas as pd\n",
    "\n",
    "import matplotlib.pyplot as plt\n",
    "\n",
    "from sklearn.feature_extraction.text import CountVectorizer, TfidfVectorizer"
   ]
  },
  {
   "cell_type": "markdown",
   "metadata": {
    "id": "HwRs0LrdOhQu"
   },
   "source": [
    "### Load Data"
   ]
  },
  {
   "cell_type": "code",
   "execution_count": 2,
   "metadata": {
    "id": "Wn3epxZtNeMh"
   },
   "outputs": [],
   "source": [
    "posts = pd.read_csv('data/cl_aug_sports_posts.csv')"
   ]
  },
  {
   "cell_type": "code",
   "execution_count": 3,
   "metadata": {
    "colab": {
     "base_uri": "https://localhost:8080/",
     "height": 423
    },
    "id": "JJg4ta-rNeJ7",
    "outputId": "fa3efe92-70fb-4ef2-903f-ec0061c3bf97"
   },
   "outputs": [
    {
     "data": {
      "text/html": [
       "\n",
       "  <div id=\"df-a0097a18-0653-4f2c-894e-ed9068383551\">\n",
       "    <div class=\"colab-df-container\">\n",
       "      <div>\n",
       "<style scoped>\n",
       "    .dataframe tbody tr th:only-of-type {\n",
       "        vertical-align: middle;\n",
       "    }\n",
       "\n",
       "    .dataframe tbody tr th {\n",
       "        vertical-align: top;\n",
       "    }\n",
       "\n",
       "    .dataframe thead th {\n",
       "        text-align: right;\n",
       "    }\n",
       "</style>\n",
       "<table border=\"1\" class=\"dataframe\">\n",
       "  <thead>\n",
       "    <tr style=\"text-align: right;\">\n",
       "      <th></th>\n",
       "      <th>title</th>\n",
       "      <th>title_len</th>\n",
       "      <th>subreddit</th>\n",
       "      <th>score</th>\n",
       "      <th>created_utc</th>\n",
       "      <th>age</th>\n",
       "      <th>has_authtext</th>\n",
       "      <th>has_linktext</th>\n",
       "      <th>num_comments</th>\n",
       "    </tr>\n",
       "  </thead>\n",
       "  <tbody>\n",
       "    <tr>\n",
       "      <th>0</th>\n",
       "      <td>Serena Williams’s Once-In-A-Lifetime Serve</td>\n",
       "      <td>42</td>\n",
       "      <td>sports</td>\n",
       "      <td>1</td>\n",
       "      <td>1.661814e+09</td>\n",
       "      <td>420116.161326</td>\n",
       "      <td>1</td>\n",
       "      <td>1</td>\n",
       "      <td>0</td>\n",
       "    </tr>\n",
       "    <tr>\n",
       "      <th>1</th>\n",
       "      <td>Wholesome moment, \"Ichiro Girl\" throws out fir...</td>\n",
       "      <td>98</td>\n",
       "      <td>sports</td>\n",
       "      <td>1413</td>\n",
       "      <td>1.661797e+09</td>\n",
       "      <td>436886.161326</td>\n",
       "      <td>0</td>\n",
       "      <td>1</td>\n",
       "      <td>50</td>\n",
       "    </tr>\n",
       "    <tr>\n",
       "      <th>2</th>\n",
       "      <td>Williams' goodbye &amp;amp; Raducanu's defence top...</td>\n",
       "      <td>59</td>\n",
       "      <td>sports</td>\n",
       "      <td>5</td>\n",
       "      <td>1.661797e+09</td>\n",
       "      <td>437390.161326</td>\n",
       "      <td>0</td>\n",
       "      <td>1</td>\n",
       "      <td>1</td>\n",
       "    </tr>\n",
       "    <tr>\n",
       "      <th>3</th>\n",
       "      <td>Duke volleyball player: BYU slow to act on slurs</td>\n",
       "      <td>48</td>\n",
       "      <td>sports</td>\n",
       "      <td>4962</td>\n",
       "      <td>1.661787e+09</td>\n",
       "      <td>447296.161326</td>\n",
       "      <td>1</td>\n",
       "      <td>1</td>\n",
       "      <td>703</td>\n",
       "    </tr>\n",
       "    <tr>\n",
       "      <th>4</th>\n",
       "      <td>[ESPN] Washington Commanders RB Brian Robinson...</td>\n",
       "      <td>139</td>\n",
       "      <td>sports</td>\n",
       "      <td>55</td>\n",
       "      <td>1.661743e+09</td>\n",
       "      <td>490948.161326</td>\n",
       "      <td>1</td>\n",
       "      <td>1</td>\n",
       "      <td>5</td>\n",
       "    </tr>\n",
       "    <tr>\n",
       "      <th>...</th>\n",
       "      <td>...</td>\n",
       "      <td>...</td>\n",
       "      <td>...</td>\n",
       "      <td>...</td>\n",
       "      <td>...</td>\n",
       "      <td>...</td>\n",
       "      <td>...</td>\n",
       "      <td>...</td>\n",
       "      <td>...</td>\n",
       "    </tr>\n",
       "    <tr>\n",
       "      <th>18473</th>\n",
       "      <td>First set of clubs</td>\n",
       "      <td>18</td>\n",
       "      <td>golf</td>\n",
       "      <td>2</td>\n",
       "      <td>1.661813e+09</td>\n",
       "      <td>422496.561974</td>\n",
       "      <td>0</td>\n",
       "      <td>1</td>\n",
       "      <td>6</td>\n",
       "    </tr>\n",
       "    <tr>\n",
       "      <th>18474</th>\n",
       "      <td>Bought a used set of stealths off 2nd swing, o...</td>\n",
       "      <td>114</td>\n",
       "      <td>golf</td>\n",
       "      <td>77</td>\n",
       "      <td>1.661812e+09</td>\n",
       "      <td>423590.561974</td>\n",
       "      <td>0</td>\n",
       "      <td>1</td>\n",
       "      <td>20</td>\n",
       "    </tr>\n",
       "    <tr>\n",
       "      <th>18475</th>\n",
       "      <td>New Taylormade irons release?</td>\n",
       "      <td>29</td>\n",
       "      <td>golf</td>\n",
       "      <td>0</td>\n",
       "      <td>1.661812e+09</td>\n",
       "      <td>423744.561974</td>\n",
       "      <td>0</td>\n",
       "      <td>1</td>\n",
       "      <td>1</td>\n",
       "    </tr>\n",
       "    <tr>\n",
       "      <th>18476</th>\n",
       "      <td>How do you breath during your swing?</td>\n",
       "      <td>36</td>\n",
       "      <td>golf</td>\n",
       "      <td>4</td>\n",
       "      <td>1.661812e+09</td>\n",
       "      <td>423974.561974</td>\n",
       "      <td>0</td>\n",
       "      <td>0</td>\n",
       "      <td>20</td>\n",
       "    </tr>\n",
       "    <tr>\n",
       "      <th>18477</th>\n",
       "      <td>I Want To Start Walking Courses</td>\n",
       "      <td>31</td>\n",
       "      <td>golf</td>\n",
       "      <td>9</td>\n",
       "      <td>1.661810e+09</td>\n",
       "      <td>425555.561974</td>\n",
       "      <td>0</td>\n",
       "      <td>0</td>\n",
       "      <td>54</td>\n",
       "    </tr>\n",
       "  </tbody>\n",
       "</table>\n",
       "<p>18478 rows × 9 columns</p>\n",
       "</div>\n",
       "      <button class=\"colab-df-convert\" onclick=\"convertToInteractive('df-a0097a18-0653-4f2c-894e-ed9068383551')\"\n",
       "              title=\"Convert this dataframe to an interactive table.\"\n",
       "              style=\"display:none;\">\n",
       "        \n",
       "  <svg xmlns=\"http://www.w3.org/2000/svg\" height=\"24px\"viewBox=\"0 0 24 24\"\n",
       "       width=\"24px\">\n",
       "    <path d=\"M0 0h24v24H0V0z\" fill=\"none\"/>\n",
       "    <path d=\"M18.56 5.44l.94 2.06.94-2.06 2.06-.94-2.06-.94-.94-2.06-.94 2.06-2.06.94zm-11 1L8.5 8.5l.94-2.06 2.06-.94-2.06-.94L8.5 2.5l-.94 2.06-2.06.94zm10 10l.94 2.06.94-2.06 2.06-.94-2.06-.94-.94-2.06-.94 2.06-2.06.94z\"/><path d=\"M17.41 7.96l-1.37-1.37c-.4-.4-.92-.59-1.43-.59-.52 0-1.04.2-1.43.59L10.3 9.45l-7.72 7.72c-.78.78-.78 2.05 0 2.83L4 21.41c.39.39.9.59 1.41.59.51 0 1.02-.2 1.41-.59l7.78-7.78 2.81-2.81c.8-.78.8-2.07 0-2.86zM5.41 20L4 18.59l7.72-7.72 1.47 1.35L5.41 20z\"/>\n",
       "  </svg>\n",
       "      </button>\n",
       "      \n",
       "  <style>\n",
       "    .colab-df-container {\n",
       "      display:flex;\n",
       "      flex-wrap:wrap;\n",
       "      gap: 12px;\n",
       "    }\n",
       "\n",
       "    .colab-df-convert {\n",
       "      background-color: #E8F0FE;\n",
       "      border: none;\n",
       "      border-radius: 50%;\n",
       "      cursor: pointer;\n",
       "      display: none;\n",
       "      fill: #1967D2;\n",
       "      height: 32px;\n",
       "      padding: 0 0 0 0;\n",
       "      width: 32px;\n",
       "    }\n",
       "\n",
       "    .colab-df-convert:hover {\n",
       "      background-color: #E2EBFA;\n",
       "      box-shadow: 0px 1px 2px rgba(60, 64, 67, 0.3), 0px 1px 3px 1px rgba(60, 64, 67, 0.15);\n",
       "      fill: #174EA6;\n",
       "    }\n",
       "\n",
       "    [theme=dark] .colab-df-convert {\n",
       "      background-color: #3B4455;\n",
       "      fill: #D2E3FC;\n",
       "    }\n",
       "\n",
       "    [theme=dark] .colab-df-convert:hover {\n",
       "      background-color: #434B5C;\n",
       "      box-shadow: 0px 1px 3px 1px rgba(0, 0, 0, 0.15);\n",
       "      filter: drop-shadow(0px 1px 2px rgba(0, 0, 0, 0.3));\n",
       "      fill: #FFFFFF;\n",
       "    }\n",
       "  </style>\n",
       "\n",
       "      <script>\n",
       "        const buttonEl =\n",
       "          document.querySelector('#df-a0097a18-0653-4f2c-894e-ed9068383551 button.colab-df-convert');\n",
       "        buttonEl.style.display =\n",
       "          google.colab.kernel.accessAllowed ? 'block' : 'none';\n",
       "\n",
       "        async function convertToInteractive(key) {\n",
       "          const element = document.querySelector('#df-a0097a18-0653-4f2c-894e-ed9068383551');\n",
       "          const dataTable =\n",
       "            await google.colab.kernel.invokeFunction('convertToInteractive',\n",
       "                                                     [key], {});\n",
       "          if (!dataTable) return;\n",
       "\n",
       "          const docLinkHtml = 'Like what you see? Visit the ' +\n",
       "            '<a target=\"_blank\" href=https://colab.research.google.com/notebooks/data_table.ipynb>data table notebook</a>'\n",
       "            + ' to learn more about interactive tables.';\n",
       "          element.innerHTML = '';\n",
       "          dataTable['output_type'] = 'display_data';\n",
       "          await google.colab.output.renderOutput(dataTable, element);\n",
       "          const docLink = document.createElement('div');\n",
       "          docLink.innerHTML = docLinkHtml;\n",
       "          element.appendChild(docLink);\n",
       "        }\n",
       "      </script>\n",
       "    </div>\n",
       "  </div>\n",
       "  "
      ],
      "text/plain": [
       "                                                   title  title_len subreddit  \\\n",
       "0             Serena Williams’s Once-In-A-Lifetime Serve         42    sports   \n",
       "1      Wholesome moment, \"Ichiro Girl\" throws out fir...         98    sports   \n",
       "2      Williams' goodbye &amp; Raducanu's defence top...         59    sports   \n",
       "3       Duke volleyball player: BYU slow to act on slurs         48    sports   \n",
       "4      [ESPN] Washington Commanders RB Brian Robinson...        139    sports   \n",
       "...                                                  ...        ...       ...   \n",
       "18473                                 First set of clubs         18      golf   \n",
       "18474  Bought a used set of stealths off 2nd swing, o...        114      golf   \n",
       "18475                      New Taylormade irons release?         29      golf   \n",
       "18476               How do you breath during your swing?         36      golf   \n",
       "18477                    I Want To Start Walking Courses         31      golf   \n",
       "\n",
       "       score   created_utc            age  has_authtext  has_linktext  \\\n",
       "0          1  1.661814e+09  420116.161326             1             1   \n",
       "1       1413  1.661797e+09  436886.161326             0             1   \n",
       "2          5  1.661797e+09  437390.161326             0             1   \n",
       "3       4962  1.661787e+09  447296.161326             1             1   \n",
       "4         55  1.661743e+09  490948.161326             1             1   \n",
       "...      ...           ...            ...           ...           ...   \n",
       "18473      2  1.661813e+09  422496.561974             0             1   \n",
       "18474     77  1.661812e+09  423590.561974             0             1   \n",
       "18475      0  1.661812e+09  423744.561974             0             1   \n",
       "18476      4  1.661812e+09  423974.561974             0             0   \n",
       "18477      9  1.661810e+09  425555.561974             0             0   \n",
       "\n",
       "       num_comments  \n",
       "0                 0  \n",
       "1                50  \n",
       "2                 1  \n",
       "3               703  \n",
       "4                 5  \n",
       "...             ...  \n",
       "18473             6  \n",
       "18474            20  \n",
       "18475             1  \n",
       "18476            20  \n",
       "18477            54  \n",
       "\n",
       "[18478 rows x 9 columns]"
      ]
     },
     "execution_count": 3,
     "metadata": {},
     "output_type": "execute_result"
    }
   ],
   "source": [
    "posts"
   ]
  },
  {
   "cell_type": "code",
   "execution_count": 4,
   "metadata": {
    "id": "pBnrnlWC26O5"
   },
   "outputs": [],
   "source": [
    "# determined in other work that column named 'subreddit' is a problem because this word appears in titles\n",
    "# renaming 'subreddit' to 'subred'\n",
    "posts.rename(columns={'subreddit': 'subred'}, inplace=True)"
   ]
  },
  {
   "cell_type": "markdown",
   "metadata": {
    "id": "C_vOQabUTNij"
   },
   "source": [
    "### Text EDA with CountVectorizer"
   ]
  },
  {
   "cell_type": "code",
   "execution_count": 5,
   "metadata": {
    "id": "q_2irW5nNeH3"
   },
   "outputs": [],
   "source": [
    "cvec = CountVectorizer(stop_words='english')\n",
    "text = cvec.fit_transform(posts['title'])"
   ]
  },
  {
   "cell_type": "code",
   "execution_count": 6,
   "metadata": {
    "id": "vvAeujUhTFLI"
   },
   "outputs": [],
   "source": [
    "cvec_df = pd.DataFrame(text.todense(), columns=cvec.get_feature_names_out())"
   ]
  },
  {
   "cell_type": "code",
   "execution_count": 7,
   "metadata": {
    "colab": {
     "base_uri": "https://localhost:8080/",
     "height": 423
    },
    "id": "ZhHRYfNHNeFO",
    "outputId": "71f83d82-1d16-475d-9a32-ec27dd57447e"
   },
   "outputs": [
    {
     "data": {
      "text/html": [
       "\n",
       "  <div id=\"df-61ab929b-4bf1-47c8-b5ee-69829e9557b2\">\n",
       "    <div class=\"colab-df-container\">\n",
       "      <div>\n",
       "<style scoped>\n",
       "    .dataframe tbody tr th:only-of-type {\n",
       "        vertical-align: middle;\n",
       "    }\n",
       "\n",
       "    .dataframe tbody tr th {\n",
       "        vertical-align: top;\n",
       "    }\n",
       "\n",
       "    .dataframe thead th {\n",
       "        text-align: right;\n",
       "    }\n",
       "</style>\n",
       "<table border=\"1\" class=\"dataframe\">\n",
       "  <thead>\n",
       "    <tr style=\"text-align: right;\">\n",
       "      <th></th>\n",
       "      <th>00</th>\n",
       "      <th>000</th>\n",
       "      <th>000km</th>\n",
       "      <th>000m</th>\n",
       "      <th>000th</th>\n",
       "      <th>000usd</th>\n",
       "      <th>001</th>\n",
       "      <th>001sec</th>\n",
       "      <th>004</th>\n",
       "      <th>009</th>\n",
       "      <th>...</th>\n",
       "      <th>𝐜𝐚𝐭𝐜𝐡</th>\n",
       "      <th>𝐨𝐧</th>\n",
       "      <th>𝐭𝐡𝐞</th>\n",
       "      <th>𝒕𝒂𝒓𝒈𝒆𝒕𝒆𝒅</th>\n",
       "      <th>𝗝𝗨𝗦𝗧</th>\n",
       "      <th>𝗦𝗜𝗚𝗡𝗘𝗗</th>\n",
       "      <th>𝘽𝙇𝙊𝙊𝘿𝙎</th>\n",
       "      <th>𝙉𝙀𝙒</th>\n",
       "      <th>𝙋𝙍𝙀𝙎𝙀𝙉𝙏𝙎</th>\n",
       "      <th>𝟐𝟎𝟐𝟐</th>\n",
       "    </tr>\n",
       "  </thead>\n",
       "  <tbody>\n",
       "    <tr>\n",
       "      <th>0</th>\n",
       "      <td>0</td>\n",
       "      <td>0</td>\n",
       "      <td>0</td>\n",
       "      <td>0</td>\n",
       "      <td>0</td>\n",
       "      <td>0</td>\n",
       "      <td>0</td>\n",
       "      <td>0</td>\n",
       "      <td>0</td>\n",
       "      <td>0</td>\n",
       "      <td>...</td>\n",
       "      <td>0</td>\n",
       "      <td>0</td>\n",
       "      <td>0</td>\n",
       "      <td>0</td>\n",
       "      <td>0</td>\n",
       "      <td>0</td>\n",
       "      <td>0</td>\n",
       "      <td>0</td>\n",
       "      <td>0</td>\n",
       "      <td>0</td>\n",
       "    </tr>\n",
       "    <tr>\n",
       "      <th>1</th>\n",
       "      <td>0</td>\n",
       "      <td>0</td>\n",
       "      <td>0</td>\n",
       "      <td>0</td>\n",
       "      <td>0</td>\n",
       "      <td>0</td>\n",
       "      <td>0</td>\n",
       "      <td>0</td>\n",
       "      <td>0</td>\n",
       "      <td>0</td>\n",
       "      <td>...</td>\n",
       "      <td>0</td>\n",
       "      <td>0</td>\n",
       "      <td>0</td>\n",
       "      <td>0</td>\n",
       "      <td>0</td>\n",
       "      <td>0</td>\n",
       "      <td>0</td>\n",
       "      <td>0</td>\n",
       "      <td>0</td>\n",
       "      <td>0</td>\n",
       "    </tr>\n",
       "    <tr>\n",
       "      <th>2</th>\n",
       "      <td>0</td>\n",
       "      <td>0</td>\n",
       "      <td>0</td>\n",
       "      <td>0</td>\n",
       "      <td>0</td>\n",
       "      <td>0</td>\n",
       "      <td>0</td>\n",
       "      <td>0</td>\n",
       "      <td>0</td>\n",
       "      <td>0</td>\n",
       "      <td>...</td>\n",
       "      <td>0</td>\n",
       "      <td>0</td>\n",
       "      <td>0</td>\n",
       "      <td>0</td>\n",
       "      <td>0</td>\n",
       "      <td>0</td>\n",
       "      <td>0</td>\n",
       "      <td>0</td>\n",
       "      <td>0</td>\n",
       "      <td>0</td>\n",
       "    </tr>\n",
       "    <tr>\n",
       "      <th>3</th>\n",
       "      <td>0</td>\n",
       "      <td>0</td>\n",
       "      <td>0</td>\n",
       "      <td>0</td>\n",
       "      <td>0</td>\n",
       "      <td>0</td>\n",
       "      <td>0</td>\n",
       "      <td>0</td>\n",
       "      <td>0</td>\n",
       "      <td>0</td>\n",
       "      <td>...</td>\n",
       "      <td>0</td>\n",
       "      <td>0</td>\n",
       "      <td>0</td>\n",
       "      <td>0</td>\n",
       "      <td>0</td>\n",
       "      <td>0</td>\n",
       "      <td>0</td>\n",
       "      <td>0</td>\n",
       "      <td>0</td>\n",
       "      <td>0</td>\n",
       "    </tr>\n",
       "    <tr>\n",
       "      <th>4</th>\n",
       "      <td>0</td>\n",
       "      <td>0</td>\n",
       "      <td>0</td>\n",
       "      <td>0</td>\n",
       "      <td>0</td>\n",
       "      <td>0</td>\n",
       "      <td>0</td>\n",
       "      <td>0</td>\n",
       "      <td>0</td>\n",
       "      <td>0</td>\n",
       "      <td>...</td>\n",
       "      <td>0</td>\n",
       "      <td>0</td>\n",
       "      <td>0</td>\n",
       "      <td>0</td>\n",
       "      <td>0</td>\n",
       "      <td>0</td>\n",
       "      <td>0</td>\n",
       "      <td>0</td>\n",
       "      <td>0</td>\n",
       "      <td>0</td>\n",
       "    </tr>\n",
       "    <tr>\n",
       "      <th>...</th>\n",
       "      <td>...</td>\n",
       "      <td>...</td>\n",
       "      <td>...</td>\n",
       "      <td>...</td>\n",
       "      <td>...</td>\n",
       "      <td>...</td>\n",
       "      <td>...</td>\n",
       "      <td>...</td>\n",
       "      <td>...</td>\n",
       "      <td>...</td>\n",
       "      <td>...</td>\n",
       "      <td>...</td>\n",
       "      <td>...</td>\n",
       "      <td>...</td>\n",
       "      <td>...</td>\n",
       "      <td>...</td>\n",
       "      <td>...</td>\n",
       "      <td>...</td>\n",
       "      <td>...</td>\n",
       "      <td>...</td>\n",
       "      <td>...</td>\n",
       "    </tr>\n",
       "    <tr>\n",
       "      <th>18473</th>\n",
       "      <td>0</td>\n",
       "      <td>0</td>\n",
       "      <td>0</td>\n",
       "      <td>0</td>\n",
       "      <td>0</td>\n",
       "      <td>0</td>\n",
       "      <td>0</td>\n",
       "      <td>0</td>\n",
       "      <td>0</td>\n",
       "      <td>0</td>\n",
       "      <td>...</td>\n",
       "      <td>0</td>\n",
       "      <td>0</td>\n",
       "      <td>0</td>\n",
       "      <td>0</td>\n",
       "      <td>0</td>\n",
       "      <td>0</td>\n",
       "      <td>0</td>\n",
       "      <td>0</td>\n",
       "      <td>0</td>\n",
       "      <td>0</td>\n",
       "    </tr>\n",
       "    <tr>\n",
       "      <th>18474</th>\n",
       "      <td>0</td>\n",
       "      <td>0</td>\n",
       "      <td>0</td>\n",
       "      <td>0</td>\n",
       "      <td>0</td>\n",
       "      <td>0</td>\n",
       "      <td>0</td>\n",
       "      <td>0</td>\n",
       "      <td>0</td>\n",
       "      <td>0</td>\n",
       "      <td>...</td>\n",
       "      <td>0</td>\n",
       "      <td>0</td>\n",
       "      <td>0</td>\n",
       "      <td>0</td>\n",
       "      <td>0</td>\n",
       "      <td>0</td>\n",
       "      <td>0</td>\n",
       "      <td>0</td>\n",
       "      <td>0</td>\n",
       "      <td>0</td>\n",
       "    </tr>\n",
       "    <tr>\n",
       "      <th>18475</th>\n",
       "      <td>0</td>\n",
       "      <td>0</td>\n",
       "      <td>0</td>\n",
       "      <td>0</td>\n",
       "      <td>0</td>\n",
       "      <td>0</td>\n",
       "      <td>0</td>\n",
       "      <td>0</td>\n",
       "      <td>0</td>\n",
       "      <td>0</td>\n",
       "      <td>...</td>\n",
       "      <td>0</td>\n",
       "      <td>0</td>\n",
       "      <td>0</td>\n",
       "      <td>0</td>\n",
       "      <td>0</td>\n",
       "      <td>0</td>\n",
       "      <td>0</td>\n",
       "      <td>0</td>\n",
       "      <td>0</td>\n",
       "      <td>0</td>\n",
       "    </tr>\n",
       "    <tr>\n",
       "      <th>18476</th>\n",
       "      <td>0</td>\n",
       "      <td>0</td>\n",
       "      <td>0</td>\n",
       "      <td>0</td>\n",
       "      <td>0</td>\n",
       "      <td>0</td>\n",
       "      <td>0</td>\n",
       "      <td>0</td>\n",
       "      <td>0</td>\n",
       "      <td>0</td>\n",
       "      <td>...</td>\n",
       "      <td>0</td>\n",
       "      <td>0</td>\n",
       "      <td>0</td>\n",
       "      <td>0</td>\n",
       "      <td>0</td>\n",
       "      <td>0</td>\n",
       "      <td>0</td>\n",
       "      <td>0</td>\n",
       "      <td>0</td>\n",
       "      <td>0</td>\n",
       "    </tr>\n",
       "    <tr>\n",
       "      <th>18477</th>\n",
       "      <td>0</td>\n",
       "      <td>0</td>\n",
       "      <td>0</td>\n",
       "      <td>0</td>\n",
       "      <td>0</td>\n",
       "      <td>0</td>\n",
       "      <td>0</td>\n",
       "      <td>0</td>\n",
       "      <td>0</td>\n",
       "      <td>0</td>\n",
       "      <td>...</td>\n",
       "      <td>0</td>\n",
       "      <td>0</td>\n",
       "      <td>0</td>\n",
       "      <td>0</td>\n",
       "      <td>0</td>\n",
       "      <td>0</td>\n",
       "      <td>0</td>\n",
       "      <td>0</td>\n",
       "      <td>0</td>\n",
       "      <td>0</td>\n",
       "    </tr>\n",
       "  </tbody>\n",
       "</table>\n",
       "<p>18478 rows × 22463 columns</p>\n",
       "</div>\n",
       "      <button class=\"colab-df-convert\" onclick=\"convertToInteractive('df-61ab929b-4bf1-47c8-b5ee-69829e9557b2')\"\n",
       "              title=\"Convert this dataframe to an interactive table.\"\n",
       "              style=\"display:none;\">\n",
       "        \n",
       "  <svg xmlns=\"http://www.w3.org/2000/svg\" height=\"24px\"viewBox=\"0 0 24 24\"\n",
       "       width=\"24px\">\n",
       "    <path d=\"M0 0h24v24H0V0z\" fill=\"none\"/>\n",
       "    <path d=\"M18.56 5.44l.94 2.06.94-2.06 2.06-.94-2.06-.94-.94-2.06-.94 2.06-2.06.94zm-11 1L8.5 8.5l.94-2.06 2.06-.94-2.06-.94L8.5 2.5l-.94 2.06-2.06.94zm10 10l.94 2.06.94-2.06 2.06-.94-2.06-.94-.94-2.06-.94 2.06-2.06.94z\"/><path d=\"M17.41 7.96l-1.37-1.37c-.4-.4-.92-.59-1.43-.59-.52 0-1.04.2-1.43.59L10.3 9.45l-7.72 7.72c-.78.78-.78 2.05 0 2.83L4 21.41c.39.39.9.59 1.41.59.51 0 1.02-.2 1.41-.59l7.78-7.78 2.81-2.81c.8-.78.8-2.07 0-2.86zM5.41 20L4 18.59l7.72-7.72 1.47 1.35L5.41 20z\"/>\n",
       "  </svg>\n",
       "      </button>\n",
       "      \n",
       "  <style>\n",
       "    .colab-df-container {\n",
       "      display:flex;\n",
       "      flex-wrap:wrap;\n",
       "      gap: 12px;\n",
       "    }\n",
       "\n",
       "    .colab-df-convert {\n",
       "      background-color: #E8F0FE;\n",
       "      border: none;\n",
       "      border-radius: 50%;\n",
       "      cursor: pointer;\n",
       "      display: none;\n",
       "      fill: #1967D2;\n",
       "      height: 32px;\n",
       "      padding: 0 0 0 0;\n",
       "      width: 32px;\n",
       "    }\n",
       "\n",
       "    .colab-df-convert:hover {\n",
       "      background-color: #E2EBFA;\n",
       "      box-shadow: 0px 1px 2px rgba(60, 64, 67, 0.3), 0px 1px 3px 1px rgba(60, 64, 67, 0.15);\n",
       "      fill: #174EA6;\n",
       "    }\n",
       "\n",
       "    [theme=dark] .colab-df-convert {\n",
       "      background-color: #3B4455;\n",
       "      fill: #D2E3FC;\n",
       "    }\n",
       "\n",
       "    [theme=dark] .colab-df-convert:hover {\n",
       "      background-color: #434B5C;\n",
       "      box-shadow: 0px 1px 3px 1px rgba(0, 0, 0, 0.15);\n",
       "      filter: drop-shadow(0px 1px 2px rgba(0, 0, 0, 0.3));\n",
       "      fill: #FFFFFF;\n",
       "    }\n",
       "  </style>\n",
       "\n",
       "      <script>\n",
       "        const buttonEl =\n",
       "          document.querySelector('#df-61ab929b-4bf1-47c8-b5ee-69829e9557b2 button.colab-df-convert');\n",
       "        buttonEl.style.display =\n",
       "          google.colab.kernel.accessAllowed ? 'block' : 'none';\n",
       "\n",
       "        async function convertToInteractive(key) {\n",
       "          const element = document.querySelector('#df-61ab929b-4bf1-47c8-b5ee-69829e9557b2');\n",
       "          const dataTable =\n",
       "            await google.colab.kernel.invokeFunction('convertToInteractive',\n",
       "                                                     [key], {});\n",
       "          if (!dataTable) return;\n",
       "\n",
       "          const docLinkHtml = 'Like what you see? Visit the ' +\n",
       "            '<a target=\"_blank\" href=https://colab.research.google.com/notebooks/data_table.ipynb>data table notebook</a>'\n",
       "            + ' to learn more about interactive tables.';\n",
       "          element.innerHTML = '';\n",
       "          dataTable['output_type'] = 'display_data';\n",
       "          await google.colab.output.renderOutput(dataTable, element);\n",
       "          const docLink = document.createElement('div');\n",
       "          docLink.innerHTML = docLinkHtml;\n",
       "          element.appendChild(docLink);\n",
       "        }\n",
       "      </script>\n",
       "    </div>\n",
       "  </div>\n",
       "  "
      ],
      "text/plain": [
       "       00  000  000km  000m  000th  000usd  001  001sec  004  009  ...  𝐜𝐚𝐭𝐜𝐡  \\\n",
       "0       0    0      0     0      0       0    0       0    0    0  ...      0   \n",
       "1       0    0      0     0      0       0    0       0    0    0  ...      0   \n",
       "2       0    0      0     0      0       0    0       0    0    0  ...      0   \n",
       "3       0    0      0     0      0       0    0       0    0    0  ...      0   \n",
       "4       0    0      0     0      0       0    0       0    0    0  ...      0   \n",
       "...    ..  ...    ...   ...    ...     ...  ...     ...  ...  ...  ...    ...   \n",
       "18473   0    0      0     0      0       0    0       0    0    0  ...      0   \n",
       "18474   0    0      0     0      0       0    0       0    0    0  ...      0   \n",
       "18475   0    0      0     0      0       0    0       0    0    0  ...      0   \n",
       "18476   0    0      0     0      0       0    0       0    0    0  ...      0   \n",
       "18477   0    0      0     0      0       0    0       0    0    0  ...      0   \n",
       "\n",
       "       𝐨𝐧  𝐭𝐡𝐞  𝒕𝒂𝒓𝒈𝒆𝒕𝒆𝒅  𝗝𝗨𝗦𝗧  𝗦𝗜𝗚𝗡𝗘𝗗  𝘽𝙇𝙊𝙊𝘿𝙎  𝙉𝙀𝙒  𝙋𝙍𝙀𝙎𝙀𝙉𝙏𝙎  𝟐𝟎𝟐𝟐  \n",
       "0       0    0         0     0       0       0    0         0     0  \n",
       "1       0    0         0     0       0       0    0         0     0  \n",
       "2       0    0         0     0       0       0    0         0     0  \n",
       "3       0    0         0     0       0       0    0         0     0  \n",
       "4       0    0         0     0       0       0    0         0     0  \n",
       "...    ..  ...       ...   ...     ...     ...  ...       ...   ...  \n",
       "18473   0    0         0     0       0       0    0         0     0  \n",
       "18474   0    0         0     0       0       0    0         0     0  \n",
       "18475   0    0         0     0       0       0    0         0     0  \n",
       "18476   0    0         0     0       0       0    0         0     0  \n",
       "18477   0    0         0     0       0       0    0         0     0  \n",
       "\n",
       "[18478 rows x 22463 columns]"
      ]
     },
     "execution_count": 7,
     "metadata": {},
     "output_type": "execute_result"
    }
   ],
   "source": [
    "cvec_df"
   ]
  },
  {
   "cell_type": "code",
   "execution_count": 8,
   "metadata": {
    "id": "qrJiWgXWNeAV"
   },
   "outputs": [],
   "source": [
    "# throws error:\n",
    "# cvec_df['on'].sum()"
   ]
  },
  {
   "cell_type": "markdown",
   "metadata": {
    "id": "OQQnRHv7WE8T"
   },
   "source": [
    "Above df appears to include columns for stop_words in Google Colab, but doesn't actually. Unclear why Colab is still displaying columns for these words."
   ]
  },
  {
   "cell_type": "code",
   "execution_count": 9,
   "metadata": {
    "colab": {
     "base_uri": "https://localhost:8080/"
    },
    "id": "IvtkGBbrNd-C",
    "outputId": "fa1b629e-1ee5-451d-b3df-7770da00c242"
   },
   "outputs": [
    {
     "data": {
      "text/plain": [
       "101"
      ]
     },
     "execution_count": 9,
     "metadata": {},
     "output_type": "execute_result"
    }
   ],
   "source": [
    "# check popular word\n",
    "cvec_df['goal'].sum()"
   ]
  },
  {
   "cell_type": "code",
   "execution_count": 10,
   "metadata": {
    "id": "HNCzp5zXNd7l"
   },
   "outputs": [],
   "source": [
    "# combine text features with original columns\n",
    "full_cvec_df = pd.concat([posts.drop(columns='title'), cvec_df], axis=1)"
   ]
  },
  {
   "cell_type": "code",
   "execution_count": 11,
   "metadata": {
    "colab": {
     "base_uri": "https://localhost:8080/",
     "height": 423
    },
    "id": "sZ6n-5ohNd5I",
    "outputId": "a6a2e801-b1cf-4c3b-8a4b-b5728e9f7fee"
   },
   "outputs": [
    {
     "data": {
      "text/html": [
       "\n",
       "  <div id=\"df-cf27ddbd-21d3-4833-9cd1-6398f20dc184\">\n",
       "    <div class=\"colab-df-container\">\n",
       "      <div>\n",
       "<style scoped>\n",
       "    .dataframe tbody tr th:only-of-type {\n",
       "        vertical-align: middle;\n",
       "    }\n",
       "\n",
       "    .dataframe tbody tr th {\n",
       "        vertical-align: top;\n",
       "    }\n",
       "\n",
       "    .dataframe thead th {\n",
       "        text-align: right;\n",
       "    }\n",
       "</style>\n",
       "<table border=\"1\" class=\"dataframe\">\n",
       "  <thead>\n",
       "    <tr style=\"text-align: right;\">\n",
       "      <th></th>\n",
       "      <th>title_len</th>\n",
       "      <th>subred</th>\n",
       "      <th>score</th>\n",
       "      <th>created_utc</th>\n",
       "      <th>age</th>\n",
       "      <th>has_authtext</th>\n",
       "      <th>has_linktext</th>\n",
       "      <th>num_comments</th>\n",
       "      <th>00</th>\n",
       "      <th>000</th>\n",
       "      <th>...</th>\n",
       "      <th>𝐜𝐚𝐭𝐜𝐡</th>\n",
       "      <th>𝐨𝐧</th>\n",
       "      <th>𝐭𝐡𝐞</th>\n",
       "      <th>𝒕𝒂𝒓𝒈𝒆𝒕𝒆𝒅</th>\n",
       "      <th>𝗝𝗨𝗦𝗧</th>\n",
       "      <th>𝗦𝗜𝗚𝗡𝗘𝗗</th>\n",
       "      <th>𝘽𝙇𝙊𝙊𝘿𝙎</th>\n",
       "      <th>𝙉𝙀𝙒</th>\n",
       "      <th>𝙋𝙍𝙀𝙎𝙀𝙉𝙏𝙎</th>\n",
       "      <th>𝟐𝟎𝟐𝟐</th>\n",
       "    </tr>\n",
       "  </thead>\n",
       "  <tbody>\n",
       "    <tr>\n",
       "      <th>0</th>\n",
       "      <td>42</td>\n",
       "      <td>sports</td>\n",
       "      <td>1</td>\n",
       "      <td>1.661814e+09</td>\n",
       "      <td>420116.161326</td>\n",
       "      <td>1</td>\n",
       "      <td>1</td>\n",
       "      <td>0</td>\n",
       "      <td>0</td>\n",
       "      <td>0</td>\n",
       "      <td>...</td>\n",
       "      <td>0</td>\n",
       "      <td>0</td>\n",
       "      <td>0</td>\n",
       "      <td>0</td>\n",
       "      <td>0</td>\n",
       "      <td>0</td>\n",
       "      <td>0</td>\n",
       "      <td>0</td>\n",
       "      <td>0</td>\n",
       "      <td>0</td>\n",
       "    </tr>\n",
       "    <tr>\n",
       "      <th>1</th>\n",
       "      <td>98</td>\n",
       "      <td>sports</td>\n",
       "      <td>1413</td>\n",
       "      <td>1.661797e+09</td>\n",
       "      <td>436886.161326</td>\n",
       "      <td>0</td>\n",
       "      <td>1</td>\n",
       "      <td>50</td>\n",
       "      <td>0</td>\n",
       "      <td>0</td>\n",
       "      <td>...</td>\n",
       "      <td>0</td>\n",
       "      <td>0</td>\n",
       "      <td>0</td>\n",
       "      <td>0</td>\n",
       "      <td>0</td>\n",
       "      <td>0</td>\n",
       "      <td>0</td>\n",
       "      <td>0</td>\n",
       "      <td>0</td>\n",
       "      <td>0</td>\n",
       "    </tr>\n",
       "    <tr>\n",
       "      <th>2</th>\n",
       "      <td>59</td>\n",
       "      <td>sports</td>\n",
       "      <td>5</td>\n",
       "      <td>1.661797e+09</td>\n",
       "      <td>437390.161326</td>\n",
       "      <td>0</td>\n",
       "      <td>1</td>\n",
       "      <td>1</td>\n",
       "      <td>0</td>\n",
       "      <td>0</td>\n",
       "      <td>...</td>\n",
       "      <td>0</td>\n",
       "      <td>0</td>\n",
       "      <td>0</td>\n",
       "      <td>0</td>\n",
       "      <td>0</td>\n",
       "      <td>0</td>\n",
       "      <td>0</td>\n",
       "      <td>0</td>\n",
       "      <td>0</td>\n",
       "      <td>0</td>\n",
       "    </tr>\n",
       "    <tr>\n",
       "      <th>3</th>\n",
       "      <td>48</td>\n",
       "      <td>sports</td>\n",
       "      <td>4962</td>\n",
       "      <td>1.661787e+09</td>\n",
       "      <td>447296.161326</td>\n",
       "      <td>1</td>\n",
       "      <td>1</td>\n",
       "      <td>703</td>\n",
       "      <td>0</td>\n",
       "      <td>0</td>\n",
       "      <td>...</td>\n",
       "      <td>0</td>\n",
       "      <td>0</td>\n",
       "      <td>0</td>\n",
       "      <td>0</td>\n",
       "      <td>0</td>\n",
       "      <td>0</td>\n",
       "      <td>0</td>\n",
       "      <td>0</td>\n",
       "      <td>0</td>\n",
       "      <td>0</td>\n",
       "    </tr>\n",
       "    <tr>\n",
       "      <th>4</th>\n",
       "      <td>139</td>\n",
       "      <td>sports</td>\n",
       "      <td>55</td>\n",
       "      <td>1.661743e+09</td>\n",
       "      <td>490948.161326</td>\n",
       "      <td>1</td>\n",
       "      <td>1</td>\n",
       "      <td>5</td>\n",
       "      <td>0</td>\n",
       "      <td>0</td>\n",
       "      <td>...</td>\n",
       "      <td>0</td>\n",
       "      <td>0</td>\n",
       "      <td>0</td>\n",
       "      <td>0</td>\n",
       "      <td>0</td>\n",
       "      <td>0</td>\n",
       "      <td>0</td>\n",
       "      <td>0</td>\n",
       "      <td>0</td>\n",
       "      <td>0</td>\n",
       "    </tr>\n",
       "    <tr>\n",
       "      <th>...</th>\n",
       "      <td>...</td>\n",
       "      <td>...</td>\n",
       "      <td>...</td>\n",
       "      <td>...</td>\n",
       "      <td>...</td>\n",
       "      <td>...</td>\n",
       "      <td>...</td>\n",
       "      <td>...</td>\n",
       "      <td>...</td>\n",
       "      <td>...</td>\n",
       "      <td>...</td>\n",
       "      <td>...</td>\n",
       "      <td>...</td>\n",
       "      <td>...</td>\n",
       "      <td>...</td>\n",
       "      <td>...</td>\n",
       "      <td>...</td>\n",
       "      <td>...</td>\n",
       "      <td>...</td>\n",
       "      <td>...</td>\n",
       "      <td>...</td>\n",
       "    </tr>\n",
       "    <tr>\n",
       "      <th>18473</th>\n",
       "      <td>18</td>\n",
       "      <td>golf</td>\n",
       "      <td>2</td>\n",
       "      <td>1.661813e+09</td>\n",
       "      <td>422496.561974</td>\n",
       "      <td>0</td>\n",
       "      <td>1</td>\n",
       "      <td>6</td>\n",
       "      <td>0</td>\n",
       "      <td>0</td>\n",
       "      <td>...</td>\n",
       "      <td>0</td>\n",
       "      <td>0</td>\n",
       "      <td>0</td>\n",
       "      <td>0</td>\n",
       "      <td>0</td>\n",
       "      <td>0</td>\n",
       "      <td>0</td>\n",
       "      <td>0</td>\n",
       "      <td>0</td>\n",
       "      <td>0</td>\n",
       "    </tr>\n",
       "    <tr>\n",
       "      <th>18474</th>\n",
       "      <td>114</td>\n",
       "      <td>golf</td>\n",
       "      <td>77</td>\n",
       "      <td>1.661812e+09</td>\n",
       "      <td>423590.561974</td>\n",
       "      <td>0</td>\n",
       "      <td>1</td>\n",
       "      <td>20</td>\n",
       "      <td>0</td>\n",
       "      <td>0</td>\n",
       "      <td>...</td>\n",
       "      <td>0</td>\n",
       "      <td>0</td>\n",
       "      <td>0</td>\n",
       "      <td>0</td>\n",
       "      <td>0</td>\n",
       "      <td>0</td>\n",
       "      <td>0</td>\n",
       "      <td>0</td>\n",
       "      <td>0</td>\n",
       "      <td>0</td>\n",
       "    </tr>\n",
       "    <tr>\n",
       "      <th>18475</th>\n",
       "      <td>29</td>\n",
       "      <td>golf</td>\n",
       "      <td>0</td>\n",
       "      <td>1.661812e+09</td>\n",
       "      <td>423744.561974</td>\n",
       "      <td>0</td>\n",
       "      <td>1</td>\n",
       "      <td>1</td>\n",
       "      <td>0</td>\n",
       "      <td>0</td>\n",
       "      <td>...</td>\n",
       "      <td>0</td>\n",
       "      <td>0</td>\n",
       "      <td>0</td>\n",
       "      <td>0</td>\n",
       "      <td>0</td>\n",
       "      <td>0</td>\n",
       "      <td>0</td>\n",
       "      <td>0</td>\n",
       "      <td>0</td>\n",
       "      <td>0</td>\n",
       "    </tr>\n",
       "    <tr>\n",
       "      <th>18476</th>\n",
       "      <td>36</td>\n",
       "      <td>golf</td>\n",
       "      <td>4</td>\n",
       "      <td>1.661812e+09</td>\n",
       "      <td>423974.561974</td>\n",
       "      <td>0</td>\n",
       "      <td>0</td>\n",
       "      <td>20</td>\n",
       "      <td>0</td>\n",
       "      <td>0</td>\n",
       "      <td>...</td>\n",
       "      <td>0</td>\n",
       "      <td>0</td>\n",
       "      <td>0</td>\n",
       "      <td>0</td>\n",
       "      <td>0</td>\n",
       "      <td>0</td>\n",
       "      <td>0</td>\n",
       "      <td>0</td>\n",
       "      <td>0</td>\n",
       "      <td>0</td>\n",
       "    </tr>\n",
       "    <tr>\n",
       "      <th>18477</th>\n",
       "      <td>31</td>\n",
       "      <td>golf</td>\n",
       "      <td>9</td>\n",
       "      <td>1.661810e+09</td>\n",
       "      <td>425555.561974</td>\n",
       "      <td>0</td>\n",
       "      <td>0</td>\n",
       "      <td>54</td>\n",
       "      <td>0</td>\n",
       "      <td>0</td>\n",
       "      <td>...</td>\n",
       "      <td>0</td>\n",
       "      <td>0</td>\n",
       "      <td>0</td>\n",
       "      <td>0</td>\n",
       "      <td>0</td>\n",
       "      <td>0</td>\n",
       "      <td>0</td>\n",
       "      <td>0</td>\n",
       "      <td>0</td>\n",
       "      <td>0</td>\n",
       "    </tr>\n",
       "  </tbody>\n",
       "</table>\n",
       "<p>18478 rows × 22471 columns</p>\n",
       "</div>\n",
       "      <button class=\"colab-df-convert\" onclick=\"convertToInteractive('df-cf27ddbd-21d3-4833-9cd1-6398f20dc184')\"\n",
       "              title=\"Convert this dataframe to an interactive table.\"\n",
       "              style=\"display:none;\">\n",
       "        \n",
       "  <svg xmlns=\"http://www.w3.org/2000/svg\" height=\"24px\"viewBox=\"0 0 24 24\"\n",
       "       width=\"24px\">\n",
       "    <path d=\"M0 0h24v24H0V0z\" fill=\"none\"/>\n",
       "    <path d=\"M18.56 5.44l.94 2.06.94-2.06 2.06-.94-2.06-.94-.94-2.06-.94 2.06-2.06.94zm-11 1L8.5 8.5l.94-2.06 2.06-.94-2.06-.94L8.5 2.5l-.94 2.06-2.06.94zm10 10l.94 2.06.94-2.06 2.06-.94-2.06-.94-.94-2.06-.94 2.06-2.06.94z\"/><path d=\"M17.41 7.96l-1.37-1.37c-.4-.4-.92-.59-1.43-.59-.52 0-1.04.2-1.43.59L10.3 9.45l-7.72 7.72c-.78.78-.78 2.05 0 2.83L4 21.41c.39.39.9.59 1.41.59.51 0 1.02-.2 1.41-.59l7.78-7.78 2.81-2.81c.8-.78.8-2.07 0-2.86zM5.41 20L4 18.59l7.72-7.72 1.47 1.35L5.41 20z\"/>\n",
       "  </svg>\n",
       "      </button>\n",
       "      \n",
       "  <style>\n",
       "    .colab-df-container {\n",
       "      display:flex;\n",
       "      flex-wrap:wrap;\n",
       "      gap: 12px;\n",
       "    }\n",
       "\n",
       "    .colab-df-convert {\n",
       "      background-color: #E8F0FE;\n",
       "      border: none;\n",
       "      border-radius: 50%;\n",
       "      cursor: pointer;\n",
       "      display: none;\n",
       "      fill: #1967D2;\n",
       "      height: 32px;\n",
       "      padding: 0 0 0 0;\n",
       "      width: 32px;\n",
       "    }\n",
       "\n",
       "    .colab-df-convert:hover {\n",
       "      background-color: #E2EBFA;\n",
       "      box-shadow: 0px 1px 2px rgba(60, 64, 67, 0.3), 0px 1px 3px 1px rgba(60, 64, 67, 0.15);\n",
       "      fill: #174EA6;\n",
       "    }\n",
       "\n",
       "    [theme=dark] .colab-df-convert {\n",
       "      background-color: #3B4455;\n",
       "      fill: #D2E3FC;\n",
       "    }\n",
       "\n",
       "    [theme=dark] .colab-df-convert:hover {\n",
       "      background-color: #434B5C;\n",
       "      box-shadow: 0px 1px 3px 1px rgba(0, 0, 0, 0.15);\n",
       "      filter: drop-shadow(0px 1px 2px rgba(0, 0, 0, 0.3));\n",
       "      fill: #FFFFFF;\n",
       "    }\n",
       "  </style>\n",
       "\n",
       "      <script>\n",
       "        const buttonEl =\n",
       "          document.querySelector('#df-cf27ddbd-21d3-4833-9cd1-6398f20dc184 button.colab-df-convert');\n",
       "        buttonEl.style.display =\n",
       "          google.colab.kernel.accessAllowed ? 'block' : 'none';\n",
       "\n",
       "        async function convertToInteractive(key) {\n",
       "          const element = document.querySelector('#df-cf27ddbd-21d3-4833-9cd1-6398f20dc184');\n",
       "          const dataTable =\n",
       "            await google.colab.kernel.invokeFunction('convertToInteractive',\n",
       "                                                     [key], {});\n",
       "          if (!dataTable) return;\n",
       "\n",
       "          const docLinkHtml = 'Like what you see? Visit the ' +\n",
       "            '<a target=\"_blank\" href=https://colab.research.google.com/notebooks/data_table.ipynb>data table notebook</a>'\n",
       "            + ' to learn more about interactive tables.';\n",
       "          element.innerHTML = '';\n",
       "          dataTable['output_type'] = 'display_data';\n",
       "          await google.colab.output.renderOutput(dataTable, element);\n",
       "          const docLink = document.createElement('div');\n",
       "          docLink.innerHTML = docLinkHtml;\n",
       "          element.appendChild(docLink);\n",
       "        }\n",
       "      </script>\n",
       "    </div>\n",
       "  </div>\n",
       "  "
      ],
      "text/plain": [
       "       title_len  subred  score   created_utc            age  has_authtext  \\\n",
       "0             42  sports      1  1.661814e+09  420116.161326             1   \n",
       "1             98  sports   1413  1.661797e+09  436886.161326             0   \n",
       "2             59  sports      5  1.661797e+09  437390.161326             0   \n",
       "3             48  sports   4962  1.661787e+09  447296.161326             1   \n",
       "4            139  sports     55  1.661743e+09  490948.161326             1   \n",
       "...          ...     ...    ...           ...            ...           ...   \n",
       "18473         18    golf      2  1.661813e+09  422496.561974             0   \n",
       "18474        114    golf     77  1.661812e+09  423590.561974             0   \n",
       "18475         29    golf      0  1.661812e+09  423744.561974             0   \n",
       "18476         36    golf      4  1.661812e+09  423974.561974             0   \n",
       "18477         31    golf      9  1.661810e+09  425555.561974             0   \n",
       "\n",
       "       has_linktext  num_comments  00  000  ...  𝐜𝐚𝐭𝐜𝐡  𝐨𝐧  𝐭𝐡𝐞  𝒕𝒂𝒓𝒈𝒆𝒕𝒆𝒅  \\\n",
       "0                 1             0   0    0  ...      0   0    0         0   \n",
       "1                 1            50   0    0  ...      0   0    0         0   \n",
       "2                 1             1   0    0  ...      0   0    0         0   \n",
       "3                 1           703   0    0  ...      0   0    0         0   \n",
       "4                 1             5   0    0  ...      0   0    0         0   \n",
       "...             ...           ...  ..  ...  ...    ...  ..  ...       ...   \n",
       "18473             1             6   0    0  ...      0   0    0         0   \n",
       "18474             1            20   0    0  ...      0   0    0         0   \n",
       "18475             1             1   0    0  ...      0   0    0         0   \n",
       "18476             0            20   0    0  ...      0   0    0         0   \n",
       "18477             0            54   0    0  ...      0   0    0         0   \n",
       "\n",
       "       𝗝𝗨𝗦𝗧  𝗦𝗜𝗚𝗡𝗘𝗗  𝘽𝙇𝙊𝙊𝘿𝙎  𝙉𝙀𝙒  𝙋𝙍𝙀𝙎𝙀𝙉𝙏𝙎  𝟐𝟎𝟐𝟐  \n",
       "0         0       0       0    0         0     0  \n",
       "1         0       0       0    0         0     0  \n",
       "2         0       0       0    0         0     0  \n",
       "3         0       0       0    0         0     0  \n",
       "4         0       0       0    0         0     0  \n",
       "...     ...     ...     ...  ...       ...   ...  \n",
       "18473     0       0       0    0         0     0  \n",
       "18474     0       0       0    0         0     0  \n",
       "18475     0       0       0    0         0     0  \n",
       "18476     0       0       0    0         0     0  \n",
       "18477     0       0       0    0         0     0  \n",
       "\n",
       "[18478 rows x 22471 columns]"
      ]
     },
     "execution_count": 11,
     "metadata": {},
     "output_type": "execute_result"
    }
   ],
   "source": [
    "full_cvec_df"
   ]
  },
  {
   "cell_type": "code",
   "execution_count": 13,
   "metadata": {
    "colab": {
     "base_uri": "https://localhost:8080/"
    },
    "id": "t9BKwyNuNdwr",
    "outputId": "7715e86e-221d-4f56-abf1-0b4047c787d0"
   },
   "outputs": [
    {
     "data": {
      "text/plain": [
       "vs            1082\n",
       "2022          1061\n",
       "game           782\n",
       "thread         761\n",
       "season         668\n",
       "new            630\n",
       "team           612\n",
       "time           536\n",
       "year           503\n",
       "amp            484\n",
       "best           475\n",
       "fight          400\n",
       "open           397\n",
       "just           393\n",
       "today          390\n",
       "day            385\n",
       "race           334\n",
       "player         334\n",
       "discussion     328\n",
       "good           324\n",
       "players        322\n",
       "august         300\n",
       "week           298\n",
       "world          289\n",
       "ufc            289\n",
       "dtype: int64"
      ]
     },
     "execution_count": 13,
     "metadata": {},
     "output_type": "execute_result"
    }
   ],
   "source": [
    "# overall popular words\n",
    "cvec_df.sum().sort_values(ascending=False)[:25]"
   ]
  },
  {
   "cell_type": "code",
   "execution_count": 14,
   "metadata": {
    "colab": {
     "base_uri": "https://localhost:8080/",
     "height": 457
    },
    "id": "p0LvOKEC46oK",
    "outputId": "11fac958-06e8-4971-9486-2bb3a62f54f8"
   },
   "outputs": [
    {
     "data": {
      "image/png": "[encoded data removed]",
      "text/plain": [
       "<Figure size 1296x432 with 1 Axes>"
      ]
     },
     "metadata": {
      "needs_background": "light"
     },
     "output_type": "display_data"
    }
   ],
   "source": [
    "# visualize overall popular words\n",
    "fig, ax = plt.subplots(figsize=(18,6), constrained_layout=True)\n",
    "\n",
    "ax.bar(x=cvec_df.sum().sort_values(ascending=False)[:25].index, height=cvec_df.sum().sort_values(ascending=False)[:25]);"
   ]
  },
  {
   "cell_type": "markdown",
   "metadata": {
    "id": "D4KoKh51yQxB"
   },
   "source": [
    "Words describing the content of the post, such as 'vs', 'game', and 'team', are common, as are words describing the nature of the post, such as 'thread' and 'discussion'. We also see a lot of time-related words, such as '2022', 'august', 'season', 'time', 'year', 'today', 'day', and 'week'. So, people frequently create posts to discuss current sporting events, perhaps placed within a larger context, such as the current year or season."
   ]
  },
  {
   "cell_type": "code",
   "execution_count": 15,
   "metadata": {
    "id": "JcGpP4wr6h7O"
   },
   "outputs": [],
   "source": [
    "# define df with just subreddit and vectorized text columns\n",
    "subs_cvec_df = full_cvec_df.drop(columns=['title_len', 'score', 'created_utc', 'age', 'has_authtext',\n",
    "                           'has_linktext', 'num_comments'])"
   ]
  },
  {
   "cell_type": "code",
   "execution_count": 19,
   "metadata": {
    "colab": {
     "base_uri": "https://localhost:8080/",
     "height": 1000
    },
    "id": "m-t2YXCp42_-",
    "outputId": "900b6c2e-905d-490f-e3f4-2cecefce411c"
   },
   "outputs": [
    {
     "data": {
      "image/png": "[encoded data removed]",
      "text/plain": [
       "<Figure size 576x288 with 1 Axes>"
      ]
     },
     "metadata": {
      "needs_background": "light"
     },
     "output_type": "display_data"
    },
    {
     "data": {
      "image/png": "[encoded data removed]",
      "text/plain": [
       "<Figure size 576x288 with 1 Axes>"
      ]
     },
     "metadata": {
      "needs_background": "light"
     },
     "output_type": "display_data"
    },
    {
     "data": {
      "image/png": "[encoded data removed]",
      "text/plain": [
       "<Figure size 576x288 with 1 Axes>"
      ]
     },
     "metadata": {
      "needs_background": "light"
     },
     "output_type": "display_data"
    },
    {
     "data": {
      "image/png": "[encoded data removed]",
      "text/plain": [
       "<Figure size 576x288 with 1 Axes>"
      ]
     },
     "metadata": {
      "needs_background": "light"
     },
     "output_type": "display_data"
    },
    {
     "data": {
      "image/png": "[encoded data removed]",
      "text/plain": [
       "<Figure size 576x288 with 1 Axes>"
      ]
     },
     "metadata": {
      "needs_background": "light"
     },
     "output_type": "display_data"
    },
    {
     "data": {
      "image/png": "[encoded data removed]",
      "text/plain": [
       "<Figure size 576x288 with 1 Axes>"
      ]
     },
     "metadata": {
      "needs_background": "light"
     },
     "output_type": "display_data"
    },
    {
     "data": {
      "image/png": "[encoded data removed]",
      "text/plain": [
       "<Figure size 576x288 with 1 Axes>"
      ]
     },
     "metadata": {
      "needs_background": "light"
     },
     "output_type": "display_data"
    },
    {
     "data": {
      "image/png": "[encoded data removed]",
      "text/plain": [
       "<Figure size 576x288 with 1 Axes>"
      ]
     },
     "metadata": {
      "needs_background": "light"
     },
     "output_type": "display_data"
    },
    {
     "data": {
      "image/png": "[encoded data removed]",
      "text/plain": [
       "<Figure size 576x288 with 1 Axes>"
      ]
     },
     "metadata": {
      "needs_background": "light"
     },
     "output_type": "display_data"
    },
    {
     "data": {
      "image/png": "[encoded data removed]",
      "text/plain": [
       "<Figure size 576x288 with 1 Axes>"
      ]
     },
     "metadata": {
      "needs_background": "light"
     },
     "output_type": "display_data"
    },
    {
     "data": {
      "image/png": "[encoded data removed]",
      "text/plain": [
       "<Figure size 576x288 with 1 Axes>"
      ]
     },
     "metadata": {
      "needs_background": "light"
     },
     "output_type": "display_data"
    },
    {
     "data": {
      "image/png": "[encoded data removed]",
      "text/plain": [
       "<Figure size 576x288 with 1 Axes>"
      ]
     },
     "metadata": {
      "needs_background": "light"
     },
     "output_type": "display_data"
    },
    {
     "data": {
      "image/png": "[encoded data removed]",
      "text/plain": [
       "<Figure size 576x288 with 1 Axes>"
      ]
     },
     "metadata": {
      "needs_background": "light"
     },
     "output_type": "display_data"
    },
    {
     "data": {
      "image/png": "[encoded data removed]",
      "text/plain": [
       "<Figure size 576x288 with 1 Axes>"
      ]
     },
     "metadata": {
      "needs_background": "light"
     },
     "output_type": "display_data"
    },
    {
     "data": {
      "image/png": "[encoded data removed]",
      "text/plain": [
       "<Figure size 576x288 with 1 Axes>"
      ]
     },
     "metadata": {
      "needs_background": "light"
     },
     "output_type": "display_data"
    },
    {
     "data": {
      "image/png": "[encoded data removed]",
      "text/plain": [
       "<Figure size 576x288 with 1 Axes>"
      ]
     },
     "metadata": {
      "needs_background": "light"
     },
     "output_type": "display_data"
    },
    {
     "data": {
      "image/png": "[encoded data removed]",
      "text/plain": [
       "<Figure size 576x288 with 1 Axes>"
      ]
     },
     "metadata": {
      "needs_background": "light"
     },
     "output_type": "display_data"
    },
    {
     "data": {
      "image/png": "[encoded data removed]",
      "text/plain": [
       "<Figure size 576x288 with 1 Axes>"
      ]
     },
     "metadata": {
      "needs_background": "light"
     },
     "output_type": "display_data"
    },
    {
     "data": {
      "image/png": "[encoded data removed]",
      "text/plain": [
       "<Figure size 576x288 with 1 Axes>"
      ]
     },
     "metadata": {
      "needs_background": "light"
     },
     "output_type": "display_data"
    },
    {
     "data": {
      "image/png": "[encoded data removed]",
      "text/plain": [
       "<Figure size 576x288 with 1 Axes>"
      ]
     },
     "metadata": {
      "needs_background": "light"
     },
     "output_type": "display_data"
    }
   ],
   "source": [
    "# most popular words by subreddit\n",
    "for sub in subs_cvec_df['subred'].value_counts(ascending=False).index:\n",
    "    fig, ax = plt.subplots(figsize=(8,4), constrained_layout=True)\n",
    "\n",
    "    ax.bar(x=subs_cvec_df[subs_cvec_df['subred'] == sub].drop(columns='subred').sum().sort_values(ascending=False)[:8].index,\n",
    "           height=subs_cvec_df[subs_cvec_df['subred'] == sub].drop(columns='subred').sum().sort_values(ascending=False)[:8])\n",
    "    ax.set_title(sub);"
   ]
  },
  {
   "cell_type": "markdown",
   "metadata": {
    "id": "Zv85eRbh-FyS"
   },
   "source": [
    "Subreddit-specific popular word categories:\n",
    "- Hockey: game, championship: competition words\n",
    "- Soccer: sign, loan: transfer words\n",
    "- Fishing: caught, catch: specific words\n",
    "- Golf: new, clubs, club, ball: review words\n",
    "- NFL: competition words; 'source': news word\n",
    "- F1: competition words; 'belgian and 'verstappen': (Max Verstappen is a Belgian racer)\n",
    "- CFB: competition words\n",
    "- NBA: competition words\n",
    "- Tennis: competition words; 'serena' and 'williams': (Serena playing last tournament)\n",
    "- Bicycling: new, help, good: reviews and maybe troubleshooting/repair\n",
    "- NASCAR: competition words\n",
    "- Baseball: competition words\n",
    "- Skiing: skis, resort: specific words; skis, new, best, looking: review\n",
    "- Snowboarding: board: specific word; discussion, advice: helping each other improve (community words?)\n",
    "- Boxing: competition words; usyk, joshua, fury, tyson: player words\n",
    "- MMA: competition words; edwards: player word\n",
    "- Running: competition words\n",
    "- College Basketball: competition words\n",
    "- Climbing: climb, rock, route, pitch: specific words\n",
    "- Sports: competition words"
   ]
  },
  {
   "cell_type": "markdown",
   "metadata": {
    "id": "i-LA6PKeCRj6"
   },
   "source": [
    "Important Word Categories:\n",
    "- Competition\n",
    "- Player\n",
    "- Community (reviews and advice/discussion)"
   ]
  },
  {
   "cell_type": "markdown",
   "metadata": {
    "id": "fW6RJuwLExbD"
   },
   "source": [
    "### Text EDA with TFIDF"
   ]
  },
  {
   "cell_type": "code",
   "execution_count": 21,
   "metadata": {
    "id": "Q7CVTDvR429O"
   },
   "outputs": [],
   "source": [
    "tf = TfidfVectorizer()\n",
    "tf_text = tf.fit_transform(posts['title'])"
   ]
  },
  {
   "cell_type": "code",
   "execution_count": 23,
   "metadata": {
    "id": "teWkAClx426t"
   },
   "outputs": [],
   "source": [
    "tf_df = pd.DataFrame(tf_text.todense(), columns=tf.get_feature_names_out())"
   ]
  },
  {
   "cell_type": "code",
   "execution_count": 24,
   "metadata": {
    "colab": {
     "base_uri": "https://localhost:8080/",
     "height": 423
    },
    "id": "cUh52xgGGVom",
    "outputId": "ff3fd882-540a-4943-ab5a-69ca12d31899"
   },
   "outputs": [
    {
     "data": {
      "text/html": [
       "\n",
       "  <div id=\"df-e68b3909-b746-4458-bc46-bf48a3da7b82\">\n",
       "    <div class=\"colab-df-container\">\n",
       "      <div>\n",
       "<style scoped>\n",
       "    .dataframe tbody tr th:only-of-type {\n",
       "        vertical-align: middle;\n",
       "    }\n",
       "\n",
       "    .dataframe tbody tr th {\n",
       "        vertical-align: top;\n",
       "    }\n",
       "\n",
       "    .dataframe thead th {\n",
       "        text-align: right;\n",
       "    }\n",
       "</style>\n",
       "<table border=\"1\" class=\"dataframe\">\n",
       "  <thead>\n",
       "    <tr style=\"text-align: right;\">\n",
       "      <th></th>\n",
       "      <th>00</th>\n",
       "      <th>000</th>\n",
       "      <th>000km</th>\n",
       "      <th>000m</th>\n",
       "      <th>000th</th>\n",
       "      <th>000usd</th>\n",
       "      <th>001</th>\n",
       "      <th>001sec</th>\n",
       "      <th>004</th>\n",
       "      <th>009</th>\n",
       "      <th>...</th>\n",
       "      <th>𝐜𝐚𝐭𝐜𝐡</th>\n",
       "      <th>𝐨𝐧</th>\n",
       "      <th>𝐭𝐡𝐞</th>\n",
       "      <th>𝒕𝒂𝒓𝒈𝒆𝒕𝒆𝒅</th>\n",
       "      <th>𝗝𝗨𝗦𝗧</th>\n",
       "      <th>𝗦𝗜𝗚𝗡𝗘𝗗</th>\n",
       "      <th>𝘽𝙇𝙊𝙊𝘿𝙎</th>\n",
       "      <th>𝙉𝙀𝙒</th>\n",
       "      <th>𝙋𝙍𝙀𝙎𝙀𝙉𝙏𝙎</th>\n",
       "      <th>𝟐𝟎𝟐𝟐</th>\n",
       "    </tr>\n",
       "  </thead>\n",
       "  <tbody>\n",
       "    <tr>\n",
       "      <th>0</th>\n",
       "      <td>0.0</td>\n",
       "      <td>0.0</td>\n",
       "      <td>0.0</td>\n",
       "      <td>0.0</td>\n",
       "      <td>0.0</td>\n",
       "      <td>0.0</td>\n",
       "      <td>0.0</td>\n",
       "      <td>0.0</td>\n",
       "      <td>0.0</td>\n",
       "      <td>0.0</td>\n",
       "      <td>...</td>\n",
       "      <td>0.0</td>\n",
       "      <td>0.0</td>\n",
       "      <td>0.0</td>\n",
       "      <td>0.0</td>\n",
       "      <td>0.0</td>\n",
       "      <td>0.0</td>\n",
       "      <td>0.0</td>\n",
       "      <td>0.0</td>\n",
       "      <td>0.0</td>\n",
       "      <td>0.0</td>\n",
       "    </tr>\n",
       "    <tr>\n",
       "      <th>1</th>\n",
       "      <td>0.0</td>\n",
       "      <td>0.0</td>\n",
       "      <td>0.0</td>\n",
       "      <td>0.0</td>\n",
       "      <td>0.0</td>\n",
       "      <td>0.0</td>\n",
       "      <td>0.0</td>\n",
       "      <td>0.0</td>\n",
       "      <td>0.0</td>\n",
       "      <td>0.0</td>\n",
       "      <td>...</td>\n",
       "      <td>0.0</td>\n",
       "      <td>0.0</td>\n",
       "      <td>0.0</td>\n",
       "      <td>0.0</td>\n",
       "      <td>0.0</td>\n",
       "      <td>0.0</td>\n",
       "      <td>0.0</td>\n",
       "      <td>0.0</td>\n",
       "      <td>0.0</td>\n",
       "      <td>0.0</td>\n",
       "    </tr>\n",
       "    <tr>\n",
       "      <th>2</th>\n",
       "      <td>0.0</td>\n",
       "      <td>0.0</td>\n",
       "      <td>0.0</td>\n",
       "      <td>0.0</td>\n",
       "      <td>0.0</td>\n",
       "      <td>0.0</td>\n",
       "      <td>0.0</td>\n",
       "      <td>0.0</td>\n",
       "      <td>0.0</td>\n",
       "      <td>0.0</td>\n",
       "      <td>...</td>\n",
       "      <td>0.0</td>\n",
       "      <td>0.0</td>\n",
       "      <td>0.0</td>\n",
       "      <td>0.0</td>\n",
       "      <td>0.0</td>\n",
       "      <td>0.0</td>\n",
       "      <td>0.0</td>\n",
       "      <td>0.0</td>\n",
       "      <td>0.0</td>\n",
       "      <td>0.0</td>\n",
       "    </tr>\n",
       "    <tr>\n",
       "      <th>3</th>\n",
       "      <td>0.0</td>\n",
       "      <td>0.0</td>\n",
       "      <td>0.0</td>\n",
       "      <td>0.0</td>\n",
       "      <td>0.0</td>\n",
       "      <td>0.0</td>\n",
       "      <td>0.0</td>\n",
       "      <td>0.0</td>\n",
       "      <td>0.0</td>\n",
       "      <td>0.0</td>\n",
       "      <td>...</td>\n",
       "      <td>0.0</td>\n",
       "      <td>0.0</td>\n",
       "      <td>0.0</td>\n",
       "      <td>0.0</td>\n",
       "      <td>0.0</td>\n",
       "      <td>0.0</td>\n",
       "      <td>0.0</td>\n",
       "      <td>0.0</td>\n",
       "      <td>0.0</td>\n",
       "      <td>0.0</td>\n",
       "    </tr>\n",
       "    <tr>\n",
       "      <th>4</th>\n",
       "      <td>0.0</td>\n",
       "      <td>0.0</td>\n",
       "      <td>0.0</td>\n",
       "      <td>0.0</td>\n",
       "      <td>0.0</td>\n",
       "      <td>0.0</td>\n",
       "      <td>0.0</td>\n",
       "      <td>0.0</td>\n",
       "      <td>0.0</td>\n",
       "      <td>0.0</td>\n",
       "      <td>...</td>\n",
       "      <td>0.0</td>\n",
       "      <td>0.0</td>\n",
       "      <td>0.0</td>\n",
       "      <td>0.0</td>\n",
       "      <td>0.0</td>\n",
       "      <td>0.0</td>\n",
       "      <td>0.0</td>\n",
       "      <td>0.0</td>\n",
       "      <td>0.0</td>\n",
       "      <td>0.0</td>\n",
       "    </tr>\n",
       "    <tr>\n",
       "      <th>...</th>\n",
       "      <td>...</td>\n",
       "      <td>...</td>\n",
       "      <td>...</td>\n",
       "      <td>...</td>\n",
       "      <td>...</td>\n",
       "      <td>...</td>\n",
       "      <td>...</td>\n",
       "      <td>...</td>\n",
       "      <td>...</td>\n",
       "      <td>...</td>\n",
       "      <td>...</td>\n",
       "      <td>...</td>\n",
       "      <td>...</td>\n",
       "      <td>...</td>\n",
       "      <td>...</td>\n",
       "      <td>...</td>\n",
       "      <td>...</td>\n",
       "      <td>...</td>\n",
       "      <td>...</td>\n",
       "      <td>...</td>\n",
       "      <td>...</td>\n",
       "    </tr>\n",
       "    <tr>\n",
       "      <th>18473</th>\n",
       "      <td>0.0</td>\n",
       "      <td>0.0</td>\n",
       "      <td>0.0</td>\n",
       "      <td>0.0</td>\n",
       "      <td>0.0</td>\n",
       "      <td>0.0</td>\n",
       "      <td>0.0</td>\n",
       "      <td>0.0</td>\n",
       "      <td>0.0</td>\n",
       "      <td>0.0</td>\n",
       "      <td>...</td>\n",
       "      <td>0.0</td>\n",
       "      <td>0.0</td>\n",
       "      <td>0.0</td>\n",
       "      <td>0.0</td>\n",
       "      <td>0.0</td>\n",
       "      <td>0.0</td>\n",
       "      <td>0.0</td>\n",
       "      <td>0.0</td>\n",
       "      <td>0.0</td>\n",
       "      <td>0.0</td>\n",
       "    </tr>\n",
       "    <tr>\n",
       "      <th>18474</th>\n",
       "      <td>0.0</td>\n",
       "      <td>0.0</td>\n",
       "      <td>0.0</td>\n",
       "      <td>0.0</td>\n",
       "      <td>0.0</td>\n",
       "      <td>0.0</td>\n",
       "      <td>0.0</td>\n",
       "      <td>0.0</td>\n",
       "      <td>0.0</td>\n",
       "      <td>0.0</td>\n",
       "      <td>...</td>\n",
       "      <td>0.0</td>\n",
       "      <td>0.0</td>\n",
       "      <td>0.0</td>\n",
       "      <td>0.0</td>\n",
       "      <td>0.0</td>\n",
       "      <td>0.0</td>\n",
       "      <td>0.0</td>\n",
       "      <td>0.0</td>\n",
       "      <td>0.0</td>\n",
       "      <td>0.0</td>\n",
       "    </tr>\n",
       "    <tr>\n",
       "      <th>18475</th>\n",
       "      <td>0.0</td>\n",
       "      <td>0.0</td>\n",
       "      <td>0.0</td>\n",
       "      <td>0.0</td>\n",
       "      <td>0.0</td>\n",
       "      <td>0.0</td>\n",
       "      <td>0.0</td>\n",
       "      <td>0.0</td>\n",
       "      <td>0.0</td>\n",
       "      <td>0.0</td>\n",
       "      <td>...</td>\n",
       "      <td>0.0</td>\n",
       "      <td>0.0</td>\n",
       "      <td>0.0</td>\n",
       "      <td>0.0</td>\n",
       "      <td>0.0</td>\n",
       "      <td>0.0</td>\n",
       "      <td>0.0</td>\n",
       "      <td>0.0</td>\n",
       "      <td>0.0</td>\n",
       "      <td>0.0</td>\n",
       "    </tr>\n",
       "    <tr>\n",
       "      <th>18476</th>\n",
       "      <td>0.0</td>\n",
       "      <td>0.0</td>\n",
       "      <td>0.0</td>\n",
       "      <td>0.0</td>\n",
       "      <td>0.0</td>\n",
       "      <td>0.0</td>\n",
       "      <td>0.0</td>\n",
       "      <td>0.0</td>\n",
       "      <td>0.0</td>\n",
       "      <td>0.0</td>\n",
       "      <td>...</td>\n",
       "      <td>0.0</td>\n",
       "      <td>0.0</td>\n",
       "      <td>0.0</td>\n",
       "      <td>0.0</td>\n",
       "      <td>0.0</td>\n",
       "      <td>0.0</td>\n",
       "      <td>0.0</td>\n",
       "      <td>0.0</td>\n",
       "      <td>0.0</td>\n",
       "      <td>0.0</td>\n",
       "    </tr>\n",
       "    <tr>\n",
       "      <th>18477</th>\n",
       "      <td>0.0</td>\n",
       "      <td>0.0</td>\n",
       "      <td>0.0</td>\n",
       "      <td>0.0</td>\n",
       "      <td>0.0</td>\n",
       "      <td>0.0</td>\n",
       "      <td>0.0</td>\n",
       "      <td>0.0</td>\n",
       "      <td>0.0</td>\n",
       "      <td>0.0</td>\n",
       "      <td>...</td>\n",
       "      <td>0.0</td>\n",
       "      <td>0.0</td>\n",
       "      <td>0.0</td>\n",
       "      <td>0.0</td>\n",
       "      <td>0.0</td>\n",
       "      <td>0.0</td>\n",
       "      <td>0.0</td>\n",
       "      <td>0.0</td>\n",
       "      <td>0.0</td>\n",
       "      <td>0.0</td>\n",
       "    </tr>\n",
       "  </tbody>\n",
       "</table>\n",
       "<p>18478 rows × 22744 columns</p>\n",
       "</div>\n",
       "      <button class=\"colab-df-convert\" onclick=\"convertToInteractive('df-e68b3909-b746-4458-bc46-bf48a3da7b82')\"\n",
       "              title=\"Convert this dataframe to an interactive table.\"\n",
       "              style=\"display:none;\">\n",
       "        \n",
       "  <svg xmlns=\"http://www.w3.org/2000/svg\" height=\"24px\"viewBox=\"0 0 24 24\"\n",
       "       width=\"24px\">\n",
       "    <path d=\"M0 0h24v24H0V0z\" fill=\"none\"/>\n",
       "    <path d=\"M18.56 5.44l.94 2.06.94-2.06 2.06-.94-2.06-.94-.94-2.06-.94 2.06-2.06.94zm-11 1L8.5 8.5l.94-2.06 2.06-.94-2.06-.94L8.5 2.5l-.94 2.06-2.06.94zm10 10l.94 2.06.94-2.06 2.06-.94-2.06-.94-.94-2.06-.94 2.06-2.06.94z\"/><path d=\"M17.41 7.96l-1.37-1.37c-.4-.4-.92-.59-1.43-.59-.52 0-1.04.2-1.43.59L10.3 9.45l-7.72 7.72c-.78.78-.78 2.05 0 2.83L4 21.41c.39.39.9.59 1.41.59.51 0 1.02-.2 1.41-.59l7.78-7.78 2.81-2.81c.8-.78.8-2.07 0-2.86zM5.41 20L4 18.59l7.72-7.72 1.47 1.35L5.41 20z\"/>\n",
       "  </svg>\n",
       "      </button>\n",
       "      \n",
       "  <style>\n",
       "    .colab-df-container {\n",
       "      display:flex;\n",
       "      flex-wrap:wrap;\n",
       "      gap: 12px;\n",
       "    }\n",
       "\n",
       "    .colab-df-convert {\n",
       "      background-color: #E8F0FE;\n",
       "      border: none;\n",
       "      border-radius: 50%;\n",
       "      cursor: pointer;\n",
       "      display: none;\n",
       "      fill: #1967D2;\n",
       "      height: 32px;\n",
       "      padding: 0 0 0 0;\n",
       "      width: 32px;\n",
       "    }\n",
       "\n",
       "    .colab-df-convert:hover {\n",
       "      background-color: #E2EBFA;\n",
       "      box-shadow: 0px 1px 2px rgba(60, 64, 67, 0.3), 0px 1px 3px 1px rgba(60, 64, 67, 0.15);\n",
       "      fill: #174EA6;\n",
       "    }\n",
       "\n",
       "    [theme=dark] .colab-df-convert {\n",
       "      background-color: #3B4455;\n",
       "      fill: #D2E3FC;\n",
       "    }\n",
       "\n",
       "    [theme=dark] .colab-df-convert:hover {\n",
       "      background-color: #434B5C;\n",
       "      box-shadow: 0px 1px 3px 1px rgba(0, 0, 0, 0.15);\n",
       "      filter: drop-shadow(0px 1px 2px rgba(0, 0, 0, 0.3));\n",
       "      fill: #FFFFFF;\n",
       "    }\n",
       "  </style>\n",
       "\n",
       "      <script>\n",
       "        const buttonEl =\n",
       "          document.querySelector('#df-e68b3909-b746-4458-bc46-bf48a3da7b82 button.colab-df-convert');\n",
       "        buttonEl.style.display =\n",
       "          google.colab.kernel.accessAllowed ? 'block' : 'none';\n",
       "\n",
       "        async function convertToInteractive(key) {\n",
       "          const element = document.querySelector('#df-e68b3909-b746-4458-bc46-bf48a3da7b82');\n",
       "          const dataTable =\n",
       "            await google.colab.kernel.invokeFunction('convertToInteractive',\n",
       "                                                     [key], {});\n",
       "          if (!dataTable) return;\n",
       "\n",
       "          const docLinkHtml = 'Like what you see? Visit the ' +\n",
       "            '<a target=\"_blank\" href=https://colab.research.google.com/notebooks/data_table.ipynb>data table notebook</a>'\n",
       "            + ' to learn more about interactive tables.';\n",
       "          element.innerHTML = '';\n",
       "          dataTable['output_type'] = 'display_data';\n",
       "          await google.colab.output.renderOutput(dataTable, element);\n",
       "          const docLink = document.createElement('div');\n",
       "          docLink.innerHTML = docLinkHtml;\n",
       "          element.appendChild(docLink);\n",
       "        }\n",
       "      </script>\n",
       "    </div>\n",
       "  </div>\n",
       "  "
      ],
      "text/plain": [
       "        00  000  000km  000m  000th  000usd  001  001sec  004  009  ...  \\\n",
       "0      0.0  0.0    0.0   0.0    0.0     0.0  0.0     0.0  0.0  0.0  ...   \n",
       "1      0.0  0.0    0.0   0.0    0.0     0.0  0.0     0.0  0.0  0.0  ...   \n",
       "2      0.0  0.0    0.0   0.0    0.0     0.0  0.0     0.0  0.0  0.0  ...   \n",
       "3      0.0  0.0    0.0   0.0    0.0     0.0  0.0     0.0  0.0  0.0  ...   \n",
       "4      0.0  0.0    0.0   0.0    0.0     0.0  0.0     0.0  0.0  0.0  ...   \n",
       "...    ...  ...    ...   ...    ...     ...  ...     ...  ...  ...  ...   \n",
       "18473  0.0  0.0    0.0   0.0    0.0     0.0  0.0     0.0  0.0  0.0  ...   \n",
       "18474  0.0  0.0    0.0   0.0    0.0     0.0  0.0     0.0  0.0  0.0  ...   \n",
       "18475  0.0  0.0    0.0   0.0    0.0     0.0  0.0     0.0  0.0  0.0  ...   \n",
       "18476  0.0  0.0    0.0   0.0    0.0     0.0  0.0     0.0  0.0  0.0  ...   \n",
       "18477  0.0  0.0    0.0   0.0    0.0     0.0  0.0     0.0  0.0  0.0  ...   \n",
       "\n",
       "       𝐜𝐚𝐭𝐜𝐡   𝐨𝐧  𝐭𝐡𝐞  𝒕𝒂𝒓𝒈𝒆𝒕𝒆𝒅  𝗝𝗨𝗦𝗧  𝗦𝗜𝗚𝗡𝗘𝗗  𝘽𝙇𝙊𝙊𝘿𝙎  𝙉𝙀𝙒  𝙋𝙍𝙀𝙎𝙀𝙉𝙏𝙎  𝟐𝟎𝟐𝟐  \n",
       "0        0.0  0.0  0.0       0.0   0.0     0.0     0.0  0.0       0.0   0.0  \n",
       "1        0.0  0.0  0.0       0.0   0.0     0.0     0.0  0.0       0.0   0.0  \n",
       "2        0.0  0.0  0.0       0.0   0.0     0.0     0.0  0.0       0.0   0.0  \n",
       "3        0.0  0.0  0.0       0.0   0.0     0.0     0.0  0.0       0.0   0.0  \n",
       "4        0.0  0.0  0.0       0.0   0.0     0.0     0.0  0.0       0.0   0.0  \n",
       "...      ...  ...  ...       ...   ...     ...     ...  ...       ...   ...  \n",
       "18473    0.0  0.0  0.0       0.0   0.0     0.0     0.0  0.0       0.0   0.0  \n",
       "18474    0.0  0.0  0.0       0.0   0.0     0.0     0.0  0.0       0.0   0.0  \n",
       "18475    0.0  0.0  0.0       0.0   0.0     0.0     0.0  0.0       0.0   0.0  \n",
       "18476    0.0  0.0  0.0       0.0   0.0     0.0     0.0  0.0       0.0   0.0  \n",
       "18477    0.0  0.0  0.0       0.0   0.0     0.0     0.0  0.0       0.0   0.0  \n",
       "\n",
       "[18478 rows x 22744 columns]"
      ]
     },
     "execution_count": 24,
     "metadata": {},
     "output_type": "execute_result"
    }
   ],
   "source": [
    "tf_df"
   ]
  },
  {
   "cell_type": "code",
   "execution_count": 25,
   "metadata": {
    "colab": {
     "base_uri": "https://localhost:8080/"
    },
    "id": "5YNGdLxiGnO7",
    "outputId": "a661009c-3586-41de-acb2-8bdb3e2aaa03"
   },
   "outputs": [
    {
     "data": {
      "text/plain": [
       "the       711.071232\n",
       "to        472.686812\n",
       "in        402.471708\n",
       "for       374.546597\n",
       "of        348.743431\n",
       "and       309.912213\n",
       "on        303.722538\n",
       "is        265.005613\n",
       "2022      220.394433\n",
       "with      214.379618\n",
       "this      213.390172\n",
       "what      206.148579\n",
       "at        204.418354\n",
       "my        193.118579\n",
       "vs        190.301458\n",
       "you       187.584169\n",
       "it        180.632820\n",
       "thread    166.114623\n",
       "first     151.722114\n",
       "from      149.941491\n",
       "are       139.169186\n",
       "game      136.751634\n",
       "that      134.568158\n",
       "new       133.225174\n",
       "how       128.051658\n",
       "dtype: float64"
      ]
     },
     "execution_count": 25,
     "metadata": {},
     "output_type": "execute_result"
    }
   ],
   "source": [
    "tf_df.sum().sort_values(ascending=False)[:25]"
   ]
  },
  {
   "cell_type": "markdown",
   "metadata": {
    "id": "MVL2bQx-HJCT"
   },
   "source": [
    "Surprisingly, many \"stop words\" make the list of most important TFIDF words. This might be because these words are common in some subreddits and rare in others, making them appear more important than they actually are, due to semantic differences across subreddits."
   ]
  },
  {
   "cell_type": "code",
   "execution_count": 27,
   "metadata": {
    "id": "7AjrhM-SHrX2"
   },
   "outputs": [],
   "source": [
    "stop_tf = TfidfVectorizer(stop_words='english')\n",
    "stop_tf_text = stop_tf.fit_transform(posts['title'])"
   ]
  },
  {
   "cell_type": "code",
   "execution_count": 28,
   "metadata": {
    "id": "PGEGPjkGIEs-"
   },
   "outputs": [],
   "source": [
    "stop_tf_df = pd.DataFrame(stop_tf_text.todense(), columns=stop_tf.get_feature_names_out())"
   ]
  },
  {
   "cell_type": "code",
   "execution_count": 30,
   "metadata": {
    "colab": {
     "base_uri": "https://localhost:8080/"
    },
    "id": "UzbNfRUOIaiW",
    "outputId": "639e4545-5f61-4f4a-956a-effeed283fc3"
   },
   "outputs": [
    {
     "data": {
      "text/plain": [
       "2022          228.179808\n",
       "vs            194.276143\n",
       "thread        167.991622\n",
       "game          145.427373\n",
       "new           143.436314\n",
       "season        136.902084\n",
       "team          124.814515\n",
       "best          123.080639\n",
       "time          119.140215\n",
       "amp           103.586485\n",
       "open          102.882043\n",
       "discussion    102.059292\n",
       "year          100.130877\n",
       "day            95.119167\n",
       "august         94.731979\n",
       "today          86.949003\n",
       "good           86.166599\n",
       "just           84.265129\n",
       "bike           83.971572\n",
       "fight          82.705859\n",
       "help           80.812149\n",
       "race           80.289517\n",
       "running        80.286394\n",
       "ski            79.117195\n",
       "player         76.472512\n",
       "dtype: float64"
      ]
     },
     "execution_count": 30,
     "metadata": {},
     "output_type": "execute_result"
    }
   ],
   "source": [
    "stop_tf_df.sum().sort_values(ascending=False)[:25]"
   ]
  },
  {
   "cell_type": "markdown",
   "metadata": {
    "id": "gwl68KH3I0O4"
   },
   "source": [
    "Word importances from TfidfVectorizer with stop words largely correspond to word counts from CountVectorizer (with stop words), suggesting that the two vectorizations might perform similarly in modeling."
   ]
  },
  {
   "cell_type": "markdown",
   "metadata": {
    "id": "uAx7we4yMaTG"
   },
   "source": [
    "### Finalize Base DF to Use for Modeling"
   ]
  },
  {
   "cell_type": "code",
   "execution_count": 31,
   "metadata": {
    "id": "mgDCfj1fMXXW"
   },
   "outputs": [],
   "source": [
    "# drop created_utc in favor of age\n",
    "posts = posts.drop(columns='created_utc')"
   ]
  },
  {
   "cell_type": "markdown",
   "metadata": {
    "id": "85u0yBW6NdzE"
   },
   "source": [
    "Changes from beginning of notebook:\n",
    "- 'subreddit' column renamed 'subred'\n",
    "- drop created_utc in favor of age"
   ]
  },
  {
   "cell_type": "code",
   "execution_count": 33,
   "metadata": {
    "id": "u55C_LIiNwjI"
   },
   "outputs": [],
   "source": [
    "# save to csv\n",
    "posts.to_csv('data/posts_modelready.csv', index=False)"
   ]
  }
 ],
 "metadata": {
  "colab": {
   "machine_shape": "hm",
   "provenance": []
  },
  "gpuClass": "standard",
  "kernelspec": {
   "display_name": "Python 3 (ipykernel)",
   "language": "python",
   "name": "python3"
  },
  "language_info": {
   "codemirror_mode": {
    "name": "ipython",
    "version": 3
   },
   "file_extension": ".py",
   "mimetype": "text/x-python",
   "name": "python",
   "nbconvert_exporter": "python",
   "pygments_lexer": "ipython3",
   "version": "3.9.12"
  }
 },
 "nbformat": 4,
 "nbformat_minor": 4
}
