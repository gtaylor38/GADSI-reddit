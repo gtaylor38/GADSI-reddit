{
 "cells": [
  {
   "cell_type": "markdown",
   "metadata": {
    "id": "rgRWSIAmdYdd"
   },
   "source": [
    "# Modeling"
   ]
  },
  {
   "cell_type": "markdown",
   "metadata": {
    "id": "x9HM5Yrfdw1k"
   },
   "source": [
    "### Imports"
   ]
  },
  {
   "cell_type": "code",
   "execution_count": 1,
   "metadata": {
    "id": "0nVPb9solItl"
   },
   "outputs": [],
   "source": [
    "import pandas as pd\n",
    "import numpy as np\n",
    "\n",
    "from sklearn.model_selection import train_test_split\n",
    "from sklearn.feature_extraction.text import CountVectorizer\n",
    "from sklearn.preprocessing import StandardScaler\n",
    "\n",
    "from sklearn.pipeline import Pipeline\n",
    "from sklearn.model_selection import GridSearchCV\n",
    "from sklearn.linear_model import LogisticRegression\n",
    "from sklearn.ensemble import RandomForestClassifier\n",
    "\n",
    "from sklearn.metrics import ConfusionMatrixDisplay"
   ]
  },
  {
   "cell_type": "markdown",
   "metadata": {
    "id": "g3jfVj_5d1lA"
   },
   "source": [
    "### Load Data\n",
    "- train test split\n",
    "- create target column for train and test: num_comments > median of num_comments (from training set)\n",
    "- establish baseline"
   ]
  },
  {
   "cell_type": "code",
   "execution_count": 2,
   "metadata": {
    "id": "icsLrmi1rWmo"
   },
   "outputs": [],
   "source": [
    "# load data\n",
    "posts = pd.read_csv('data/posts_modelready.csv')"
   ]
  },
  {
   "cell_type": "code",
   "execution_count": 3,
   "metadata": {
    "id": "08JKrvQWsGM5"
   },
   "outputs": [],
   "source": [
    "# establish X and y\n",
    "X = posts.drop(columns='num_comments')\n",
    "y = posts['num_comments']"
   ]
  },
  {
   "cell_type": "code",
   "execution_count": 4,
   "metadata": {
    "id": "8xWisePWrWa5"
   },
   "outputs": [],
   "source": [
    "# train/test split\n",
    "X_train, X_test, y_train, y_test = train_test_split(X, y, train_size=.8,  random_state=11)"
   ]
  },
  {
   "cell_type": "code",
   "execution_count": 5,
   "metadata": {
    "colab": {
     "base_uri": "https://localhost:8080/"
    },
    "id": "qc_R82qJ1rYL",
    "outputId": "7d62ebc7-6c35-427e-e332-0c7d116dfce7"
   },
   "outputs": [
    {
     "data": {
      "text/plain": [
       "((14782, 25), (3696, 25), (14782,), (3696,))"
      ]
     },
     "execution_count": 5,
     "metadata": {},
     "output_type": "execute_result"
    }
   ],
   "source": [
    "X_train.shape, X_test.shape, y_train.shape, y_test.shape"
   ]
  },
  {
   "cell_type": "code",
   "execution_count": 6,
   "metadata": {
    "id": "DtrWKFdH6WbT"
   },
   "outputs": [],
   "source": [
    "# reset indices for compatibility with future vectorization and concatenation\n",
    "X_train = X_train.reset_index(drop=True)\n",
    "X_test = X_test.reset_index(drop=True)"
   ]
  },
  {
   "cell_type": "code",
   "execution_count": 7,
   "metadata": {
    "id": "Ho9lIBIVsqeN"
   },
   "outputs": [],
   "source": [
    "# find median num_comments in training set\n",
    "med_comments = y_train.median()"
   ]
  },
  {
   "cell_type": "code",
   "execution_count": 8,
   "metadata": {
    "colab": {
     "base_uri": "https://localhost:8080/"
    },
    "id": "hJ39EwissqUs",
    "outputId": "33dd8b4f-f39e-466f-9d8c-957dacbecbeb"
   },
   "outputs": [
    {
     "data": {
      "text/plain": [
       "22.0"
      ]
     },
     "execution_count": 8,
     "metadata": {},
     "output_type": "execute_result"
    }
   ],
   "source": [
    "med_comments"
   ]
  },
  {
   "cell_type": "code",
   "execution_count": 9,
   "metadata": {
    "id": "yrTqyJqos-oa"
   },
   "outputs": [],
   "source": [
    "# create actual target columns for train and test sets\n",
    "abv_med_comms_train = [int(num_comms > med_comments) for num_comms in y_train]\n",
    "abv_med_comms_test = [int(num_comms > med_comments) for num_comms in y_test]"
   ]
  },
  {
   "cell_type": "code",
   "execution_count": 10,
   "metadata": {
    "colab": {
     "base_uri": "https://localhost:8080/"
    },
    "id": "XNLTfR5ZwyWi",
    "outputId": "bd7e3e88-081f-4964-ddad-a1de9b8fcf6c"
   },
   "outputs": [
    {
     "data": {
      "text/plain": [
       "0.4926948051948052"
      ]
     },
     "execution_count": 10,
     "metadata": {},
     "output_type": "execute_result"
    }
   ],
   "source": [
    "# baseline score specific to this data\n",
    "sum(abv_med_comms_test) / len(abv_med_comms_test)"
   ]
  },
  {
   "cell_type": "markdown",
   "metadata": {
    "id": "JL1WvN74ulfc"
   },
   "source": [
    "By construction, the baseline prediction method could be either to always predict a post will have less than the median number of comments or to always predict a post will have greater than the median number of comments. Either way, the baseline score should be just less than 0.5, since a post could have exactly the median number of comments, given that the median from the training set is a whole number. For this particular train and test data, the baseline score is 0.493."
   ]
  },
  {
   "cell_type": "markdown",
   "metadata": {
    "id": "3dSfgrNJd1jL"
   },
   "source": [
    "### Vectorize Data"
   ]
  },
  {
   "cell_type": "markdown",
   "metadata": {
    "id": "cVSu9kOqd1gz"
   },
   "source": [
    "#### CountVectorize, StandardScale"
   ]
  },
  {
   "cell_type": "code",
   "execution_count": 11,
   "metadata": {
    "id": "88f5BoSCwAHD"
   },
   "outputs": [],
   "source": [
    "# instantiate, fit, and transform\n",
    "cvec = CountVectorizer(max_features=10_000, stop_words='english')\n",
    "title_cvec_train = cvec.fit_transform(X_train['title'])\n",
    "title_cvec_test = cvec.transform(X_test['title'])"
   ]
  },
  {
   "cell_type": "code",
   "execution_count": 12,
   "metadata": {
    "id": "kAWyi_v-snmI"
   },
   "outputs": [],
   "source": [
    "# create cvec'ed df's for train and text, concat to originals w/o 'title'\n",
    "title_cvec_train_df = pd.DataFrame(title_cvec_train.todense(), columns=cvec.get_feature_names_out())\n",
    "title_cvec_test_df = pd.DataFrame(title_cvec_test.todense(), columns=cvec.get_feature_names_out())\n",
    "\n",
    "X_train_cvec = pd.concat([X_train.drop(columns='title'), title_cvec_train_df], axis=1)\n",
    "X_test_cvec = pd.concat([X_test.drop(columns='title'), title_cvec_test_df], axis=1)"
   ]
  },
  {
   "cell_type": "code",
   "execution_count": 13,
   "metadata": {
    "id": "WlwJmMDt8zBS"
   },
   "outputs": [],
   "source": [
    "# instantiate, fit StandardScaler on train, transform train and test\n",
    "ss = StandardScaler()\n",
    "ss_train = ss.fit_transform(X_train_cvec)\n",
    "ss_test = ss.transform(X_test_cvec)"
   ]
  },
  {
   "cell_type": "code",
   "execution_count": 14,
   "metadata": {
    "id": "ykR9x_hxGx42"
   },
   "outputs": [],
   "source": [
    "# create df's\n",
    "X_train_cvec_ss = pd.DataFrame(ss_train, columns=ss.get_feature_names_out())\n",
    "X_test_cvec_ss = pd.DataFrame(ss_test, columns=ss.get_feature_names_out())"
   ]
  },
  {
   "cell_type": "code",
   "execution_count": 15,
   "metadata": {
    "colab": {
     "base_uri": "https://localhost:8080/",
     "height": 488
    },
    "id": "qVH2vZJ6HrCS",
    "outputId": "6c1f4f88-d983-4ba6-f17e-01ddf7c5b702"
   },
   "outputs": [
    {
     "data": {
      "text/html": [
       "\n",
       "  <div id=\"df-55c90008-4ee5-4e83-ac7d-c26c9faeb8f8\">\n",
       "    <div class=\"colab-df-container\">\n",
       "      <div>\n",
       "<style scoped>\n",
       "    .dataframe tbody tr th:only-of-type {\n",
       "        vertical-align: middle;\n",
       "    }\n",
       "\n",
       "    .dataframe tbody tr th {\n",
       "        vertical-align: top;\n",
       "    }\n",
       "\n",
       "    .dataframe thead th {\n",
       "        text-align: right;\n",
       "    }\n",
       "</style>\n",
       "<table border=\"1\" class=\"dataframe\">\n",
       "  <thead>\n",
       "    <tr style=\"text-align: right;\">\n",
       "      <th></th>\n",
       "      <th>title_len</th>\n",
       "      <th>age</th>\n",
       "      <th>has_authtext</th>\n",
       "      <th>has_linktext</th>\n",
       "      <th>subred_baseball</th>\n",
       "      <th>subred_bicycling</th>\n",
       "      <th>subred_boxing</th>\n",
       "      <th>subred_cfb</th>\n",
       "      <th>subred_climbing</th>\n",
       "      <th>subred_collegebasketball</th>\n",
       "      <th>...</th>\n",
       "      <th>črni</th>\n",
       "      <th>łks</th>\n",
       "      <th>łódź</th>\n",
       "      <th>śląsk</th>\n",
       "      <th>𝐅𝐁</th>\n",
       "      <th>𝐍𝐂𝐀𝐀</th>\n",
       "      <th>𝐏𝐥𝐚𝐲𝐢𝐧𝐠</th>\n",
       "      <th>𝐑𝐮𝐥𝐞𝐬</th>\n",
       "      <th>𝐔𝐩𝐝𝐚𝐭𝐞</th>\n",
       "      <th>𝟐𝟎𝟐𝟐</th>\n",
       "    </tr>\n",
       "  </thead>\n",
       "  <tbody>\n",
       "    <tr>\n",
       "      <th>0</th>\n",
       "      <td>-0.375588</td>\n",
       "      <td>-0.731827</td>\n",
       "      <td>1.133913</td>\n",
       "      <td>-1.020505</td>\n",
       "      <td>-0.233938</td>\n",
       "      <td>-0.235542</td>\n",
       "      <td>-0.230541</td>\n",
       "      <td>4.245522</td>\n",
       "      <td>-0.216527</td>\n",
       "      <td>-0.218063</td>\n",
       "      <td>...</td>\n",
       "      <td>-0.011633</td>\n",
       "      <td>-0.014247</td>\n",
       "      <td>-0.016452</td>\n",
       "      <td>-0.020151</td>\n",
       "      <td>-0.011633</td>\n",
       "      <td>-0.011633</td>\n",
       "      <td>-0.011633</td>\n",
       "      <td>-0.011633</td>\n",
       "      <td>-0.014247</td>\n",
       "      <td>-0.011633</td>\n",
       "    </tr>\n",
       "    <tr>\n",
       "      <th>1</th>\n",
       "      <td>2.282394</td>\n",
       "      <td>-0.277249</td>\n",
       "      <td>1.133913</td>\n",
       "      <td>-1.020505</td>\n",
       "      <td>-0.233938</td>\n",
       "      <td>-0.235542</td>\n",
       "      <td>-0.230541</td>\n",
       "      <td>-0.235542</td>\n",
       "      <td>-0.216527</td>\n",
       "      <td>-0.218063</td>\n",
       "      <td>...</td>\n",
       "      <td>-0.011633</td>\n",
       "      <td>-0.014247</td>\n",
       "      <td>-0.016452</td>\n",
       "      <td>-0.020151</td>\n",
       "      <td>-0.011633</td>\n",
       "      <td>-0.011633</td>\n",
       "      <td>-0.011633</td>\n",
       "      <td>-0.011633</td>\n",
       "      <td>-0.014247</td>\n",
       "      <td>-0.011633</td>\n",
       "    </tr>\n",
       "    <tr>\n",
       "      <th>2</th>\n",
       "      <td>-0.393793</td>\n",
       "      <td>-0.642729</td>\n",
       "      <td>1.133913</td>\n",
       "      <td>-1.020505</td>\n",
       "      <td>-0.233938</td>\n",
       "      <td>-0.235542</td>\n",
       "      <td>-0.230541</td>\n",
       "      <td>-0.235542</td>\n",
       "      <td>-0.216527</td>\n",
       "      <td>-0.218063</td>\n",
       "      <td>...</td>\n",
       "      <td>-0.011633</td>\n",
       "      <td>-0.014247</td>\n",
       "      <td>-0.016452</td>\n",
       "      <td>-0.020151</td>\n",
       "      <td>-0.011633</td>\n",
       "      <td>-0.011633</td>\n",
       "      <td>-0.011633</td>\n",
       "      <td>-0.011633</td>\n",
       "      <td>-0.014247</td>\n",
       "      <td>-0.011633</td>\n",
       "    </tr>\n",
       "    <tr>\n",
       "      <th>3</th>\n",
       "      <td>0.134162</td>\n",
       "      <td>-0.392396</td>\n",
       "      <td>-0.881902</td>\n",
       "      <td>0.979907</td>\n",
       "      <td>-0.233938</td>\n",
       "      <td>-0.235542</td>\n",
       "      <td>-0.230541</td>\n",
       "      <td>-0.235542</td>\n",
       "      <td>-0.216527</td>\n",
       "      <td>-0.218063</td>\n",
       "      <td>...</td>\n",
       "      <td>-0.011633</td>\n",
       "      <td>-0.014247</td>\n",
       "      <td>-0.016452</td>\n",
       "      <td>-0.020151</td>\n",
       "      <td>-0.011633</td>\n",
       "      <td>-0.011633</td>\n",
       "      <td>-0.011633</td>\n",
       "      <td>-0.011633</td>\n",
       "      <td>-0.014247</td>\n",
       "      <td>-0.011633</td>\n",
       "    </tr>\n",
       "    <tr>\n",
       "      <th>4</th>\n",
       "      <td>0.298010</td>\n",
       "      <td>0.097290</td>\n",
       "      <td>-0.881902</td>\n",
       "      <td>-1.020505</td>\n",
       "      <td>-0.233938</td>\n",
       "      <td>-0.235542</td>\n",
       "      <td>-0.230541</td>\n",
       "      <td>-0.235542</td>\n",
       "      <td>-0.216527</td>\n",
       "      <td>-0.218063</td>\n",
       "      <td>...</td>\n",
       "      <td>-0.011633</td>\n",
       "      <td>-0.014247</td>\n",
       "      <td>-0.016452</td>\n",
       "      <td>-0.020151</td>\n",
       "      <td>-0.011633</td>\n",
       "      <td>-0.011633</td>\n",
       "      <td>-0.011633</td>\n",
       "      <td>-0.011633</td>\n",
       "      <td>-0.014247</td>\n",
       "      <td>-0.011633</td>\n",
       "    </tr>\n",
       "    <tr>\n",
       "      <th>...</th>\n",
       "      <td>...</td>\n",
       "      <td>...</td>\n",
       "      <td>...</td>\n",
       "      <td>...</td>\n",
       "      <td>...</td>\n",
       "      <td>...</td>\n",
       "      <td>...</td>\n",
       "      <td>...</td>\n",
       "      <td>...</td>\n",
       "      <td>...</td>\n",
       "      <td>...</td>\n",
       "      <td>...</td>\n",
       "      <td>...</td>\n",
       "      <td>...</td>\n",
       "      <td>...</td>\n",
       "      <td>...</td>\n",
       "      <td>...</td>\n",
       "      <td>...</td>\n",
       "      <td>...</td>\n",
       "      <td>...</td>\n",
       "      <td>...</td>\n",
       "    </tr>\n",
       "    <tr>\n",
       "      <th>14777</th>\n",
       "      <td>-0.594052</td>\n",
       "      <td>-0.745312</td>\n",
       "      <td>-0.881902</td>\n",
       "      <td>-1.020505</td>\n",
       "      <td>-0.233938</td>\n",
       "      <td>-0.235542</td>\n",
       "      <td>-0.230541</td>\n",
       "      <td>-0.235542</td>\n",
       "      <td>-0.216527</td>\n",
       "      <td>-0.218063</td>\n",
       "      <td>...</td>\n",
       "      <td>-0.011633</td>\n",
       "      <td>-0.014247</td>\n",
       "      <td>-0.016452</td>\n",
       "      <td>-0.020151</td>\n",
       "      <td>-0.011633</td>\n",
       "      <td>-0.011633</td>\n",
       "      <td>-0.011633</td>\n",
       "      <td>-0.011633</td>\n",
       "      <td>-0.014247</td>\n",
       "      <td>-0.011633</td>\n",
       "    </tr>\n",
       "    <tr>\n",
       "      <th>14778</th>\n",
       "      <td>0.115957</td>\n",
       "      <td>-0.532691</td>\n",
       "      <td>1.133913</td>\n",
       "      <td>0.979907</td>\n",
       "      <td>4.274633</td>\n",
       "      <td>-0.235542</td>\n",
       "      <td>-0.230541</td>\n",
       "      <td>-0.235542</td>\n",
       "      <td>-0.216527</td>\n",
       "      <td>-0.218063</td>\n",
       "      <td>...</td>\n",
       "      <td>-0.011633</td>\n",
       "      <td>-0.014247</td>\n",
       "      <td>-0.016452</td>\n",
       "      <td>-0.020151</td>\n",
       "      <td>-0.011633</td>\n",
       "      <td>-0.011633</td>\n",
       "      <td>-0.011633</td>\n",
       "      <td>-0.011633</td>\n",
       "      <td>-0.014247</td>\n",
       "      <td>-0.011633</td>\n",
       "    </tr>\n",
       "    <tr>\n",
       "      <th>14779</th>\n",
       "      <td>-0.430204</td>\n",
       "      <td>0.295097</td>\n",
       "      <td>-0.881902</td>\n",
       "      <td>0.979907</td>\n",
       "      <td>-0.233938</td>\n",
       "      <td>-0.235542</td>\n",
       "      <td>-0.230541</td>\n",
       "      <td>-0.235542</td>\n",
       "      <td>-0.216527</td>\n",
       "      <td>-0.218063</td>\n",
       "      <td>...</td>\n",
       "      <td>-0.011633</td>\n",
       "      <td>-0.014247</td>\n",
       "      <td>-0.016452</td>\n",
       "      <td>-0.020151</td>\n",
       "      <td>-0.011633</td>\n",
       "      <td>-0.011633</td>\n",
       "      <td>-0.011633</td>\n",
       "      <td>-0.011633</td>\n",
       "      <td>-0.014247</td>\n",
       "      <td>-0.011633</td>\n",
       "    </tr>\n",
       "    <tr>\n",
       "      <th>14780</th>\n",
       "      <td>2.100340</td>\n",
       "      <td>-0.632778</td>\n",
       "      <td>1.133913</td>\n",
       "      <td>-1.020505</td>\n",
       "      <td>4.274633</td>\n",
       "      <td>-0.235542</td>\n",
       "      <td>-0.230541</td>\n",
       "      <td>-0.235542</td>\n",
       "      <td>-0.216527</td>\n",
       "      <td>-0.218063</td>\n",
       "      <td>...</td>\n",
       "      <td>-0.011633</td>\n",
       "      <td>-0.014247</td>\n",
       "      <td>-0.016452</td>\n",
       "      <td>-0.020151</td>\n",
       "      <td>-0.011633</td>\n",
       "      <td>-0.011633</td>\n",
       "      <td>-0.011633</td>\n",
       "      <td>-0.011633</td>\n",
       "      <td>-0.014247</td>\n",
       "      <td>-0.011633</td>\n",
       "    </tr>\n",
       "    <tr>\n",
       "      <th>14781</th>\n",
       "      <td>-0.575847</td>\n",
       "      <td>-0.012237</td>\n",
       "      <td>-0.881902</td>\n",
       "      <td>-1.020505</td>\n",
       "      <td>-0.233938</td>\n",
       "      <td>-0.235542</td>\n",
       "      <td>-0.230541</td>\n",
       "      <td>-0.235542</td>\n",
       "      <td>-0.216527</td>\n",
       "      <td>-0.218063</td>\n",
       "      <td>...</td>\n",
       "      <td>-0.011633</td>\n",
       "      <td>-0.014247</td>\n",
       "      <td>-0.016452</td>\n",
       "      <td>-0.020151</td>\n",
       "      <td>-0.011633</td>\n",
       "      <td>-0.011633</td>\n",
       "      <td>-0.011633</td>\n",
       "      <td>-0.011633</td>\n",
       "      <td>-0.014247</td>\n",
       "      <td>-0.011633</td>\n",
       "    </tr>\n",
       "  </tbody>\n",
       "</table>\n",
       "<p>14782 rows × 10024 columns</p>\n",
       "</div>\n",
       "      <button class=\"colab-df-convert\" onclick=\"convertToInteractive('df-55c90008-4ee5-4e83-ac7d-c26c9faeb8f8')\"\n",
       "              title=\"Convert this dataframe to an interactive table.\"\n",
       "              style=\"display:none;\">\n",
       "        \n",
       "  <svg xmlns=\"http://www.w3.org/2000/svg\" height=\"24px\"viewBox=\"0 0 24 24\"\n",
       "       width=\"24px\">\n",
       "    <path d=\"M0 0h24v24H0V0z\" fill=\"none\"/>\n",
       "    <path d=\"M18.56 5.44l.94 2.06.94-2.06 2.06-.94-2.06-.94-.94-2.06-.94 2.06-2.06.94zm-11 1L8.5 8.5l.94-2.06 2.06-.94-2.06-.94L8.5 2.5l-.94 2.06-2.06.94zm10 10l.94 2.06.94-2.06 2.06-.94-2.06-.94-.94-2.06-.94 2.06-2.06.94z\"/><path d=\"M17.41 7.96l-1.37-1.37c-.4-.4-.92-.59-1.43-.59-.52 0-1.04.2-1.43.59L10.3 9.45l-7.72 7.72c-.78.78-.78 2.05 0 2.83L4 21.41c.39.39.9.59 1.41.59.51 0 1.02-.2 1.41-.59l7.78-7.78 2.81-2.81c.8-.78.8-2.07 0-2.86zM5.41 20L4 18.59l7.72-7.72 1.47 1.35L5.41 20z\"/>\n",
       "  </svg>\n",
       "      </button>\n",
       "      \n",
       "  <style>\n",
       "    .colab-df-container {\n",
       "      display:flex;\n",
       "      flex-wrap:wrap;\n",
       "      gap: 12px;\n",
       "    }\n",
       "\n",
       "    .colab-df-convert {\n",
       "      background-color: #E8F0FE;\n",
       "      border: none;\n",
       "      border-radius: 50%;\n",
       "      cursor: pointer;\n",
       "      display: none;\n",
       "      fill: #1967D2;\n",
       "      height: 32px;\n",
       "      padding: 0 0 0 0;\n",
       "      width: 32px;\n",
       "    }\n",
       "\n",
       "    .colab-df-convert:hover {\n",
       "      background-color: #E2EBFA;\n",
       "      box-shadow: 0px 1px 2px rgba(60, 64, 67, 0.3), 0px 1px 3px 1px rgba(60, 64, 67, 0.15);\n",
       "      fill: #174EA6;\n",
       "    }\n",
       "\n",
       "    [theme=dark] .colab-df-convert {\n",
       "      background-color: #3B4455;\n",
       "      fill: #D2E3FC;\n",
       "    }\n",
       "\n",
       "    [theme=dark] .colab-df-convert:hover {\n",
       "      background-color: #434B5C;\n",
       "      box-shadow: 0px 1px 3px 1px rgba(0, 0, 0, 0.15);\n",
       "      filter: drop-shadow(0px 1px 2px rgba(0, 0, 0, 0.3));\n",
       "      fill: #FFFFFF;\n",
       "    }\n",
       "  </style>\n",
       "\n",
       "      <script>\n",
       "        const buttonEl =\n",
       "          document.querySelector('#df-55c90008-4ee5-4e83-ac7d-c26c9faeb8f8 button.colab-df-convert');\n",
       "        buttonEl.style.display =\n",
       "          google.colab.kernel.accessAllowed ? 'block' : 'none';\n",
       "\n",
       "        async function convertToInteractive(key) {\n",
       "          const element = document.querySelector('#df-55c90008-4ee5-4e83-ac7d-c26c9faeb8f8');\n",
       "          const dataTable =\n",
       "            await google.colab.kernel.invokeFunction('convertToInteractive',\n",
       "                                                     [key], {});\n",
       "          if (!dataTable) return;\n",
       "\n",
       "          const docLinkHtml = 'Like what you see? Visit the ' +\n",
       "            '<a target=\"_blank\" href=https://colab.research.google.com/notebooks/data_table.ipynb>data table notebook</a>'\n",
       "            + ' to learn more about interactive tables.';\n",
       "          element.innerHTML = '';\n",
       "          dataTable['output_type'] = 'display_data';\n",
       "          await google.colab.output.renderOutput(dataTable, element);\n",
       "          const docLink = document.createElement('div');\n",
       "          docLink.innerHTML = docLinkHtml;\n",
       "          element.appendChild(docLink);\n",
       "        }\n",
       "      </script>\n",
       "    </div>\n",
       "  </div>\n",
       "  "
      ],
      "text/plain": [
       "       title_len       age  has_authtext  has_linktext  subred_baseball  \\\n",
       "0      -0.375588 -0.731827      1.133913     -1.020505        -0.233938   \n",
       "1       2.282394 -0.277249      1.133913     -1.020505        -0.233938   \n",
       "2      -0.393793 -0.642729      1.133913     -1.020505        -0.233938   \n",
       "3       0.134162 -0.392396     -0.881902      0.979907        -0.233938   \n",
       "4       0.298010  0.097290     -0.881902     -1.020505        -0.233938   \n",
       "...          ...       ...           ...           ...              ...   \n",
       "14777  -0.594052 -0.745312     -0.881902     -1.020505        -0.233938   \n",
       "14778   0.115957 -0.532691      1.133913      0.979907         4.274633   \n",
       "14779  -0.430204  0.295097     -0.881902      0.979907        -0.233938   \n",
       "14780   2.100340 -0.632778      1.133913     -1.020505         4.274633   \n",
       "14781  -0.575847 -0.012237     -0.881902     -1.020505        -0.233938   \n",
       "\n",
       "       subred_bicycling  subred_boxing  subred_cfb  subred_climbing  \\\n",
       "0             -0.235542      -0.230541    4.245522        -0.216527   \n",
       "1             -0.235542      -0.230541   -0.235542        -0.216527   \n",
       "2             -0.235542      -0.230541   -0.235542        -0.216527   \n",
       "3             -0.235542      -0.230541   -0.235542        -0.216527   \n",
       "4             -0.235542      -0.230541   -0.235542        -0.216527   \n",
       "...                 ...            ...         ...              ...   \n",
       "14777         -0.235542      -0.230541   -0.235542        -0.216527   \n",
       "14778         -0.235542      -0.230541   -0.235542        -0.216527   \n",
       "14779         -0.235542      -0.230541   -0.235542        -0.216527   \n",
       "14780         -0.235542      -0.230541   -0.235542        -0.216527   \n",
       "14781         -0.235542      -0.230541   -0.235542        -0.216527   \n",
       "\n",
       "       subred_collegebasketball  ...      črni       łks      łódź     śląsk  \\\n",
       "0                     -0.218063  ... -0.011633 -0.014247 -0.016452 -0.020151   \n",
       "1                     -0.218063  ... -0.011633 -0.014247 -0.016452 -0.020151   \n",
       "2                     -0.218063  ... -0.011633 -0.014247 -0.016452 -0.020151   \n",
       "3                     -0.218063  ... -0.011633 -0.014247 -0.016452 -0.020151   \n",
       "4                     -0.218063  ... -0.011633 -0.014247 -0.016452 -0.020151   \n",
       "...                         ...  ...       ...       ...       ...       ...   \n",
       "14777                 -0.218063  ... -0.011633 -0.014247 -0.016452 -0.020151   \n",
       "14778                 -0.218063  ... -0.011633 -0.014247 -0.016452 -0.020151   \n",
       "14779                 -0.218063  ... -0.011633 -0.014247 -0.016452 -0.020151   \n",
       "14780                 -0.218063  ... -0.011633 -0.014247 -0.016452 -0.020151   \n",
       "14781                 -0.218063  ... -0.011633 -0.014247 -0.016452 -0.020151   \n",
       "\n",
       "             𝐅𝐁      𝐍𝐂𝐀𝐀   𝐏𝐥𝐚𝐲𝐢𝐧𝐠     𝐑𝐮𝐥𝐞𝐬    𝐔𝐩𝐝𝐚𝐭𝐞      𝟐𝟎𝟐𝟐  \n",
       "0     -0.011633 -0.011633 -0.011633 -0.011633 -0.014247 -0.011633  \n",
       "1     -0.011633 -0.011633 -0.011633 -0.011633 -0.014247 -0.011633  \n",
       "2     -0.011633 -0.011633 -0.011633 -0.011633 -0.014247 -0.011633  \n",
       "3     -0.011633 -0.011633 -0.011633 -0.011633 -0.014247 -0.011633  \n",
       "4     -0.011633 -0.011633 -0.011633 -0.011633 -0.014247 -0.011633  \n",
       "...         ...       ...       ...       ...       ...       ...  \n",
       "14777 -0.011633 -0.011633 -0.011633 -0.011633 -0.014247 -0.011633  \n",
       "14778 -0.011633 -0.011633 -0.011633 -0.011633 -0.014247 -0.011633  \n",
       "14779 -0.011633 -0.011633 -0.011633 -0.011633 -0.014247 -0.011633  \n",
       "14780 -0.011633 -0.011633 -0.011633 -0.011633 -0.014247 -0.011633  \n",
       "14781 -0.011633 -0.011633 -0.011633 -0.011633 -0.014247 -0.011633  \n",
       "\n",
       "[14782 rows x 10024 columns]"
      ]
     },
     "execution_count": 15,
     "metadata": {},
     "output_type": "execute_result"
    }
   ],
   "source": [
    "X_train_cvec_ss"
   ]
  },
  {
   "cell_type": "code",
   "execution_count": 16,
   "metadata": {
    "colab": {
     "base_uri": "https://localhost:8080/",
     "height": 488
    },
    "id": "w9AfxJvMHxXR",
    "outputId": "01ec78b4-1012-4593-e983-3b56a9266234"
   },
   "outputs": [
    {
     "data": {
      "text/html": [
       "\n",
       "  <div id=\"df-cb07d0b7-8bcf-4a5a-9ccd-1034d467e82f\">\n",
       "    <div class=\"colab-df-container\">\n",
       "      <div>\n",
       "<style scoped>\n",
       "    .dataframe tbody tr th:only-of-type {\n",
       "        vertical-align: middle;\n",
       "    }\n",
       "\n",
       "    .dataframe tbody tr th {\n",
       "        vertical-align: top;\n",
       "    }\n",
       "\n",
       "    .dataframe thead th {\n",
       "        text-align: right;\n",
       "    }\n",
       "</style>\n",
       "<table border=\"1\" class=\"dataframe\">\n",
       "  <thead>\n",
       "    <tr style=\"text-align: right;\">\n",
       "      <th></th>\n",
       "      <th>title_len</th>\n",
       "      <th>age</th>\n",
       "      <th>has_authtext</th>\n",
       "      <th>has_linktext</th>\n",
       "      <th>subred_baseball</th>\n",
       "      <th>subred_bicycling</th>\n",
       "      <th>subred_boxing</th>\n",
       "      <th>subred_cfb</th>\n",
       "      <th>subred_climbing</th>\n",
       "      <th>subred_collegebasketball</th>\n",
       "      <th>...</th>\n",
       "      <th>črni</th>\n",
       "      <th>łks</th>\n",
       "      <th>łódź</th>\n",
       "      <th>śląsk</th>\n",
       "      <th>𝐅𝐁</th>\n",
       "      <th>𝐍𝐂𝐀𝐀</th>\n",
       "      <th>𝐏𝐥𝐚𝐲𝐢𝐧𝐠</th>\n",
       "      <th>𝐑𝐮𝐥𝐞𝐬</th>\n",
       "      <th>𝐔𝐩𝐝𝐚𝐭𝐞</th>\n",
       "      <th>𝟐𝟎𝟐𝟐</th>\n",
       "    </tr>\n",
       "  </thead>\n",
       "  <tbody>\n",
       "    <tr>\n",
       "      <th>0</th>\n",
       "      <td>-0.976365</td>\n",
       "      <td>-0.462934</td>\n",
       "      <td>-0.881902</td>\n",
       "      <td>-1.020505</td>\n",
       "      <td>-0.233938</td>\n",
       "      <td>4.245522</td>\n",
       "      <td>-0.230541</td>\n",
       "      <td>-0.235542</td>\n",
       "      <td>-0.216527</td>\n",
       "      <td>-0.218063</td>\n",
       "      <td>...</td>\n",
       "      <td>-0.011633</td>\n",
       "      <td>-0.014247</td>\n",
       "      <td>-0.016452</td>\n",
       "      <td>-0.020151</td>\n",
       "      <td>-0.011633</td>\n",
       "      <td>-0.011633</td>\n",
       "      <td>-0.011633</td>\n",
       "      <td>-0.011633</td>\n",
       "      <td>-0.014247</td>\n",
       "      <td>-0.011633</td>\n",
       "    </tr>\n",
       "    <tr>\n",
       "      <th>1</th>\n",
       "      <td>-0.211740</td>\n",
       "      <td>-0.564373</td>\n",
       "      <td>1.133913</td>\n",
       "      <td>0.979907</td>\n",
       "      <td>-0.233938</td>\n",
       "      <td>-0.235542</td>\n",
       "      <td>-0.230541</td>\n",
       "      <td>4.245522</td>\n",
       "      <td>-0.216527</td>\n",
       "      <td>-0.218063</td>\n",
       "      <td>...</td>\n",
       "      <td>-0.011633</td>\n",
       "      <td>-0.014247</td>\n",
       "      <td>-0.016452</td>\n",
       "      <td>-0.020151</td>\n",
       "      <td>-0.011633</td>\n",
       "      <td>-0.011633</td>\n",
       "      <td>-0.011633</td>\n",
       "      <td>-0.011633</td>\n",
       "      <td>-0.014247</td>\n",
       "      <td>-0.011633</td>\n",
       "    </tr>\n",
       "    <tr>\n",
       "      <th>2</th>\n",
       "      <td>-0.885338</td>\n",
       "      <td>0.614689</td>\n",
       "      <td>-0.881902</td>\n",
       "      <td>-1.020505</td>\n",
       "      <td>-0.233938</td>\n",
       "      <td>-0.235542</td>\n",
       "      <td>-0.230541</td>\n",
       "      <td>-0.235542</td>\n",
       "      <td>-0.216527</td>\n",
       "      <td>-0.218063</td>\n",
       "      <td>...</td>\n",
       "      <td>-0.011633</td>\n",
       "      <td>-0.014247</td>\n",
       "      <td>-0.016452</td>\n",
       "      <td>-0.020151</td>\n",
       "      <td>-0.011633</td>\n",
       "      <td>-0.011633</td>\n",
       "      <td>-0.011633</td>\n",
       "      <td>-0.011633</td>\n",
       "      <td>-0.014247</td>\n",
       "      <td>-0.011633</td>\n",
       "    </tr>\n",
       "    <tr>\n",
       "      <th>3</th>\n",
       "      <td>-1.012775</td>\n",
       "      <td>0.585229</td>\n",
       "      <td>-0.881902</td>\n",
       "      <td>0.979907</td>\n",
       "      <td>-0.233938</td>\n",
       "      <td>-0.235542</td>\n",
       "      <td>-0.230541</td>\n",
       "      <td>-0.235542</td>\n",
       "      <td>-0.216527</td>\n",
       "      <td>-0.218063</td>\n",
       "      <td>...</td>\n",
       "      <td>-0.011633</td>\n",
       "      <td>-0.014247</td>\n",
       "      <td>-0.016452</td>\n",
       "      <td>-0.020151</td>\n",
       "      <td>-0.011633</td>\n",
       "      <td>-0.011633</td>\n",
       "      <td>-0.011633</td>\n",
       "      <td>-0.011633</td>\n",
       "      <td>-0.014247</td>\n",
       "      <td>-0.011633</td>\n",
       "    </tr>\n",
       "    <tr>\n",
       "      <th>4</th>\n",
       "      <td>-0.594052</td>\n",
       "      <td>0.384390</td>\n",
       "      <td>-0.881902</td>\n",
       "      <td>-1.020505</td>\n",
       "      <td>-0.233938</td>\n",
       "      <td>-0.235542</td>\n",
       "      <td>-0.230541</td>\n",
       "      <td>-0.235542</td>\n",
       "      <td>-0.216527</td>\n",
       "      <td>-0.218063</td>\n",
       "      <td>...</td>\n",
       "      <td>-0.011633</td>\n",
       "      <td>-0.014247</td>\n",
       "      <td>-0.016452</td>\n",
       "      <td>-0.020151</td>\n",
       "      <td>-0.011633</td>\n",
       "      <td>-0.011633</td>\n",
       "      <td>-0.011633</td>\n",
       "      <td>-0.011633</td>\n",
       "      <td>-0.014247</td>\n",
       "      <td>-0.011633</td>\n",
       "    </tr>\n",
       "    <tr>\n",
       "      <th>...</th>\n",
       "      <td>...</td>\n",
       "      <td>...</td>\n",
       "      <td>...</td>\n",
       "      <td>...</td>\n",
       "      <td>...</td>\n",
       "      <td>...</td>\n",
       "      <td>...</td>\n",
       "      <td>...</td>\n",
       "      <td>...</td>\n",
       "      <td>...</td>\n",
       "      <td>...</td>\n",
       "      <td>...</td>\n",
       "      <td>...</td>\n",
       "      <td>...</td>\n",
       "      <td>...</td>\n",
       "      <td>...</td>\n",
       "      <td>...</td>\n",
       "      <td>...</td>\n",
       "      <td>...</td>\n",
       "      <td>...</td>\n",
       "      <td>...</td>\n",
       "    </tr>\n",
       "    <tr>\n",
       "      <th>3691</th>\n",
       "      <td>-0.521231</td>\n",
       "      <td>-0.789483</td>\n",
       "      <td>-0.881902</td>\n",
       "      <td>-1.020505</td>\n",
       "      <td>-0.233938</td>\n",
       "      <td>-0.235542</td>\n",
       "      <td>4.337628</td>\n",
       "      <td>-0.235542</td>\n",
       "      <td>-0.216527</td>\n",
       "      <td>-0.218063</td>\n",
       "      <td>...</td>\n",
       "      <td>-0.011633</td>\n",
       "      <td>-0.014247</td>\n",
       "      <td>-0.016452</td>\n",
       "      <td>-0.020151</td>\n",
       "      <td>-0.011633</td>\n",
       "      <td>-0.011633</td>\n",
       "      <td>-0.011633</td>\n",
       "      <td>-0.011633</td>\n",
       "      <td>-0.014247</td>\n",
       "      <td>-0.011633</td>\n",
       "    </tr>\n",
       "    <tr>\n",
       "      <th>3692</th>\n",
       "      <td>-0.776106</td>\n",
       "      <td>-0.723700</td>\n",
       "      <td>-0.881902</td>\n",
       "      <td>0.979907</td>\n",
       "      <td>-0.233938</td>\n",
       "      <td>-0.235542</td>\n",
       "      <td>-0.230541</td>\n",
       "      <td>-0.235542</td>\n",
       "      <td>-0.216527</td>\n",
       "      <td>-0.218063</td>\n",
       "      <td>...</td>\n",
       "      <td>-0.011633</td>\n",
       "      <td>-0.014247</td>\n",
       "      <td>-0.016452</td>\n",
       "      <td>-0.020151</td>\n",
       "      <td>-0.011633</td>\n",
       "      <td>-0.011633</td>\n",
       "      <td>-0.011633</td>\n",
       "      <td>-0.011633</td>\n",
       "      <td>-0.014247</td>\n",
       "      <td>-0.011633</td>\n",
       "    </tr>\n",
       "    <tr>\n",
       "      <th>3693</th>\n",
       "      <td>-0.138918</td>\n",
       "      <td>0.661894</td>\n",
       "      <td>-0.881902</td>\n",
       "      <td>-1.020505</td>\n",
       "      <td>-0.233938</td>\n",
       "      <td>-0.235542</td>\n",
       "      <td>-0.230541</td>\n",
       "      <td>-0.235542</td>\n",
       "      <td>-0.216527</td>\n",
       "      <td>-0.218063</td>\n",
       "      <td>...</td>\n",
       "      <td>-0.011633</td>\n",
       "      <td>-0.014247</td>\n",
       "      <td>-0.016452</td>\n",
       "      <td>-0.020151</td>\n",
       "      <td>-0.011633</td>\n",
       "      <td>-0.011633</td>\n",
       "      <td>-0.011633</td>\n",
       "      <td>-0.011633</td>\n",
       "      <td>-0.014247</td>\n",
       "      <td>-0.011633</td>\n",
       "    </tr>\n",
       "    <tr>\n",
       "      <th>3694</th>\n",
       "      <td>-0.557642</td>\n",
       "      <td>-0.569920</td>\n",
       "      <td>1.133913</td>\n",
       "      <td>-1.020505</td>\n",
       "      <td>-0.233938</td>\n",
       "      <td>-0.235542</td>\n",
       "      <td>-0.230541</td>\n",
       "      <td>-0.235542</td>\n",
       "      <td>-0.216527</td>\n",
       "      <td>-0.218063</td>\n",
       "      <td>...</td>\n",
       "      <td>-0.011633</td>\n",
       "      <td>-0.014247</td>\n",
       "      <td>-0.016452</td>\n",
       "      <td>-0.020151</td>\n",
       "      <td>-0.011633</td>\n",
       "      <td>-0.011633</td>\n",
       "      <td>-0.011633</td>\n",
       "      <td>-0.011633</td>\n",
       "      <td>-0.014247</td>\n",
       "      <td>-0.011633</td>\n",
       "    </tr>\n",
       "    <tr>\n",
       "      <th>3695</th>\n",
       "      <td>-0.393793</td>\n",
       "      <td>-0.396681</td>\n",
       "      <td>-0.881902</td>\n",
       "      <td>0.979907</td>\n",
       "      <td>-0.233938</td>\n",
       "      <td>-0.235542</td>\n",
       "      <td>-0.230541</td>\n",
       "      <td>-0.235542</td>\n",
       "      <td>-0.216527</td>\n",
       "      <td>-0.218063</td>\n",
       "      <td>...</td>\n",
       "      <td>-0.011633</td>\n",
       "      <td>-0.014247</td>\n",
       "      <td>-0.016452</td>\n",
       "      <td>-0.020151</td>\n",
       "      <td>-0.011633</td>\n",
       "      <td>-0.011633</td>\n",
       "      <td>-0.011633</td>\n",
       "      <td>-0.011633</td>\n",
       "      <td>-0.014247</td>\n",
       "      <td>-0.011633</td>\n",
       "    </tr>\n",
       "  </tbody>\n",
       "</table>\n",
       "<p>3696 rows × 10024 columns</p>\n",
       "</div>\n",
       "      <button class=\"colab-df-convert\" onclick=\"convertToInteractive('df-cb07d0b7-8bcf-4a5a-9ccd-1034d467e82f')\"\n",
       "              title=\"Convert this dataframe to an interactive table.\"\n",
       "              style=\"display:none;\">\n",
       "        \n",
       "  <svg xmlns=\"http://www.w3.org/2000/svg\" height=\"24px\"viewBox=\"0 0 24 24\"\n",
       "       width=\"24px\">\n",
       "    <path d=\"M0 0h24v24H0V0z\" fill=\"none\"/>\n",
       "    <path d=\"M18.56 5.44l.94 2.06.94-2.06 2.06-.94-2.06-.94-.94-2.06-.94 2.06-2.06.94zm-11 1L8.5 8.5l.94-2.06 2.06-.94-2.06-.94L8.5 2.5l-.94 2.06-2.06.94zm10 10l.94 2.06.94-2.06 2.06-.94-2.06-.94-.94-2.06-.94 2.06-2.06.94z\"/><path d=\"M17.41 7.96l-1.37-1.37c-.4-.4-.92-.59-1.43-.59-.52 0-1.04.2-1.43.59L10.3 9.45l-7.72 7.72c-.78.78-.78 2.05 0 2.83L4 21.41c.39.39.9.59 1.41.59.51 0 1.02-.2 1.41-.59l7.78-7.78 2.81-2.81c.8-.78.8-2.07 0-2.86zM5.41 20L4 18.59l7.72-7.72 1.47 1.35L5.41 20z\"/>\n",
       "  </svg>\n",
       "      </button>\n",
       "      \n",
       "  <style>\n",
       "    .colab-df-container {\n",
       "      display:flex;\n",
       "      flex-wrap:wrap;\n",
       "      gap: 12px;\n",
       "    }\n",
       "\n",
       "    .colab-df-convert {\n",
       "      background-color: #E8F0FE;\n",
       "      border: none;\n",
       "      border-radius: 50%;\n",
       "      cursor: pointer;\n",
       "      display: none;\n",
       "      fill: #1967D2;\n",
       "      height: 32px;\n",
       "      padding: 0 0 0 0;\n",
       "      width: 32px;\n",
       "    }\n",
       "\n",
       "    .colab-df-convert:hover {\n",
       "      background-color: #E2EBFA;\n",
       "      box-shadow: 0px 1px 2px rgba(60, 64, 67, 0.3), 0px 1px 3px 1px rgba(60, 64, 67, 0.15);\n",
       "      fill: #174EA6;\n",
       "    }\n",
       "\n",
       "    [theme=dark] .colab-df-convert {\n",
       "      background-color: #3B4455;\n",
       "      fill: #D2E3FC;\n",
       "    }\n",
       "\n",
       "    [theme=dark] .colab-df-convert:hover {\n",
       "      background-color: #434B5C;\n",
       "      box-shadow: 0px 1px 3px 1px rgba(0, 0, 0, 0.15);\n",
       "      filter: drop-shadow(0px 1px 2px rgba(0, 0, 0, 0.3));\n",
       "      fill: #FFFFFF;\n",
       "    }\n",
       "  </style>\n",
       "\n",
       "      <script>\n",
       "        const buttonEl =\n",
       "          document.querySelector('#df-cb07d0b7-8bcf-4a5a-9ccd-1034d467e82f button.colab-df-convert');\n",
       "        buttonEl.style.display =\n",
       "          google.colab.kernel.accessAllowed ? 'block' : 'none';\n",
       "\n",
       "        async function convertToInteractive(key) {\n",
       "          const element = document.querySelector('#df-cb07d0b7-8bcf-4a5a-9ccd-1034d467e82f');\n",
       "          const dataTable =\n",
       "            await google.colab.kernel.invokeFunction('convertToInteractive',\n",
       "                                                     [key], {});\n",
       "          if (!dataTable) return;\n",
       "\n",
       "          const docLinkHtml = 'Like what you see? Visit the ' +\n",
       "            '<a target=\"_blank\" href=https://colab.research.google.com/notebooks/data_table.ipynb>data table notebook</a>'\n",
       "            + ' to learn more about interactive tables.';\n",
       "          element.innerHTML = '';\n",
       "          dataTable['output_type'] = 'display_data';\n",
       "          await google.colab.output.renderOutput(dataTable, element);\n",
       "          const docLink = document.createElement('div');\n",
       "          docLink.innerHTML = docLinkHtml;\n",
       "          element.appendChild(docLink);\n",
       "        }\n",
       "      </script>\n",
       "    </div>\n",
       "  </div>\n",
       "  "
      ],
      "text/plain": [
       "      title_len       age  has_authtext  has_linktext  subred_baseball  \\\n",
       "0     -0.976365 -0.462934     -0.881902     -1.020505        -0.233938   \n",
       "1     -0.211740 -0.564373      1.133913      0.979907        -0.233938   \n",
       "2     -0.885338  0.614689     -0.881902     -1.020505        -0.233938   \n",
       "3     -1.012775  0.585229     -0.881902      0.979907        -0.233938   \n",
       "4     -0.594052  0.384390     -0.881902     -1.020505        -0.233938   \n",
       "...         ...       ...           ...           ...              ...   \n",
       "3691  -0.521231 -0.789483     -0.881902     -1.020505        -0.233938   \n",
       "3692  -0.776106 -0.723700     -0.881902      0.979907        -0.233938   \n",
       "3693  -0.138918  0.661894     -0.881902     -1.020505        -0.233938   \n",
       "3694  -0.557642 -0.569920      1.133913     -1.020505        -0.233938   \n",
       "3695  -0.393793 -0.396681     -0.881902      0.979907        -0.233938   \n",
       "\n",
       "      subred_bicycling  subred_boxing  subred_cfb  subred_climbing  \\\n",
       "0             4.245522      -0.230541   -0.235542        -0.216527   \n",
       "1            -0.235542      -0.230541    4.245522        -0.216527   \n",
       "2            -0.235542      -0.230541   -0.235542        -0.216527   \n",
       "3            -0.235542      -0.230541   -0.235542        -0.216527   \n",
       "4            -0.235542      -0.230541   -0.235542        -0.216527   \n",
       "...                ...            ...         ...              ...   \n",
       "3691         -0.235542       4.337628   -0.235542        -0.216527   \n",
       "3692         -0.235542      -0.230541   -0.235542        -0.216527   \n",
       "3693         -0.235542      -0.230541   -0.235542        -0.216527   \n",
       "3694         -0.235542      -0.230541   -0.235542        -0.216527   \n",
       "3695         -0.235542      -0.230541   -0.235542        -0.216527   \n",
       "\n",
       "      subred_collegebasketball  ...      črni       łks      łódź     śląsk  \\\n",
       "0                    -0.218063  ... -0.011633 -0.014247 -0.016452 -0.020151   \n",
       "1                    -0.218063  ... -0.011633 -0.014247 -0.016452 -0.020151   \n",
       "2                    -0.218063  ... -0.011633 -0.014247 -0.016452 -0.020151   \n",
       "3                    -0.218063  ... -0.011633 -0.014247 -0.016452 -0.020151   \n",
       "4                    -0.218063  ... -0.011633 -0.014247 -0.016452 -0.020151   \n",
       "...                        ...  ...       ...       ...       ...       ...   \n",
       "3691                 -0.218063  ... -0.011633 -0.014247 -0.016452 -0.020151   \n",
       "3692                 -0.218063  ... -0.011633 -0.014247 -0.016452 -0.020151   \n",
       "3693                 -0.218063  ... -0.011633 -0.014247 -0.016452 -0.020151   \n",
       "3694                 -0.218063  ... -0.011633 -0.014247 -0.016452 -0.020151   \n",
       "3695                 -0.218063  ... -0.011633 -0.014247 -0.016452 -0.020151   \n",
       "\n",
       "            𝐅𝐁      𝐍𝐂𝐀𝐀   𝐏𝐥𝐚𝐲𝐢𝐧𝐠     𝐑𝐮𝐥𝐞𝐬    𝐔𝐩𝐝𝐚𝐭𝐞      𝟐𝟎𝟐𝟐  \n",
       "0    -0.011633 -0.011633 -0.011633 -0.011633 -0.014247 -0.011633  \n",
       "1    -0.011633 -0.011633 -0.011633 -0.011633 -0.014247 -0.011633  \n",
       "2    -0.011633 -0.011633 -0.011633 -0.011633 -0.014247 -0.011633  \n",
       "3    -0.011633 -0.011633 -0.011633 -0.011633 -0.014247 -0.011633  \n",
       "4    -0.011633 -0.011633 -0.011633 -0.011633 -0.014247 -0.011633  \n",
       "...        ...       ...       ...       ...       ...       ...  \n",
       "3691 -0.011633 -0.011633 -0.011633 -0.011633 -0.014247 -0.011633  \n",
       "3692 -0.011633 -0.011633 -0.011633 -0.011633 -0.014247 -0.011633  \n",
       "3693 -0.011633 -0.011633 -0.011633 -0.011633 -0.014247 -0.011633  \n",
       "3694 -0.011633 -0.011633 -0.011633 -0.011633 -0.014247 -0.011633  \n",
       "3695 -0.011633 -0.011633 -0.011633 -0.011633 -0.014247 -0.011633  \n",
       "\n",
       "[3696 rows x 10024 columns]"
      ]
     },
     "execution_count": 16,
     "metadata": {},
     "output_type": "execute_result"
    }
   ],
   "source": [
    "X_test_cvec_ss"
   ]
  },
  {
   "cell_type": "markdown",
   "metadata": {
    "id": "zg-NpTCvd1bu"
   },
   "source": [
    "### Model"
   ]
  },
  {
   "cell_type": "markdown",
   "metadata": {
    "id": "KnBsoDvmeS7E"
   },
   "source": [
    "#### Logistic Regression"
   ]
  },
  {
   "cell_type": "markdown",
   "metadata": {
    "id": "3-ar_pCMemuR"
   },
   "source": [
    "- Gridsearch\n",
    "    - LogisticRegression(hyperparams: C)\n",
    "- Report Best Model\n",
    "- Score Best Model on Test Set\n",
    "- Interpret Coefficients"
   ]
  },
  {
   "cell_type": "code",
   "execution_count": 18,
   "metadata": {
    "id": "Ee9fYr3ZIQmn"
   },
   "outputs": [],
   "source": [
    "# instantiate pipe and parameters\n",
    "log_pipe = Pipeline([\n",
    "    ('logr', LogisticRegression(max_iter=10_000))\n",
    "])\n",
    "\n",
    "log_pipe_params = {\n",
    "    'logr__C': [0.05, 0.1, 0.2, 1]\n",
    "}"
   ]
  },
  {
   "cell_type": "code",
   "execution_count": 19,
   "metadata": {
    "colab": {
     "base_uri": "https://localhost:8080/"
    },
    "id": "R9R0291SIQkR",
    "outputId": "68eeb312-6796-4014-f8e7-965fd73217c8"
   },
   "outputs": [
    {
     "name": "stdout",
     "output_type": "stream",
     "text": [
      "Fitting 5 folds for each of 4 candidates, totalling 20 fits\n"
     ]
    },
    {
     "data": {
      "text/plain": [
       "GridSearchCV(estimator=Pipeline(steps=[('logr',\n",
       "                                        LogisticRegression(max_iter=10000))]),\n",
       "             param_grid={'logr__C': [0.05, 0.1, 0.2, 1]}, verbose=1)"
      ]
     },
     "execution_count": 19,
     "metadata": {},
     "output_type": "execute_result"
    }
   ],
   "source": [
    "# instantiate and fit gridsearch\n",
    "gscv = GridSearchCV(log_pipe, param_grid=log_pipe_params, verbose=1)\n",
    "\n",
    "gscv.fit(X_train_cvec_ss, abv_med_comms_train)"
   ]
  },
  {
   "cell_type": "code",
   "execution_count": 20,
   "metadata": {
    "colab": {
     "base_uri": "https://localhost:8080/"
    },
    "id": "60045aEyIQfW",
    "outputId": "84557bea-3772-4ed1-a4f1-4c4aa3e23781"
   },
   "outputs": [
    {
     "data": {
      "text/plain": [
       "Pipeline(steps=[('logr', LogisticRegression(C=0.05, max_iter=10000))])"
      ]
     },
     "execution_count": 20,
     "metadata": {},
     "output_type": "execute_result"
    }
   ],
   "source": [
    "# best estimator\n",
    "gscv.best_estimator_"
   ]
  },
  {
   "cell_type": "code",
   "execution_count": 21,
   "metadata": {
    "colab": {
     "base_uri": "https://localhost:8080/"
    },
    "id": "wNF4koZdIQcq",
    "outputId": "b888b964-18cd-46d0-9fc5-8588f732e32a"
   },
   "outputs": [
    {
     "data": {
      "text/plain": [
       "0.633608469250049"
      ]
     },
     "execution_count": 21,
     "metadata": {},
     "output_type": "execute_result"
    }
   ],
   "source": [
    "# best internal score (accuracy)\n",
    "gscv.best_score_"
   ]
  },
  {
   "cell_type": "code",
   "execution_count": 22,
   "metadata": {
    "colab": {
     "base_uri": "https://localhost:8080/"
    },
    "id": "fS_HPgvdMarj",
    "outputId": "f5bf672c-aee8-4559-934a-10136fcb31c9"
   },
   "outputs": [
    {
     "data": {
      "text/plain": [
       "0.635551948051948"
      ]
     },
     "execution_count": 22,
     "metadata": {},
     "output_type": "execute_result"
    }
   ],
   "source": [
    "# score on test set (accuracy)\n",
    "gscv.score(X_test_cvec_ss, abv_med_comms_test)"
   ]
  },
  {
   "cell_type": "code",
   "execution_count": 23,
   "metadata": {
    "colab": {
     "base_uri": "https://localhost:8080/",
     "height": 279
    },
    "id": "amj_XjSmIQZT",
    "outputId": "6f882e6c-f9de-48d0-fc62-35701c5eeaea"
   },
   "outputs": [
    {
     "data": {
      "image/png": "[encoded data removed]",
      "text/plain": [
       "<Figure size 432x288 with 2 Axes>"
      ]
     },
     "metadata": {
      "needs_background": "light"
     },
     "output_type": "display_data"
    }
   ],
   "source": [
    "log_preds = gscv.predict(X_test_cvec_ss)\n",
    "ConfusionMatrixDisplay.from_predictions(abv_med_comms_test, log_preds);"
   ]
  },
  {
   "cell_type": "markdown",
   "metadata": {
    "id": "VPl2e8SlNEom"
   },
   "source": [
    "Model Metrics Summary:\n",
    "- Accuracy: 0.636\n",
    "- Precision: 0.630\n",
    "- Recall: 0.633\n",
    "- Specificity: 0.638\n",
    "\n",
    "All four metrics are remarkably close together, indicating that the model is relatively balanced in the way it makes predictions. Accuracy is about 0.15 better than baseline accuracy. Considering the variation in the nature of various sports and behavior in the corresponding subreddits--EDA of popular words by subreddit indicated divergence between competition- and player-related words for sports related to games played primarily by professionals and community-related words for games and hobbies in which individuals engage personally--this improvement upon the baseline is not bad. Accuracy is the most important metric here, since we care primarily about making accurate predictions and there are not significant downsides to specific error types."
   ]
  },
  {
   "cell_type": "code",
   "execution_count": 24,
   "metadata": {
    "colab": {
     "base_uri": "https://localhost:8080/",
     "height": 833
    },
    "id": "kbGagQoFMZct",
    "outputId": "e6eabd40-4130-490a-dcca-4c2f96e4ec32"
   },
   "outputs": [
    {
     "data": {
      "text/html": [
       "\n",
       "  <div id=\"df-9b81a178-4a6d-4ecd-b9cc-863952377692\">\n",
       "    <div class=\"colab-df-container\">\n",
       "      <div>\n",
       "<style scoped>\n",
       "    .dataframe tbody tr th:only-of-type {\n",
       "        vertical-align: middle;\n",
       "    }\n",
       "\n",
       "    .dataframe tbody tr th {\n",
       "        vertical-align: top;\n",
       "    }\n",
       "\n",
       "    .dataframe thead th {\n",
       "        text-align: right;\n",
       "    }\n",
       "</style>\n",
       "<table border=\"1\" class=\"dataframe\">\n",
       "  <thead>\n",
       "    <tr style=\"text-align: right;\">\n",
       "      <th></th>\n",
       "      <th>coefficient</th>\n",
       "    </tr>\n",
       "  </thead>\n",
       "  <tbody>\n",
       "    <tr>\n",
       "      <th>subred_nfl</th>\n",
       "      <td>0.526854</td>\n",
       "    </tr>\n",
       "    <tr>\n",
       "      <th>subred_nascar</th>\n",
       "      <td>0.398708</td>\n",
       "    </tr>\n",
       "    <tr>\n",
       "      <th>consecutive</th>\n",
       "      <td>0.373027</td>\n",
       "    </tr>\n",
       "    <tr>\n",
       "      <th>discussion</th>\n",
       "      <td>0.355304</td>\n",
       "    </tr>\n",
       "    <tr>\n",
       "      <th>700</th>\n",
       "      <td>0.352740</td>\n",
       "    </tr>\n",
       "    <tr>\n",
       "      <th>competing</th>\n",
       "      <td>0.335632</td>\n",
       "    </tr>\n",
       "    <tr>\n",
       "      <th>thread</th>\n",
       "      <td>0.334932</td>\n",
       "    </tr>\n",
       "    <tr>\n",
       "      <th>subred_nba</th>\n",
       "      <td>0.298772</td>\n",
       "    </tr>\n",
       "    <tr>\n",
       "      <th>cottonwood</th>\n",
       "      <td>0.293808</td>\n",
       "    </tr>\n",
       "    <tr>\n",
       "      <th>kansas</th>\n",
       "      <td>0.291334</td>\n",
       "    </tr>\n",
       "    <tr>\n",
       "      <th>passing</th>\n",
       "      <td>0.290932</td>\n",
       "    </tr>\n",
       "    <tr>\n",
       "      <th>subred_boxing</th>\n",
       "      <td>0.289615</td>\n",
       "    </tr>\n",
       "    <tr>\n",
       "      <th>house</th>\n",
       "      <td>0.284395</td>\n",
       "    </tr>\n",
       "    <tr>\n",
       "      <th>ifsc</th>\n",
       "      <td>0.283667</td>\n",
       "    </tr>\n",
       "    <tr>\n",
       "      <th>surprise</th>\n",
       "      <td>0.278294</td>\n",
       "    </tr>\n",
       "    <tr>\n",
       "      <th>schools</th>\n",
       "      <td>0.277180</td>\n",
       "    </tr>\n",
       "    <tr>\n",
       "      <th>body</th>\n",
       "      <td>0.276677</td>\n",
       "    </tr>\n",
       "    <tr>\n",
       "      <th>don</th>\n",
       "      <td>0.272857</td>\n",
       "    </tr>\n",
       "    <tr>\n",
       "      <th>medland</th>\n",
       "      <td>0.269453</td>\n",
       "    </tr>\n",
       "    <tr>\n",
       "      <th>manchester</th>\n",
       "      <td>0.266182</td>\n",
       "    </tr>\n",
       "    <tr>\n",
       "      <th>subred_cfb</th>\n",
       "      <td>0.265934</td>\n",
       "    </tr>\n",
       "    <tr>\n",
       "      <th>arsenal</th>\n",
       "      <td>0.265646</td>\n",
       "    </tr>\n",
       "    <tr>\n",
       "      <th>spend</th>\n",
       "      <td>0.265083</td>\n",
       "    </tr>\n",
       "    <tr>\n",
       "      <th>juventus</th>\n",
       "      <td>0.264919</td>\n",
       "    </tr>\n",
       "    <tr>\n",
       "      <th>ask</th>\n",
       "      <td>0.259657</td>\n",
       "    </tr>\n",
       "  </tbody>\n",
       "</table>\n",
       "</div>\n",
       "      <button class=\"colab-df-convert\" onclick=\"convertToInteractive('df-9b81a178-4a6d-4ecd-b9cc-863952377692')\"\n",
       "              title=\"Convert this dataframe to an interactive table.\"\n",
       "              style=\"display:none;\">\n",
       "        \n",
       "  <svg xmlns=\"http://www.w3.org/2000/svg\" height=\"24px\"viewBox=\"0 0 24 24\"\n",
       "       width=\"24px\">\n",
       "    <path d=\"M0 0h24v24H0V0z\" fill=\"none\"/>\n",
       "    <path d=\"M18.56 5.44l.94 2.06.94-2.06 2.06-.94-2.06-.94-.94-2.06-.94 2.06-2.06.94zm-11 1L8.5 8.5l.94-2.06 2.06-.94-2.06-.94L8.5 2.5l-.94 2.06-2.06.94zm10 10l.94 2.06.94-2.06 2.06-.94-2.06-.94-.94-2.06-.94 2.06-2.06.94z\"/><path d=\"M17.41 7.96l-1.37-1.37c-.4-.4-.92-.59-1.43-.59-.52 0-1.04.2-1.43.59L10.3 9.45l-7.72 7.72c-.78.78-.78 2.05 0 2.83L4 21.41c.39.39.9.59 1.41.59.51 0 1.02-.2 1.41-.59l7.78-7.78 2.81-2.81c.8-.78.8-2.07 0-2.86zM5.41 20L4 18.59l7.72-7.72 1.47 1.35L5.41 20z\"/>\n",
       "  </svg>\n",
       "      </button>\n",
       "      \n",
       "  <style>\n",
       "    .colab-df-container {\n",
       "      display:flex;\n",
       "      flex-wrap:wrap;\n",
       "      gap: 12px;\n",
       "    }\n",
       "\n",
       "    .colab-df-convert {\n",
       "      background-color: #E8F0FE;\n",
       "      border: none;\n",
       "      border-radius: 50%;\n",
       "      cursor: pointer;\n",
       "      display: none;\n",
       "      fill: #1967D2;\n",
       "      height: 32px;\n",
       "      padding: 0 0 0 0;\n",
       "      width: 32px;\n",
       "    }\n",
       "\n",
       "    .colab-df-convert:hover {\n",
       "      background-color: #E2EBFA;\n",
       "      box-shadow: 0px 1px 2px rgba(60, 64, 67, 0.3), 0px 1px 3px 1px rgba(60, 64, 67, 0.15);\n",
       "      fill: #174EA6;\n",
       "    }\n",
       "\n",
       "    [theme=dark] .colab-df-convert {\n",
       "      background-color: #3B4455;\n",
       "      fill: #D2E3FC;\n",
       "    }\n",
       "\n",
       "    [theme=dark] .colab-df-convert:hover {\n",
       "      background-color: #434B5C;\n",
       "      box-shadow: 0px 1px 3px 1px rgba(0, 0, 0, 0.15);\n",
       "      filter: drop-shadow(0px 1px 2px rgba(0, 0, 0, 0.3));\n",
       "      fill: #FFFFFF;\n",
       "    }\n",
       "  </style>\n",
       "\n",
       "      <script>\n",
       "        const buttonEl =\n",
       "          document.querySelector('#df-9b81a178-4a6d-4ecd-b9cc-863952377692 button.colab-df-convert');\n",
       "        buttonEl.style.display =\n",
       "          google.colab.kernel.accessAllowed ? 'block' : 'none';\n",
       "\n",
       "        async function convertToInteractive(key) {\n",
       "          const element = document.querySelector('#df-9b81a178-4a6d-4ecd-b9cc-863952377692');\n",
       "          const dataTable =\n",
       "            await google.colab.kernel.invokeFunction('convertToInteractive',\n",
       "                                                     [key], {});\n",
       "          if (!dataTable) return;\n",
       "\n",
       "          const docLinkHtml = 'Like what you see? Visit the ' +\n",
       "            '<a target=\"_blank\" href=https://colab.research.google.com/notebooks/data_table.ipynb>data table notebook</a>'\n",
       "            + ' to learn more about interactive tables.';\n",
       "          element.innerHTML = '';\n",
       "          dataTable['output_type'] = 'display_data';\n",
       "          await google.colab.output.renderOutput(dataTable, element);\n",
       "          const docLink = document.createElement('div');\n",
       "          docLink.innerHTML = docLinkHtml;\n",
       "          element.appendChild(docLink);\n",
       "        }\n",
       "      </script>\n",
       "    </div>\n",
       "  </div>\n",
       "  "
      ],
      "text/plain": [
       "               coefficient\n",
       "subred_nfl        0.526854\n",
       "subred_nascar     0.398708\n",
       "consecutive       0.373027\n",
       "discussion        0.355304\n",
       "700               0.352740\n",
       "competing         0.335632\n",
       "thread            0.334932\n",
       "subred_nba        0.298772\n",
       "cottonwood        0.293808\n",
       "kansas            0.291334\n",
       "passing           0.290932\n",
       "subred_boxing     0.289615\n",
       "house             0.284395\n",
       "ifsc              0.283667\n",
       "surprise          0.278294\n",
       "schools           0.277180\n",
       "body              0.276677\n",
       "don               0.272857\n",
       "medland           0.269453\n",
       "manchester        0.266182\n",
       "subred_cfb        0.265934\n",
       "arsenal           0.265646\n",
       "spend             0.265083\n",
       "juventus          0.264919\n",
       "ask               0.259657"
      ]
     },
     "execution_count": 24,
     "metadata": {},
     "output_type": "execute_result"
    }
   ],
   "source": [
    "pd.DataFrame(gscv.best_estimator_.named_steps['logr'].coef_.reshape(-1), index=X_train_cvec_ss.columns, columns=['coefficient']).sort_values(by='coefficient', ascending=False)[:25]"
   ]
  },
  {
   "cell_type": "markdown",
   "metadata": {
    "id": "bVkgHvxmvczN"
   },
   "source": [
    "Coefficient Interpretation:\n",
    "- Certain sports generate more comments (nfl, nascar, nba, boxing, cfb)\n",
    "- People like discussing (discussion, thread, ask)\n",
    "- People like certain teams (kansas, manchester, arsenal, juventus)\n"
   ]
  },
  {
   "cell_type": "code",
   "execution_count": 25,
   "metadata": {
    "colab": {
     "base_uri": "https://localhost:8080/",
     "height": 833
    },
    "id": "z_jnEMLVqUS1",
    "outputId": "3f90f5a6-ca58-4744-99d0-6faa96a3d699"
   },
   "outputs": [
    {
     "data": {
      "text/html": [
       "\n",
       "  <div id=\"df-ef7905d1-81b6-4a4a-8cff-6874c71f6016\">\n",
       "    <div class=\"colab-df-container\">\n",
       "      <div>\n",
       "<style scoped>\n",
       "    .dataframe tbody tr th:only-of-type {\n",
       "        vertical-align: middle;\n",
       "    }\n",
       "\n",
       "    .dataframe tbody tr th {\n",
       "        vertical-align: top;\n",
       "    }\n",
       "\n",
       "    .dataframe thead th {\n",
       "        text-align: right;\n",
       "    }\n",
       "</style>\n",
       "<table border=\"1\" class=\"dataframe\">\n",
       "  <thead>\n",
       "    <tr style=\"text-align: right;\">\n",
       "      <th></th>\n",
       "      <th>coefficient</th>\n",
       "    </tr>\n",
       "  </thead>\n",
       "  <tbody>\n",
       "    <tr>\n",
       "      <th>subred_fishing</th>\n",
       "      <td>-0.634062</td>\n",
       "    </tr>\n",
       "    <tr>\n",
       "      <th>subred_bicycling</th>\n",
       "      <td>-0.470412</td>\n",
       "    </tr>\n",
       "    <tr>\n",
       "      <th>subred_golf</th>\n",
       "      <td>-0.384486</td>\n",
       "    </tr>\n",
       "    <tr>\n",
       "      <th>st</th>\n",
       "      <td>-0.360505</td>\n",
       "    </tr>\n",
       "    <tr>\n",
       "      <th>subred_tennis</th>\n",
       "      <td>-0.354848</td>\n",
       "    </tr>\n",
       "    <tr>\n",
       "      <th>nil</th>\n",
       "      <td>-0.317786</td>\n",
       "    </tr>\n",
       "    <tr>\n",
       "      <th>general</th>\n",
       "      <td>-0.308640</td>\n",
       "    </tr>\n",
       "    <tr>\n",
       "      <th>subred_soccer</th>\n",
       "      <td>-0.295550</td>\n",
       "    </tr>\n",
       "    <tr>\n",
       "      <th>shimano</th>\n",
       "      <td>-0.277896</td>\n",
       "    </tr>\n",
       "    <tr>\n",
       "      <th>postgame</th>\n",
       "      <td>-0.276120</td>\n",
       "    </tr>\n",
       "    <tr>\n",
       "      <th>ticket</th>\n",
       "      <td>-0.270451</td>\n",
       "    </tr>\n",
       "    <tr>\n",
       "      <th>betting</th>\n",
       "      <td>-0.252633</td>\n",
       "    </tr>\n",
       "    <tr>\n",
       "      <th>usman</th>\n",
       "      <td>-0.248731</td>\n",
       "    </tr>\n",
       "    <tr>\n",
       "      <th>autograph</th>\n",
       "      <td>-0.248600</td>\n",
       "    </tr>\n",
       "    <tr>\n",
       "      <th>1999</th>\n",
       "      <td>-0.246559</td>\n",
       "    </tr>\n",
       "    <tr>\n",
       "      <th>duel</th>\n",
       "      <td>-0.244007</td>\n",
       "    </tr>\n",
       "    <tr>\n",
       "      <th>scored</th>\n",
       "      <td>-0.238991</td>\n",
       "    </tr>\n",
       "    <tr>\n",
       "      <th>source</th>\n",
       "      <td>-0.238147</td>\n",
       "    </tr>\n",
       "    <tr>\n",
       "      <th>jessica</th>\n",
       "      <td>-0.237858</td>\n",
       "    </tr>\n",
       "    <tr>\n",
       "      <th>clothing</th>\n",
       "      <td>-0.235409</td>\n",
       "    </tr>\n",
       "    <tr>\n",
       "      <th>stripped</th>\n",
       "      <td>-0.235139</td>\n",
       "    </tr>\n",
       "    <tr>\n",
       "      <th>gps</th>\n",
       "      <td>-0.231022</td>\n",
       "    </tr>\n",
       "    <tr>\n",
       "      <th>atlantic</th>\n",
       "      <td>-0.223996</td>\n",
       "    </tr>\n",
       "    <tr>\n",
       "      <th>ridge</th>\n",
       "      <td>-0.222654</td>\n",
       "    </tr>\n",
       "    <tr>\n",
       "      <th>pro</th>\n",
       "      <td>-0.222192</td>\n",
       "    </tr>\n",
       "  </tbody>\n",
       "</table>\n",
       "</div>\n",
       "      <button class=\"colab-df-convert\" onclick=\"convertToInteractive('df-ef7905d1-81b6-4a4a-8cff-6874c71f6016')\"\n",
       "              title=\"Convert this dataframe to an interactive table.\"\n",
       "              style=\"display:none;\">\n",
       "        \n",
       "  <svg xmlns=\"http://www.w3.org/2000/svg\" height=\"24px\"viewBox=\"0 0 24 24\"\n",
       "       width=\"24px\">\n",
       "    <path d=\"M0 0h24v24H0V0z\" fill=\"none\"/>\n",
       "    <path d=\"M18.56 5.44l.94 2.06.94-2.06 2.06-.94-2.06-.94-.94-2.06-.94 2.06-2.06.94zm-11 1L8.5 8.5l.94-2.06 2.06-.94-2.06-.94L8.5 2.5l-.94 2.06-2.06.94zm10 10l.94 2.06.94-2.06 2.06-.94-2.06-.94-.94-2.06-.94 2.06-2.06.94z\"/><path d=\"M17.41 7.96l-1.37-1.37c-.4-.4-.92-.59-1.43-.59-.52 0-1.04.2-1.43.59L10.3 9.45l-7.72 7.72c-.78.78-.78 2.05 0 2.83L4 21.41c.39.39.9.59 1.41.59.51 0 1.02-.2 1.41-.59l7.78-7.78 2.81-2.81c.8-.78.8-2.07 0-2.86zM5.41 20L4 18.59l7.72-7.72 1.47 1.35L5.41 20z\"/>\n",
       "  </svg>\n",
       "      </button>\n",
       "      \n",
       "  <style>\n",
       "    .colab-df-container {\n",
       "      display:flex;\n",
       "      flex-wrap:wrap;\n",
       "      gap: 12px;\n",
       "    }\n",
       "\n",
       "    .colab-df-convert {\n",
       "      background-color: #E8F0FE;\n",
       "      border: none;\n",
       "      border-radius: 50%;\n",
       "      cursor: pointer;\n",
       "      display: none;\n",
       "      fill: #1967D2;\n",
       "      height: 32px;\n",
       "      padding: 0 0 0 0;\n",
       "      width: 32px;\n",
       "    }\n",
       "\n",
       "    .colab-df-convert:hover {\n",
       "      background-color: #E2EBFA;\n",
       "      box-shadow: 0px 1px 2px rgba(60, 64, 67, 0.3), 0px 1px 3px 1px rgba(60, 64, 67, 0.15);\n",
       "      fill: #174EA6;\n",
       "    }\n",
       "\n",
       "    [theme=dark] .colab-df-convert {\n",
       "      background-color: #3B4455;\n",
       "      fill: #D2E3FC;\n",
       "    }\n",
       "\n",
       "    [theme=dark] .colab-df-convert:hover {\n",
       "      background-color: #434B5C;\n",
       "      box-shadow: 0px 1px 3px 1px rgba(0, 0, 0, 0.15);\n",
       "      filter: drop-shadow(0px 1px 2px rgba(0, 0, 0, 0.3));\n",
       "      fill: #FFFFFF;\n",
       "    }\n",
       "  </style>\n",
       "\n",
       "      <script>\n",
       "        const buttonEl =\n",
       "          document.querySelector('#df-ef7905d1-81b6-4a4a-8cff-6874c71f6016 button.colab-df-convert');\n",
       "        buttonEl.style.display =\n",
       "          google.colab.kernel.accessAllowed ? 'block' : 'none';\n",
       "\n",
       "        async function convertToInteractive(key) {\n",
       "          const element = document.querySelector('#df-ef7905d1-81b6-4a4a-8cff-6874c71f6016');\n",
       "          const dataTable =\n",
       "            await google.colab.kernel.invokeFunction('convertToInteractive',\n",
       "                                                     [key], {});\n",
       "          if (!dataTable) return;\n",
       "\n",
       "          const docLinkHtml = 'Like what you see? Visit the ' +\n",
       "            '<a target=\"_blank\" href=https://colab.research.google.com/notebooks/data_table.ipynb>data table notebook</a>'\n",
       "            + ' to learn more about interactive tables.';\n",
       "          element.innerHTML = '';\n",
       "          dataTable['output_type'] = 'display_data';\n",
       "          await google.colab.output.renderOutput(dataTable, element);\n",
       "          const docLink = document.createElement('div');\n",
       "          docLink.innerHTML = docLinkHtml;\n",
       "          element.appendChild(docLink);\n",
       "        }\n",
       "      </script>\n",
       "    </div>\n",
       "  </div>\n",
       "  "
      ],
      "text/plain": [
       "                  coefficient\n",
       "subred_fishing      -0.634062\n",
       "subred_bicycling    -0.470412\n",
       "subred_golf         -0.384486\n",
       "st                  -0.360505\n",
       "subred_tennis       -0.354848\n",
       "nil                 -0.317786\n",
       "general             -0.308640\n",
       "subred_soccer       -0.295550\n",
       "shimano             -0.277896\n",
       "postgame            -0.276120\n",
       "ticket              -0.270451\n",
       "betting             -0.252633\n",
       "usman               -0.248731\n",
       "autograph           -0.248600\n",
       "1999                -0.246559\n",
       "duel                -0.244007\n",
       "scored              -0.238991\n",
       "source              -0.238147\n",
       "jessica             -0.237858\n",
       "clothing            -0.235409\n",
       "stripped            -0.235139\n",
       "gps                 -0.231022\n",
       "atlantic            -0.223996\n",
       "ridge               -0.222654\n",
       "pro                 -0.222192"
      ]
     },
     "execution_count": 25,
     "metadata": {},
     "output_type": "execute_result"
    }
   ],
   "source": [
    "pd.DataFrame(gscv.best_estimator_.named_steps['logr'].coef_.reshape(-1), index=X_train_cvec_ss.columns, columns=['coefficient']).sort_values(by='coefficient')[:25]"
   ]
  },
  {
   "cell_type": "markdown",
   "metadata": {
    "id": "mOKlrJJ9wVfu"
   },
   "source": [
    "Coefficient Interpretation:\n",
    "- Certain sports generate less discussion (fishing, bicycling, golf, tennis, soccer)\n",
    "- People dislike discussing scoreless games (nil)\n",
    "- Words unrelated to sport itself generate little discussion (betting, source,stripped, etc.)"
   ]
  },
  {
   "cell_type": "markdown",
   "metadata": {
    "id": "uLXTW4DKd1ZT"
   },
   "source": [
    "#### Random Forest Classification\n",
    "- Gridsearch\n",
    "    - RandomForestClassifier(hyperparams: n_estimators, max_depth, min_impurity_decrease)\n",
    "- Report Best Model\n",
    "- Score Best Model on Test Set\n",
    "- Examine Feature Importances"
   ]
  },
  {
   "cell_type": "code",
   "execution_count": 26,
   "metadata": {
    "id": "OBXpzPu3Q66M"
   },
   "outputs": [],
   "source": [
    "# instantiate pipe and parameters: basic parameters\n",
    "rfc_pipe = Pipeline([\n",
    "    ('rfc', RandomForestClassifier())\n",
    "])\n",
    "\n",
    "rfc_pipe_params = {\n",
    "    'rfc__max_depth': [None, 20, 10, 5]\n",
    "}"
   ]
  },
  {
   "cell_type": "code",
   "execution_count": 27,
   "metadata": {
    "colab": {
     "base_uri": "https://localhost:8080/"
    },
    "id": "LnbNKsejQ63o",
    "outputId": "cc049b15-c524-4dac-854e-35adef4f444a"
   },
   "outputs": [
    {
     "name": "stdout",
     "output_type": "stream",
     "text": [
      "Fitting 5 folds for each of 4 candidates, totalling 20 fits\n"
     ]
    },
    {
     "data": {
      "text/plain": [
       "GridSearchCV(estimator=Pipeline(steps=[('rfc', RandomForestClassifier())]),\n",
       "             param_grid={'rfc__max_depth': [None, 20, 10, 5]}, verbose=1)"
      ]
     },
     "execution_count": 27,
     "metadata": {},
     "output_type": "execute_result"
    }
   ],
   "source": [
    "# instantiate and fit gridsearch: basic parameters\n",
    "gscv_rfc = GridSearchCV(rfc_pipe, param_grid=rfc_pipe_params, verbose=1)\n",
    "\n",
    "gscv_rfc.fit(X_train_cvec_ss, abv_med_comms_train)"
   ]
  },
  {
   "cell_type": "code",
   "execution_count": 28,
   "metadata": {
    "colab": {
     "base_uri": "https://localhost:8080/"
    },
    "id": "GgRuXFRyQ61U",
    "outputId": "c47c88d1-581b-40f2-8c9b-7462bcda63f1"
   },
   "outputs": [
    {
     "data": {
      "text/plain": [
       "Pipeline(steps=[('rfc', RandomForestClassifier())])"
      ]
     },
     "execution_count": 28,
     "metadata": {},
     "output_type": "execute_result"
    }
   ],
   "source": [
    "# best estimator: basic parameters\n",
    "gscv_rfc.best_estimator_"
   ]
  },
  {
   "cell_type": "code",
   "execution_count": 29,
   "metadata": {
    "colab": {
     "base_uri": "https://localhost:8080/"
    },
    "id": "ZlN6yPBIQ6y9",
    "outputId": "b93a1bb7-f504-4901-a266-75b405183fed"
   },
   "outputs": [
    {
     "data": {
      "text/plain": [
       "0.7076845246457685"
      ]
     },
     "execution_count": 29,
     "metadata": {},
     "output_type": "execute_result"
    }
   ],
   "source": [
    "# best internal score (accuracy): basic parameters\n",
    "gscv_rfc.best_score_"
   ]
  },
  {
   "cell_type": "code",
   "execution_count": 30,
   "metadata": {
    "colab": {
     "base_uri": "https://localhost:8080/"
    },
    "id": "StGgR4G5Q6wM",
    "outputId": "b207b43d-5920-439a-98ed-ceaa00c373b7"
   },
   "outputs": [
    {
     "data": {
      "text/plain": [
       "0.7002164502164502"
      ]
     },
     "execution_count": 30,
     "metadata": {},
     "output_type": "execute_result"
    }
   ],
   "source": [
    "# score on test set (accuracy): basic parameters\n",
    "gscv_rfc.score(X_test_cvec_ss, abv_med_comms_test)"
   ]
  },
  {
   "cell_type": "code",
   "execution_count": 31,
   "metadata": {
    "colab": {
     "base_uri": "https://localhost:8080/",
     "height": 279
    },
    "id": "RwjFsSSJQ6tp",
    "outputId": "dd2cff6a-161d-417e-e913-ca8104bbf175"
   },
   "outputs": [
    {
     "data": {
      "image/png": "[encoded data removed]",
      "text/plain": [
       "<Figure size 432x288 with 2 Axes>"
      ]
     },
     "metadata": {
      "needs_background": "light"
     },
     "output_type": "display_data"
    }
   ],
   "source": [
    "rfc_preds1 = gscv_rfc.predict(X_test_cvec_ss)\n",
    "ConfusionMatrixDisplay.from_predictions(abv_med_comms_test, rfc_preds1);"
   ]
  },
  {
   "cell_type": "markdown",
   "metadata": {
    "id": "rMk49dPZ2WBx"
   },
   "source": [
    "Interpretation of this preliminary RFC model is relevant only in relation to final RFC model, below."
   ]
  },
  {
   "cell_type": "code",
   "execution_count": 32,
   "metadata": {
    "id": "kW71NBrMVsuS"
   },
   "outputs": [],
   "source": [
    "# instantiate full parameters\n",
    "rfc_pipe_params_full = {\n",
    "    'rfc__max_depth': [None, 20],\n",
    "    'rfc__min_impurity_decrease': [0, .02, .05],\n",
    "    'rfc__n_estimators': [100, 200]\n",
    "}"
   ]
  },
  {
   "cell_type": "code",
   "execution_count": 33,
   "metadata": {
    "colab": {
     "base_uri": "https://localhost:8080/"
    },
    "id": "Opix9TgtWcD0",
    "outputId": "a68afb48-2744-414c-ed3a-aeeba13b59a4"
   },
   "outputs": [
    {
     "name": "stdout",
     "output_type": "stream",
     "text": [
      "Fitting 5 folds for each of 12 candidates, totalling 60 fits\n"
     ]
    },
    {
     "data": {
      "text/plain": [
       "GridSearchCV(estimator=Pipeline(steps=[('rfc', RandomForestClassifier())]),\n",
       "             param_grid={'rfc__max_depth': [None, 20],\n",
       "                         'rfc__min_impurity_decrease': [0, 0.02, 0.05],\n",
       "                         'rfc__n_estimators': [100, 200]},\n",
       "             verbose=1)"
      ]
     },
     "execution_count": 33,
     "metadata": {},
     "output_type": "execute_result"
    }
   ],
   "source": [
    "# instantiate and fit gridsearch: full parameters\n",
    "gscv_rfc_full = GridSearchCV(rfc_pipe, param_grid=rfc_pipe_params_full, verbose=1)\n",
    "\n",
    "gscv_rfc_full.fit(X_train_cvec_ss, abv_med_comms_train)"
   ]
  },
  {
   "cell_type": "code",
   "execution_count": 34,
   "metadata": {
    "colab": {
     "base_uri": "https://localhost:8080/"
    },
    "id": "8lRDasQsgA-i",
    "outputId": "effbfcc0-6160-495c-a8fe-b89a218883b6"
   },
   "outputs": [
    {
     "data": {
      "text/plain": [
       "Pipeline(steps=[('rfc',\n",
       "                 RandomForestClassifier(min_impurity_decrease=0,\n",
       "                                        n_estimators=200))])"
      ]
     },
     "execution_count": 34,
     "metadata": {},
     "output_type": "execute_result"
    }
   ],
   "source": [
    "# best estimator: full parameters\n",
    "gscv_rfc_full.best_estimator_"
   ]
  },
  {
   "cell_type": "code",
   "execution_count": 35,
   "metadata": {
    "colab": {
     "base_uri": "https://localhost:8080/"
    },
    "id": "kuro4bk3gA8F",
    "outputId": "47df6ce7-c00b-40ab-a942-cda27dfbdc13"
   },
   "outputs": [
    {
     "data": {
      "text/plain": [
       "0.709239972304886"
      ]
     },
     "execution_count": 35,
     "metadata": {},
     "output_type": "execute_result"
    }
   ],
   "source": [
    "# best internal score: full parameters\n",
    "gscv_rfc_full.best_score_"
   ]
  },
  {
   "cell_type": "code",
   "execution_count": 36,
   "metadata": {
    "colab": {
     "base_uri": "https://localhost:8080/"
    },
    "id": "eHsVbb_OgA2V",
    "outputId": "22f4a6d7-737c-4039-b911-20d738e50ad6"
   },
   "outputs": [
    {
     "data": {
      "text/plain": [
       "0.7026515151515151"
      ]
     },
     "execution_count": 36,
     "metadata": {},
     "output_type": "execute_result"
    }
   ],
   "source": [
    "# score on test set (accuracy): full parameters\n",
    "gscv_rfc_full.score(X_test_cvec_ss, abv_med_comms_test)"
   ]
  },
  {
   "cell_type": "code",
   "execution_count": 37,
   "metadata": {
    "colab": {
     "base_uri": "https://localhost:8080/",
     "height": 279
    },
    "id": "HJfvhqGygaVb",
    "outputId": "09d73cfa-d6c3-4b41-d5a2-4fe04ee99200"
   },
   "outputs": [
    {
     "data": {
      "image/png": "[encoded data removed]",
      "text/plain": [
       "<Figure size 432x288 with 2 Axes>"
      ]
     },
     "metadata": {
      "needs_background": "light"
     },
     "output_type": "display_data"
    }
   ],
   "source": [
    "rfc_full_preds1 = gscv_rfc_full.predict(X_test_cvec_ss)\n",
    "ConfusionMatrixDisplay.from_predictions(abv_med_comms_test, rfc_full_preds1);"
   ]
  },
  {
   "cell_type": "markdown",
   "metadata": {
    "id": "b8k6mYkVhc98"
   },
   "source": [
    "Model Metrics Summary:\n",
    "- Accuracy: 0.703\n",
    "- Precision: 0.685\n",
    "- Recall: 0.735\n",
    "- Specificity: 0.671\n",
    "\n",
    "The random forest classifier outperforms the logistic regression. Using more estimators is preferred but barely improves performance. That limits on tree depth and impurity decrease do not improve the model suggests that the model is not prone to overfitting and might suffer from bias. The general similarity of the four metrics again indicates that the model is making predictions in a fairly balanced way, though in this model the recall score is a bit higher, while precision and specificity are lower. This indicates that the model might be predicting above-median engagement too often. Still, even if there were in some application a significant cost to a certain type of error, this model would perform reasonably well."
   ]
  },
  {
   "cell_type": "code",
   "execution_count": 38,
   "metadata": {
    "colab": {
     "base_uri": "https://localhost:8080/",
     "height": 833
    },
    "id": "QgoFdbiFgaS6",
    "outputId": "f3a963fd-3c5c-4c2e-bf4e-6b32c1a6eac8"
   },
   "outputs": [
    {
     "data": {
      "text/html": [
       "\n",
       "  <div id=\"df-d4dd3a98-f4aa-40ac-ab60-637b6a092a51\">\n",
       "    <div class=\"colab-df-container\">\n",
       "      <div>\n",
       "<style scoped>\n",
       "    .dataframe tbody tr th:only-of-type {\n",
       "        vertical-align: middle;\n",
       "    }\n",
       "\n",
       "    .dataframe tbody tr th {\n",
       "        vertical-align: top;\n",
       "    }\n",
       "\n",
       "    .dataframe thead th {\n",
       "        text-align: right;\n",
       "    }\n",
       "</style>\n",
       "<table border=\"1\" class=\"dataframe\">\n",
       "  <thead>\n",
       "    <tr style=\"text-align: right;\">\n",
       "      <th></th>\n",
       "      <th>feature importances</th>\n",
       "    </tr>\n",
       "  </thead>\n",
       "  <tbody>\n",
       "    <tr>\n",
       "      <th>title_len</th>\n",
       "      <td>0.042312</td>\n",
       "    </tr>\n",
       "    <tr>\n",
       "      <th>age</th>\n",
       "      <td>0.041821</td>\n",
       "    </tr>\n",
       "    <tr>\n",
       "      <th>has_authtext</th>\n",
       "      <td>0.018456</td>\n",
       "    </tr>\n",
       "    <tr>\n",
       "      <th>subred_fishing</th>\n",
       "      <td>0.013329</td>\n",
       "    </tr>\n",
       "    <tr>\n",
       "      <th>subred_bicycling</th>\n",
       "      <td>0.010905</td>\n",
       "    </tr>\n",
       "    <tr>\n",
       "      <th>subred_nfl</th>\n",
       "      <td>0.008439</td>\n",
       "    </tr>\n",
       "    <tr>\n",
       "      <th>subred_golf</th>\n",
       "      <td>0.007137</td>\n",
       "    </tr>\n",
       "    <tr>\n",
       "      <th>subred_nascar</th>\n",
       "      <td>0.006979</td>\n",
       "    </tr>\n",
       "    <tr>\n",
       "      <th>has_linktext</th>\n",
       "      <td>0.005806</td>\n",
       "    </tr>\n",
       "    <tr>\n",
       "      <th>subred_nba</th>\n",
       "      <td>0.005459</td>\n",
       "    </tr>\n",
       "    <tr>\n",
       "      <th>subred_cfb</th>\n",
       "      <td>0.004596</td>\n",
       "    </tr>\n",
       "    <tr>\n",
       "      <th>subred_mma</th>\n",
       "      <td>0.004003</td>\n",
       "    </tr>\n",
       "    <tr>\n",
       "      <th>team</th>\n",
       "      <td>0.003965</td>\n",
       "    </tr>\n",
       "    <tr>\n",
       "      <th>subred_tennis</th>\n",
       "      <td>0.003916</td>\n",
       "    </tr>\n",
       "    <tr>\n",
       "      <th>subred_boxing</th>\n",
       "      <td>0.003562</td>\n",
       "    </tr>\n",
       "    <tr>\n",
       "      <th>subred_snowboarding</th>\n",
       "      <td>0.003505</td>\n",
       "    </tr>\n",
       "    <tr>\n",
       "      <th>subred_formula1</th>\n",
       "      <td>0.002867</td>\n",
       "    </tr>\n",
       "    <tr>\n",
       "      <th>discussion</th>\n",
       "      <td>0.002775</td>\n",
       "    </tr>\n",
       "    <tr>\n",
       "      <th>vs</th>\n",
       "      <td>0.002752</td>\n",
       "    </tr>\n",
       "    <tr>\n",
       "      <th>2022</th>\n",
       "      <td>0.002732</td>\n",
       "    </tr>\n",
       "    <tr>\n",
       "      <th>subred_running</th>\n",
       "      <td>0.002621</td>\n",
       "    </tr>\n",
       "    <tr>\n",
       "      <th>bike</th>\n",
       "      <td>0.002511</td>\n",
       "    </tr>\n",
       "    <tr>\n",
       "      <th>subred_climbing</th>\n",
       "      <td>0.002509</td>\n",
       "    </tr>\n",
       "    <tr>\n",
       "      <th>thread</th>\n",
       "      <td>0.002406</td>\n",
       "    </tr>\n",
       "    <tr>\n",
       "      <th>subred_hockey</th>\n",
       "      <td>0.002215</td>\n",
       "    </tr>\n",
       "  </tbody>\n",
       "</table>\n",
       "</div>\n",
       "      <button class=\"colab-df-convert\" onclick=\"convertToInteractive('df-d4dd3a98-f4aa-40ac-ab60-637b6a092a51')\"\n",
       "              title=\"Convert this dataframe to an interactive table.\"\n",
       "              style=\"display:none;\">\n",
       "        \n",
       "  <svg xmlns=\"http://www.w3.org/2000/svg\" height=\"24px\"viewBox=\"0 0 24 24\"\n",
       "       width=\"24px\">\n",
       "    <path d=\"M0 0h24v24H0V0z\" fill=\"none\"/>\n",
       "    <path d=\"M18.56 5.44l.94 2.06.94-2.06 2.06-.94-2.06-.94-.94-2.06-.94 2.06-2.06.94zm-11 1L8.5 8.5l.94-2.06 2.06-.94-2.06-.94L8.5 2.5l-.94 2.06-2.06.94zm10 10l.94 2.06.94-2.06 2.06-.94-2.06-.94-.94-2.06-.94 2.06-2.06.94z\"/><path d=\"M17.41 7.96l-1.37-1.37c-.4-.4-.92-.59-1.43-.59-.52 0-1.04.2-1.43.59L10.3 9.45l-7.72 7.72c-.78.78-.78 2.05 0 2.83L4 21.41c.39.39.9.59 1.41.59.51 0 1.02-.2 1.41-.59l7.78-7.78 2.81-2.81c.8-.78.8-2.07 0-2.86zM5.41 20L4 18.59l7.72-7.72 1.47 1.35L5.41 20z\"/>\n",
       "  </svg>\n",
       "      </button>\n",
       "      \n",
       "  <style>\n",
       "    .colab-df-container {\n",
       "      display:flex;\n",
       "      flex-wrap:wrap;\n",
       "      gap: 12px;\n",
       "    }\n",
       "\n",
       "    .colab-df-convert {\n",
       "      background-color: #E8F0FE;\n",
       "      border: none;\n",
       "      border-radius: 50%;\n",
       "      cursor: pointer;\n",
       "      display: none;\n",
       "      fill: #1967D2;\n",
       "      height: 32px;\n",
       "      padding: 0 0 0 0;\n",
       "      width: 32px;\n",
       "    }\n",
       "\n",
       "    .colab-df-convert:hover {\n",
       "      background-color: #E2EBFA;\n",
       "      box-shadow: 0px 1px 2px rgba(60, 64, 67, 0.3), 0px 1px 3px 1px rgba(60, 64, 67, 0.15);\n",
       "      fill: #174EA6;\n",
       "    }\n",
       "\n",
       "    [theme=dark] .colab-df-convert {\n",
       "      background-color: #3B4455;\n",
       "      fill: #D2E3FC;\n",
       "    }\n",
       "\n",
       "    [theme=dark] .colab-df-convert:hover {\n",
       "      background-color: #434B5C;\n",
       "      box-shadow: 0px 1px 3px 1px rgba(0, 0, 0, 0.15);\n",
       "      filter: drop-shadow(0px 1px 2px rgba(0, 0, 0, 0.3));\n",
       "      fill: #FFFFFF;\n",
       "    }\n",
       "  </style>\n",
       "\n",
       "      <script>\n",
       "        const buttonEl =\n",
       "          document.querySelector('#df-d4dd3a98-f4aa-40ac-ab60-637b6a092a51 button.colab-df-convert');\n",
       "        buttonEl.style.display =\n",
       "          google.colab.kernel.accessAllowed ? 'block' : 'none';\n",
       "\n",
       "        async function convertToInteractive(key) {\n",
       "          const element = document.querySelector('#df-d4dd3a98-f4aa-40ac-ab60-637b6a092a51');\n",
       "          const dataTable =\n",
       "            await google.colab.kernel.invokeFunction('convertToInteractive',\n",
       "                                                     [key], {});\n",
       "          if (!dataTable) return;\n",
       "\n",
       "          const docLinkHtml = 'Like what you see? Visit the ' +\n",
       "            '<a target=\"_blank\" href=https://colab.research.google.com/notebooks/data_table.ipynb>data table notebook</a>'\n",
       "            + ' to learn more about interactive tables.';\n",
       "          element.innerHTML = '';\n",
       "          dataTable['output_type'] = 'display_data';\n",
       "          await google.colab.output.renderOutput(dataTable, element);\n",
       "          const docLink = document.createElement('div');\n",
       "          docLink.innerHTML = docLinkHtml;\n",
       "          element.appendChild(docLink);\n",
       "        }\n",
       "      </script>\n",
       "    </div>\n",
       "  </div>\n",
       "  "
      ],
      "text/plain": [
       "                     feature importances\n",
       "title_len                       0.042312\n",
       "age                             0.041821\n",
       "has_authtext                    0.018456\n",
       "subred_fishing                  0.013329\n",
       "subred_bicycling                0.010905\n",
       "subred_nfl                      0.008439\n",
       "subred_golf                     0.007137\n",
       "subred_nascar                   0.006979\n",
       "has_linktext                    0.005806\n",
       "subred_nba                      0.005459\n",
       "subred_cfb                      0.004596\n",
       "subred_mma                      0.004003\n",
       "team                            0.003965\n",
       "subred_tennis                   0.003916\n",
       "subred_boxing                   0.003562\n",
       "subred_snowboarding             0.003505\n",
       "subred_formula1                 0.002867\n",
       "discussion                      0.002775\n",
       "vs                              0.002752\n",
       "2022                            0.002732\n",
       "subred_running                  0.002621\n",
       "bike                            0.002511\n",
       "subred_climbing                 0.002509\n",
       "thread                          0.002406\n",
       "subred_hockey                   0.002215"
      ]
     },
     "execution_count": 38,
     "metadata": {},
     "output_type": "execute_result"
    }
   ],
   "source": [
    "pd.DataFrame(gscv_rfc_full.best_estimator_.named_steps['rfc'].feature_importances_, index=X_train_cvec_ss.columns, columns=['feature importances']).sort_values(by='feature importances', ascending=False)[:25]"
   ]
  },
  {
   "cell_type": "markdown",
   "metadata": {
    "id": "DJUanDag2oIe"
   },
   "source": [
    "Feature Importance Interpretation (using signs of coefficients from logistic regression):\n",
    "- Subreddit makes a big difference in engagement:\n",
    "    - Higher engagement:\n",
    "        - nfl\n",
    "        - nascar\n",
    "        - nba\n",
    "        - boxing\n",
    "        - cfb\n",
    "    - Lower engagement:\n",
    "        - fishing\n",
    "        - bicycling\n",
    "        - golf\n",
    "        - tennis\n",
    "- Title descriptiveness increases engagement (title_len, age, has_authtext, has_linktext)\n",
    "- Titles designed to encourage engagement do so (thread, discussion)\n",
    "- Titles related to current teams generate engagement (team, 2022)"
   ]
  },
  {
   "cell_type": "code",
   "execution_count": 47,
   "metadata": {
    "colab": {
     "base_uri": "https://localhost:8080/"
    },
    "id": "-GO_xekKgaQb",
    "outputId": "ffa1930a-bce3-4f6f-8aed-8069fe303bf7"
   },
   "outputs": [
    {
     "data": {
      "text/plain": [
       "coefficient    0.12921\n",
       "Name: has_linktext, dtype: float64"
      ]
     },
     "execution_count": 47,
     "metadata": {},
     "output_type": "execute_result"
    }
   ],
   "source": [
    "# used to fetch coefficient signs from logistic regression for better interpretation of important features from random forest classifier\n",
    "pd.DataFrame(gscv.best_estimator_.named_steps['logr'].coef_.reshape(-1), index=X_train_cvec_ss.columns, columns=['coefficient']).loc['has_linktext']"
   ]
  }
 ],
 "metadata": {
  "accelerator": "GPU",
  "colab": {
   "collapsed_sections": [],
   "machine_shape": "hm",
   "provenance": []
  },
  "gpuClass": "standard",
  "kernelspec": {
   "display_name": "Python 3 (ipykernel)",
   "language": "python",
   "name": "python3"
  },
  "language_info": {
   "codemirror_mode": {
    "name": "ipython",
    "version": 3
   },
   "file_extension": ".py",
   "mimetype": "text/x-python",
   "name": "python",
   "nbconvert_exporter": "python",
   "pygments_lexer": "ipython3",
   "version": "3.9.12"
  }
 },
 "nbformat": 4,
 "nbformat_minor": 4
}
