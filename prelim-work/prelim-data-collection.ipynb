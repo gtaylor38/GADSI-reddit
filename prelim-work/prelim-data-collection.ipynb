{
 "cells": [
  {
   "cell_type": "markdown",
   "id": "d3241cdb-876a-4964-9918-c3b4fe698c07",
   "metadata": {},
   "source": [
    "# Data Collection"
   ]
  },
  {
   "cell_type": "markdown",
   "id": "193c9db2-b4ea-4582-ab88-07058ee7ecc8",
   "metadata": {},
   "source": [
    "<!-- Promoted: <span class=\"_2oEYZXchPfHwcf9mTMGMg8 V0WjfoF5BV7_qbExmbmeR\"><span style=\"color: rgb(120, 124, 126);\">promoted</span></span>\n",
    "User: <a class=\"_2tbHP6ZydRpjI44J3syuqC  _23wugcdiaj44hdfugIAlnX oQctV4n0yUb0uiHDdGnmE\" data-click-id=\"user\" data-testid=\"post_author_link\" href=\"/user/pedrofski12/\" style=\"color: rgb(120, 124, 126);\">u/pedrofski12</a>\n",
    "Timestamp: <span class=\"_2VF2J19pUIMSLJFky-7PEI\" data-testid=\"post_timestamp\" data-click-id=\"timestamp\" style=\"color: rgb(120, 124, 126);\">28 minutes ago</span>\n",
    "Flair: <div class=\"_2X6EB3ZhEeXCh1eIVA64XM _2hSecp_zkPm_s5ddV2htoj _2VqfzH0dZ9dIl3XWNxs42y aJrgrewN9C8x1Fusdx4hh _1Dl-kvSxyJMWO9nuoTof8N \" style=\"background-color: rgb(0, 91, 161); color: rgb(255, 255, 255);\"><span>Media</span></div>\n",
    "Text: <h3 class=\"_eYtD2XCVieq6emjKBH3m\">Chapecoense 1-[2] Vila Nova - Kaio Nunes 62'</h3>\n",
    "Comments: <span class=\"FHCV02u6Cp2zYL0fhQPsO\"><span></span><span id=\"comment_t3_x14heb_count_anim\"></span>4 comments</span> -->"
   ]
  },
  {
   "cell_type": "markdown",
   "id": "62d13d01-d564-454d-aa65-7565050595f3",
   "metadata": {},
   "source": [
    "### Imports"
   ]
  },
  {
   "cell_type": "code",
   "execution_count": 1,
   "id": "2eb925e7-43be-4fa6-8866-d5b48629ef85",
   "metadata": {},
   "outputs": [],
   "source": [
    "import pandas as pd\n",
    "\n",
    "import requests\n",
    "import requests.auth\n",
    "import json\n",
    "\n",
    "from time import sleep"
   ]
  },
  {
   "cell_type": "markdown",
   "id": "b181cfe7-0cbc-419f-9ed3-a3121cac2717",
   "metadata": {},
   "source": [
    "### Exploration of Available Data"
   ]
  },
  {
   "cell_type": "code",
   "execution_count": 2,
   "id": "6718fd83-d71d-4698-a0af-f08f144e8229",
   "metadata": {},
   "outputs": [],
   "source": [
    "# set base url\n",
    "url = 'https://old.reddit.com/r/soccer/new/.json'"
   ]
  },
  {
   "cell_type": "code",
   "execution_count": 3,
   "id": "4f215d36-5729-4c85-bd06-44b9241289c9",
   "metadata": {},
   "outputs": [],
   "source": [
    "# intial request\n",
    "response = requests.get(url, headers = {'User-agent': 'yourbot'})"
   ]
  },
  {
   "cell_type": "code",
   "execution_count": 4,
   "id": "3fbe8f3d-06a6-4615-ada0-a4da64848b3e",
   "metadata": {
    "tags": []
   },
   "outputs": [
    {
     "data": {
      "text/plain": [
       "\"Benfica [1]-1 Vizela - David Neres Great goal 76'\""
      ]
     },
     "execution_count": 4,
     "metadata": {},
     "output_type": "execute_result"
    }
   ],
   "source": [
    "# post title\n",
    "response.json()['data']['children'][0]['data']['title']"
   ]
  },
  {
   "cell_type": "code",
   "execution_count": 5,
   "id": "65661ebd-7e3b-42f5-a946-ae98603bf32e",
   "metadata": {
    "tags": []
   },
   "outputs": [
    {
     "data": {
      "text/plain": [
       "9"
      ]
     },
     "execution_count": 5,
     "metadata": {},
     "output_type": "execute_result"
    }
   ],
   "source": [
    "# post number of comments\n",
    "response.json()['data']['children'][0]['data']['num_comments']"
   ]
  },
  {
   "cell_type": "markdown",
   "id": "3709bdf4-938f-473d-ab7e-7a4d98a68f64",
   "metadata": {},
   "source": [
    "- Issue: The newest posts have negatively-biased number of comments\n",
    "    - Fix: Start on 2nd or 3rd page"
   ]
  },
  {
   "cell_type": "code",
   "execution_count": 6,
   "id": "2c81c887-e6d3-442b-8098-11327898370d",
   "metadata": {
    "tags": []
   },
   "outputs": [
    {
     "data": {
      "text/plain": [
       "25"
      ]
     },
     "execution_count": 6,
     "metadata": {},
     "output_type": "execute_result"
    }
   ],
   "source": [
    "# check number of children per page\n",
    "response.json()['data']['dist']"
   ]
  },
  {
   "cell_type": "markdown",
   "id": "5b1d51d4-492e-4cd9-b7a6-8b2a19f80553",
   "metadata": {},
   "source": [
    "- Note: Can get all necessary data from one page on Old Reddit"
   ]
  },
  {
   "cell_type": "markdown",
   "id": "aad6a9ff-b3bf-4a4d-be1b-2b7729c96bff",
   "metadata": {},
   "source": [
    "### Data Collection Testing"
   ]
  },
  {
   "cell_type": "markdown",
   "id": "e56ffac6-6570-424c-bd67-2eb771a15baf",
   "metadata": {},
   "source": [
    "**Data to collect from each child:**\n",
    "1. num_comments\n",
    "2. title\n",
    "3. score\n",
    "4. author_flair_text\n",
    "5. link_flair_text\n",
    "6. created_utc"
   ]
  },
  {
   "cell_type": "markdown",
   "id": "d847c9d4-8a1c-46c2-bbfa-2c0be30e6368",
   "metadata": {},
   "source": [
    "**Getting data from more than one page:**\n",
    "1. Initialize df\n",
    "2. Set base url\n",
    "1. Get data from first page using base url and store in df\n",
    "    - make request and store in response\n",
    "    - extract data from response.json()\n",
    "        - initialize a page list that will contain rows\n",
    "        - iterate over page children\n",
    "            - create row list for each child\n",
    "            - append row list to page list\n",
    "    - create page df from page list\n",
    "    - concat page df to existing data df initialized outside loop\n",
    "3. Update url using ?after=, Get data from next page using base url + new 'after' string\n",
    "    - update url\n",
    "    - make new request and store in response\n",
    "    - extract data from new response.json()\n",
    "        - initialize a list that will contain rows\n",
    "        - intialize a list that will be a row\n",
    "        - append each data value to row\n",
    "        - append each row to list that will contain rows\n",
    "    - create a df for the page out of list of rows\n",
    "    - concat page df to existing data df initialized outside loop\n",
    "4. Repeat 4 until enough data collected\n",
    "5. Write data to csv"
   ]
  },
  {
   "cell_type": "code",
   "execution_count": 7,
   "id": "fa55db9f-52d2-43d4-a02c-86705ca3e59e",
   "metadata": {
    "tags": []
   },
   "outputs": [],
   "source": [
    "# initialize df\n",
    "soccer_posts_df = pd.DataFrame(columns=['title', 'score', 'author_flair_text', 'link_flair_text', 'created_utc', 'num_comments'])"
   ]
  },
  {
   "cell_type": "code",
   "execution_count": 8,
   "id": "6ccd847d-243f-45aa-bf34-f2cde11490d4",
   "metadata": {},
   "outputs": [],
   "source": [
    "# set base url\n",
    "url_base = 'https://www.reddit.com/r/soccer/new/.json'"
   ]
  },
  {
   "cell_type": "code",
   "execution_count": 9,
   "id": "bdaf9021-743d-44dc-a432-635576307f2e",
   "metadata": {},
   "outputs": [],
   "source": [
    "# get data from first page using base url and store in df\n",
    "response = requests.get(url, headers = {'User-agent': 'yourbot'})\n",
    "\n",
    "page = []\n",
    "for i in range(response.json()['data']['dist']):\n",
    "    row = [response.json()['data']['children'][i]['data'][col_name] for col_name in soccer_posts_df.columns]\n",
    "    page.append(row)\n",
    "df = pd.DataFrame(page, columns=soccer_posts_df.columns)\n",
    "soccer_posts_df = pd.concat([soccer_posts_df, df])"
   ]
  },
  {
   "cell_type": "code",
   "execution_count": 10,
   "id": "43814666-d544-4f12-b14e-1a6cb50be417",
   "metadata": {
    "tags": []
   },
   "outputs": [
    {
     "data": {
      "text/html": [
       "<div>\n",
       "<style scoped>\n",
       "    .dataframe tbody tr th:only-of-type {\n",
       "        vertical-align: middle;\n",
       "    }\n",
       "\n",
       "    .dataframe tbody tr th {\n",
       "        vertical-align: top;\n",
       "    }\n",
       "\n",
       "    .dataframe thead th {\n",
       "        text-align: right;\n",
       "    }\n",
       "</style>\n",
       "<table border=\"1\" class=\"dataframe\">\n",
       "  <thead>\n",
       "    <tr style=\"text-align: right;\">\n",
       "      <th></th>\n",
       "      <th>title</th>\n",
       "      <th>score</th>\n",
       "      <th>author_flair_text</th>\n",
       "      <th>link_flair_text</th>\n",
       "      <th>created_utc</th>\n",
       "      <th>num_comments</th>\n",
       "    </tr>\n",
       "  </thead>\n",
       "  <tbody>\n",
       "    <tr>\n",
       "      <th>0</th>\n",
       "      <td>Benfica [1]-1 Vizela - David Neres Great goal 76'</td>\n",
       "      <td>33</td>\n",
       "      <td>:r_soccer_user:</td>\n",
       "      <td>Media</td>\n",
       "      <td>1662147483.0</td>\n",
       "      <td>9</td>\n",
       "    </tr>\n",
       "    <tr>\n",
       "      <th>1</th>\n",
       "      <td>Edson Álvarez did NOT strike in order to make ...</td>\n",
       "      <td>16</td>\n",
       "      <td>None</td>\n",
       "      <td>Transfers</td>\n",
       "      <td>1662147482.0</td>\n",
       "      <td>2</td>\n",
       "    </tr>\n",
       "    <tr>\n",
       "      <th>2</th>\n",
       "      <td>[Tariq Panja] Inter and Roma affected harder t...</td>\n",
       "      <td>14</td>\n",
       "      <td>None</td>\n",
       "      <td>News</td>\n",
       "      <td>1662147323.0</td>\n",
       "      <td>6</td>\n",
       "    </tr>\n",
       "    <tr>\n",
       "      <th>3</th>\n",
       "      <td>Spain [2] - 0 Hungary | Irene Paredes 26'</td>\n",
       "      <td>5</td>\n",
       "      <td>:Real_Madrid:</td>\n",
       "      <td>Media</td>\n",
       "      <td>1662147224.0</td>\n",
       "      <td>4</td>\n",
       "    </tr>\n",
       "    <tr>\n",
       "      <th>4</th>\n",
       "      <td>Fortuna Sittard 1-[2] FC Utrecht - Anastasios ...</td>\n",
       "      <td>10</td>\n",
       "      <td>:Ajax:</td>\n",
       "      <td>Media</td>\n",
       "      <td>1662147042.0</td>\n",
       "      <td>14</td>\n",
       "    </tr>\n",
       "    <tr>\n",
       "      <th>5</th>\n",
       "      <td>Spain [1] - 0 Hungary | Esther González 23'</td>\n",
       "      <td>6</td>\n",
       "      <td>:Real_Madrid:</td>\n",
       "      <td>Media</td>\n",
       "      <td>1662146994.0</td>\n",
       "      <td>4</td>\n",
       "    </tr>\n",
       "    <tr>\n",
       "      <th>6</th>\n",
       "      <td>Fortuna Sittard [1]-1 FC Utrecht - Rodrigo Gut...</td>\n",
       "      <td>11</td>\n",
       "      <td>:Ajax:</td>\n",
       "      <td>Media</td>\n",
       "      <td>1662146867.0</td>\n",
       "      <td>1</td>\n",
       "    </tr>\n",
       "    <tr>\n",
       "      <th>7</th>\n",
       "      <td>[Italian Serie B]Cagliari 1-0 Modena - Marko R...</td>\n",
       "      <td>6</td>\n",
       "      <td>:Reading_FC:</td>\n",
       "      <td>Media</td>\n",
       "      <td>1662146600.0</td>\n",
       "      <td>2</td>\n",
       "    </tr>\n",
       "    <tr>\n",
       "      <th>8</th>\n",
       "      <td>Fortuna Sittard - FC Utrecht suspended for sho...</td>\n",
       "      <td>14</td>\n",
       "      <td>:Ajax:</td>\n",
       "      <td>Media</td>\n",
       "      <td>1662146654.0</td>\n",
       "      <td>10</td>\n",
       "    </tr>\n",
       "    <tr>\n",
       "      <th>9</th>\n",
       "      <td>[El Chiringuito TV] Exclusive: Marcelo is clos...</td>\n",
       "      <td>27</td>\n",
       "      <td>:Olympiacos:</td>\n",
       "      <td>Transfers</td>\n",
       "      <td>1662146447.0</td>\n",
       "      <td>8</td>\n",
       "    </tr>\n",
       "    <tr>\n",
       "      <th>10</th>\n",
       "      <td>Match Thread: West Bromwich Albion vs Burnley ...</td>\n",
       "      <td>7</td>\n",
       "      <td>:Botswana:</td>\n",
       "      <td>:Match_thread:Match Thread</td>\n",
       "      <td>1662146181.0</td>\n",
       "      <td>24</td>\n",
       "    </tr>\n",
       "    <tr>\n",
       "      <th>11</th>\n",
       "      <td>Match Thread: Celta Vigo vs Cádiz | LaLiga</td>\n",
       "      <td>11</td>\n",
       "      <td>:Botswana:</td>\n",
       "      <td>:Match_thread:Match Thread</td>\n",
       "      <td>1662145681.0</td>\n",
       "      <td>2</td>\n",
       "    </tr>\n",
       "    <tr>\n",
       "      <th>12</th>\n",
       "      <td>Borussia Dortmund penalty shout vs Hoffenheim 31'</td>\n",
       "      <td>100</td>\n",
       "      <td>:Borussia_Dortmund:</td>\n",
       "      <td>Media</td>\n",
       "      <td>1662145600.0</td>\n",
       "      <td>52</td>\n",
       "    </tr>\n",
       "    <tr>\n",
       "      <th>13</th>\n",
       "      <td>Haaland had a point system that lead to choosi...</td>\n",
       "      <td>26</td>\n",
       "      <td>None</td>\n",
       "      <td>Media</td>\n",
       "      <td>1662144725.0</td>\n",
       "      <td>70</td>\n",
       "    </tr>\n",
       "    <tr>\n",
       "      <th>14</th>\n",
       "      <td>Juventus Primavera [3]-2 Atalanta Primavera - ...</td>\n",
       "      <td>30</td>\n",
       "      <td>:Manchester_United:</td>\n",
       "      <td>Media</td>\n",
       "      <td>1662144464.0</td>\n",
       "      <td>3</td>\n",
       "    </tr>\n",
       "    <tr>\n",
       "      <th>15</th>\n",
       "      <td>Dortmund [1] - 0 Hoffenheim - Marco Reus 16'</td>\n",
       "      <td>144</td>\n",
       "      <td>:r_soccer_user:</td>\n",
       "      <td>Media</td>\n",
       "      <td>1662144457.0</td>\n",
       "      <td>54</td>\n",
       "    </tr>\n",
       "    <tr>\n",
       "      <th>16</th>\n",
       "      <td>Match Thread: Club Brugge vs Cercle Brugge KSV...</td>\n",
       "      <td>9</td>\n",
       "      <td>:Botswana:</td>\n",
       "      <td>:Match_thread:Match Thread</td>\n",
       "      <td>1662144452.0</td>\n",
       "      <td>14</td>\n",
       "    </tr>\n",
       "    <tr>\n",
       "      <th>17</th>\n",
       "      <td>Palmeiras wants to avoid selling Endrick to Re...</td>\n",
       "      <td>53</td>\n",
       "      <td>:Brighton_Hove_Albion:</td>\n",
       "      <td>News</td>\n",
       "      <td>1662144445.0</td>\n",
       "      <td>47</td>\n",
       "    </tr>\n",
       "    <tr>\n",
       "      <th>18</th>\n",
       "      <td>Now that the transfer window has ended, here's...</td>\n",
       "      <td>15</td>\n",
       "      <td>:Scottish_Challenge_Cup:</td>\n",
       "      <td>Transfers</td>\n",
       "      <td>1662144209.0</td>\n",
       "      <td>14</td>\n",
       "    </tr>\n",
       "    <tr>\n",
       "      <th>19</th>\n",
       "      <td>Match Thread: Cagliari vs Modena | Italian Ser...</td>\n",
       "      <td>9</td>\n",
       "      <td>:Botswana:</td>\n",
       "      <td>:Match_thread:Match Thread</td>\n",
       "      <td>1662143963.0</td>\n",
       "      <td>6</td>\n",
       "    </tr>\n",
       "    <tr>\n",
       "      <th>20</th>\n",
       "      <td>PSG: Aminata Diallo to take PSG to court.</td>\n",
       "      <td>23</td>\n",
       "      <td></td>\n",
       "      <td>Womens Football</td>\n",
       "      <td>1662143869.0</td>\n",
       "      <td>3</td>\n",
       "    </tr>\n",
       "    <tr>\n",
       "      <th>21</th>\n",
       "      <td>[Official] Broja signs new 6 year contract wit...</td>\n",
       "      <td>216</td>\n",
       "      <td>:Chelsea_s_Rampant_Lion:</td>\n",
       "      <td>:Chelsea:Official Source</td>\n",
       "      <td>1662143677.0</td>\n",
       "      <td>94</td>\n",
       "    </tr>\n",
       "    <tr>\n",
       "      <th>22</th>\n",
       "      <td>Post Match Thread: 1. FC Heidenheim 2-1 Fortun...</td>\n",
       "      <td>4</td>\n",
       "      <td>:Hertha_BSC:</td>\n",
       "      <td>Post Match Thread</td>\n",
       "      <td>1662143291.0</td>\n",
       "      <td>0</td>\n",
       "    </tr>\n",
       "    <tr>\n",
       "      <th>23</th>\n",
       "      <td>Post Match Thread: TSV Eintracht Braunschweig ...</td>\n",
       "      <td>9</td>\n",
       "      <td>:Hertha_BSC:</td>\n",
       "      <td>Post Match Thread</td>\n",
       "      <td>1662143147.0</td>\n",
       "      <td>3</td>\n",
       "    </tr>\n",
       "    <tr>\n",
       "      <th>24</th>\n",
       "      <td>Benfica 0-1 Vizela - Osmajic 20'</td>\n",
       "      <td>26</td>\n",
       "      <td>:r_soccer_user:</td>\n",
       "      <td>Media</td>\n",
       "      <td>1662142971.0</td>\n",
       "      <td>17</td>\n",
       "    </tr>\n",
       "  </tbody>\n",
       "</table>\n",
       "</div>"
      ],
      "text/plain": [
       "                                                title score  \\\n",
       "0   Benfica [1]-1 Vizela - David Neres Great goal 76'    33   \n",
       "1   Edson Álvarez did NOT strike in order to make ...    16   \n",
       "2   [Tariq Panja] Inter and Roma affected harder t...    14   \n",
       "3           Spain [2] - 0 Hungary | Irene Paredes 26'     5   \n",
       "4   Fortuna Sittard 1-[2] FC Utrecht - Anastasios ...    10   \n",
       "5         Spain [1] - 0 Hungary | Esther González 23'     6   \n",
       "6   Fortuna Sittard [1]-1 FC Utrecht - Rodrigo Gut...    11   \n",
       "7   [Italian Serie B]Cagliari 1-0 Modena - Marko R...     6   \n",
       "8   Fortuna Sittard - FC Utrecht suspended for sho...    14   \n",
       "9   [El Chiringuito TV] Exclusive: Marcelo is clos...    27   \n",
       "10  Match Thread: West Bromwich Albion vs Burnley ...     7   \n",
       "11         Match Thread: Celta Vigo vs Cádiz | LaLiga    11   \n",
       "12  Borussia Dortmund penalty shout vs Hoffenheim 31'   100   \n",
       "13  Haaland had a point system that lead to choosi...    26   \n",
       "14  Juventus Primavera [3]-2 Atalanta Primavera - ...    30   \n",
       "15       Dortmund [1] - 0 Hoffenheim - Marco Reus 16'   144   \n",
       "16  Match Thread: Club Brugge vs Cercle Brugge KSV...     9   \n",
       "17  Palmeiras wants to avoid selling Endrick to Re...    53   \n",
       "18  Now that the transfer window has ended, here's...    15   \n",
       "19  Match Thread: Cagliari vs Modena | Italian Ser...     9   \n",
       "20          PSG: Aminata Diallo to take PSG to court.    23   \n",
       "21  [Official] Broja signs new 6 year contract wit...   216   \n",
       "22  Post Match Thread: 1. FC Heidenheim 2-1 Fortun...     4   \n",
       "23  Post Match Thread: TSV Eintracht Braunschweig ...     9   \n",
       "24                   Benfica 0-1 Vizela - Osmajic 20'    26   \n",
       "\n",
       "           author_flair_text             link_flair_text   created_utc  \\\n",
       "0            :r_soccer_user:                       Media  1662147483.0   \n",
       "1                       None                   Transfers  1662147482.0   \n",
       "2                       None                        News  1662147323.0   \n",
       "3              :Real_Madrid:                       Media  1662147224.0   \n",
       "4                     :Ajax:                       Media  1662147042.0   \n",
       "5              :Real_Madrid:                       Media  1662146994.0   \n",
       "6                     :Ajax:                       Media  1662146867.0   \n",
       "7               :Reading_FC:                       Media  1662146600.0   \n",
       "8                     :Ajax:                       Media  1662146654.0   \n",
       "9               :Olympiacos:                   Transfers  1662146447.0   \n",
       "10                :Botswana:  :Match_thread:Match Thread  1662146181.0   \n",
       "11                :Botswana:  :Match_thread:Match Thread  1662145681.0   \n",
       "12       :Borussia_Dortmund:                       Media  1662145600.0   \n",
       "13                      None                       Media  1662144725.0   \n",
       "14       :Manchester_United:                       Media  1662144464.0   \n",
       "15           :r_soccer_user:                       Media  1662144457.0   \n",
       "16                :Botswana:  :Match_thread:Match Thread  1662144452.0   \n",
       "17    :Brighton_Hove_Albion:                        News  1662144445.0   \n",
       "18  :Scottish_Challenge_Cup:                   Transfers  1662144209.0   \n",
       "19                :Botswana:  :Match_thread:Match Thread  1662143963.0   \n",
       "20                                       Womens Football  1662143869.0   \n",
       "21  :Chelsea_s_Rampant_Lion:    :Chelsea:Official Source  1662143677.0   \n",
       "22              :Hertha_BSC:           Post Match Thread  1662143291.0   \n",
       "23              :Hertha_BSC:           Post Match Thread  1662143147.0   \n",
       "24           :r_soccer_user:                       Media  1662142971.0   \n",
       "\n",
       "   num_comments  \n",
       "0             9  \n",
       "1             2  \n",
       "2             6  \n",
       "3             4  \n",
       "4            14  \n",
       "5             4  \n",
       "6             1  \n",
       "7             2  \n",
       "8            10  \n",
       "9             8  \n",
       "10           24  \n",
       "11            2  \n",
       "12           52  \n",
       "13           70  \n",
       "14            3  \n",
       "15           54  \n",
       "16           14  \n",
       "17           47  \n",
       "18           14  \n",
       "19            6  \n",
       "20            3  \n",
       "21           94  \n",
       "22            0  \n",
       "23            3  \n",
       "24           17  "
      ]
     },
     "execution_count": 10,
     "metadata": {},
     "output_type": "execute_result"
    }
   ],
   "source": [
    "soccer_posts_df"
   ]
  },
  {
   "cell_type": "code",
   "execution_count": 11,
   "id": "f67d1d7d-cf2c-4535-aa2d-fab829301712",
   "metadata": {
    "tags": []
   },
   "outputs": [
    {
     "name": "stdout",
     "output_type": "stream",
     "text": [
      "<class 'pandas.core.frame.DataFrame'>\n",
      "Int64Index: 25 entries, 0 to 24\n",
      "Data columns (total 6 columns):\n",
      " #   Column             Non-Null Count  Dtype \n",
      "---  ------             --------------  ----- \n",
      " 0   title              25 non-null     object\n",
      " 1   score              25 non-null     object\n",
      " 2   author_flair_text  22 non-null     object\n",
      " 3   link_flair_text    25 non-null     object\n",
      " 4   created_utc        25 non-null     object\n",
      " 5   num_comments       25 non-null     object\n",
      "dtypes: object(6)\n",
      "memory usage: 1.4+ KB\n"
     ]
    }
   ],
   "source": [
    "soccer_posts_df.info()"
   ]
  },
  {
   "cell_type": "markdown",
   "id": "0293df2a-3c3d-46a2-b225-10d84313b9fb",
   "metadata": {},
   "source": [
    "- Note: Some nulls showing up in author_flair_text"
   ]
  },
  {
   "cell_type": "code",
   "execution_count": 12,
   "id": "8a753f74-e446-41a1-ba05-574672d12e63",
   "metadata": {},
   "outputs": [],
   "source": [
    "# get data for the next three pages (collection method testing)\n",
    "for i in range(3):\n",
    "    url = f'{url_base}?after=' + response.json()['data']['after']\n",
    "\n",
    "    response = requests.get(url, headers = {'User-agent': 'yourbot'})\n",
    "\n",
    "    page = []\n",
    "    for i in range(response.json()['data']['dist']):\n",
    "        row = [response.json()['data']['children'][i]['data'][col_name] for col_name in soccer_posts_df.columns]\n",
    "        page.append(row)\n",
    "    df = pd.DataFrame(page, columns=soccer_posts_df.columns)\n",
    "    soccer_posts_df = pd.concat([soccer_posts_df, df])"
   ]
  },
  {
   "cell_type": "code",
   "execution_count": 13,
   "id": "f8c64f34-17d4-457a-8f4a-383471bc5321",
   "metadata": {
    "tags": []
   },
   "outputs": [
    {
     "data": {
      "text/html": [
       "<div>\n",
       "<style scoped>\n",
       "    .dataframe tbody tr th:only-of-type {\n",
       "        vertical-align: middle;\n",
       "    }\n",
       "\n",
       "    .dataframe tbody tr th {\n",
       "        vertical-align: top;\n",
       "    }\n",
       "\n",
       "    .dataframe thead th {\n",
       "        text-align: right;\n",
       "    }\n",
       "</style>\n",
       "<table border=\"1\" class=\"dataframe\">\n",
       "  <thead>\n",
       "    <tr style=\"text-align: right;\">\n",
       "      <th></th>\n",
       "      <th>title</th>\n",
       "      <th>score</th>\n",
       "      <th>author_flair_text</th>\n",
       "      <th>link_flair_text</th>\n",
       "      <th>created_utc</th>\n",
       "      <th>num_comments</th>\n",
       "    </tr>\n",
       "  </thead>\n",
       "  <tbody>\n",
       "    <tr>\n",
       "      <th>0</th>\n",
       "      <td>Benfica [1]-1 Vizela - David Neres Great goal 76'</td>\n",
       "      <td>33</td>\n",
       "      <td>:r_soccer_user:</td>\n",
       "      <td>Media</td>\n",
       "      <td>1662147483.0</td>\n",
       "      <td>9</td>\n",
       "    </tr>\n",
       "    <tr>\n",
       "      <th>1</th>\n",
       "      <td>Edson Álvarez did NOT strike in order to make ...</td>\n",
       "      <td>16</td>\n",
       "      <td>None</td>\n",
       "      <td>Transfers</td>\n",
       "      <td>1662147482.0</td>\n",
       "      <td>2</td>\n",
       "    </tr>\n",
       "    <tr>\n",
       "      <th>2</th>\n",
       "      <td>[Tariq Panja] Inter and Roma affected harder t...</td>\n",
       "      <td>14</td>\n",
       "      <td>None</td>\n",
       "      <td>News</td>\n",
       "      <td>1662147323.0</td>\n",
       "      <td>6</td>\n",
       "    </tr>\n",
       "    <tr>\n",
       "      <th>3</th>\n",
       "      <td>Spain [2] - 0 Hungary | Irene Paredes 26'</td>\n",
       "      <td>5</td>\n",
       "      <td>:Real_Madrid:</td>\n",
       "      <td>Media</td>\n",
       "      <td>1662147224.0</td>\n",
       "      <td>4</td>\n",
       "    </tr>\n",
       "    <tr>\n",
       "      <th>4</th>\n",
       "      <td>Fortuna Sittard 1-[2] FC Utrecht - Anastasios ...</td>\n",
       "      <td>10</td>\n",
       "      <td>:Ajax:</td>\n",
       "      <td>Media</td>\n",
       "      <td>1662147042.0</td>\n",
       "      <td>14</td>\n",
       "    </tr>\n",
       "    <tr>\n",
       "      <th>...</th>\n",
       "      <td>...</td>\n",
       "      <td>...</td>\n",
       "      <td>...</td>\n",
       "      <td>...</td>\n",
       "      <td>...</td>\n",
       "      <td>...</td>\n",
       "    </tr>\n",
       "    <tr>\n",
       "      <th>20</th>\n",
       "      <td>Daily Discussion</td>\n",
       "      <td>59</td>\n",
       "      <td>:RUFC:</td>\n",
       "      <td>Daily Discussion</td>\n",
       "      <td>1662112812.0</td>\n",
       "      <td>1705</td>\n",
       "    </tr>\n",
       "    <tr>\n",
       "      <th>21</th>\n",
       "      <td>QPR sign Tim Iroegbunam on loan from Aston Villa</td>\n",
       "      <td>26</td>\n",
       "      <td>:Haverfordwest_County_FC:</td>\n",
       "      <td>:Queens_Park_Rangers:Official Source</td>\n",
       "      <td>1662112802.0</td>\n",
       "      <td>0</td>\n",
       "    </tr>\n",
       "    <tr>\n",
       "      <th>22</th>\n",
       "      <td>Port Vale sign Dennis Politic on loan from Cre...</td>\n",
       "      <td>17</td>\n",
       "      <td>:Haverfordwest_County_FC:</td>\n",
       "      <td>:Port_Vale:Official Source</td>\n",
       "      <td>1662112682.0</td>\n",
       "      <td>0</td>\n",
       "    </tr>\n",
       "    <tr>\n",
       "      <th>23</th>\n",
       "      <td>Peterborough sign Kelland Watts on loan from N...</td>\n",
       "      <td>16</td>\n",
       "      <td>:Haverfordwest_County_FC:</td>\n",
       "      <td>:Peterborough_United:Official Source</td>\n",
       "      <td>1662112590.0</td>\n",
       "      <td>4</td>\n",
       "    </tr>\n",
       "    <tr>\n",
       "      <th>24</th>\n",
       "      <td>Salford City sign Ethan Galbraith on loan from...</td>\n",
       "      <td>21</td>\n",
       "      <td>:Haverfordwest_County_FC:</td>\n",
       "      <td>:Salford_City:Official Source</td>\n",
       "      <td>1662112518.0</td>\n",
       "      <td>0</td>\n",
       "    </tr>\n",
       "  </tbody>\n",
       "</table>\n",
       "<p>100 rows × 6 columns</p>\n",
       "</div>"
      ],
      "text/plain": [
       "                                                title score  \\\n",
       "0   Benfica [1]-1 Vizela - David Neres Great goal 76'    33   \n",
       "1   Edson Álvarez did NOT strike in order to make ...    16   \n",
       "2   [Tariq Panja] Inter and Roma affected harder t...    14   \n",
       "3           Spain [2] - 0 Hungary | Irene Paredes 26'     5   \n",
       "4   Fortuna Sittard 1-[2] FC Utrecht - Anastasios ...    10   \n",
       "..                                                ...   ...   \n",
       "20                                   Daily Discussion    59   \n",
       "21   QPR sign Tim Iroegbunam on loan from Aston Villa    26   \n",
       "22  Port Vale sign Dennis Politic on loan from Cre...    17   \n",
       "23  Peterborough sign Kelland Watts on loan from N...    16   \n",
       "24  Salford City sign Ethan Galbraith on loan from...    21   \n",
       "\n",
       "            author_flair_text                       link_flair_text  \\\n",
       "0             :r_soccer_user:                                 Media   \n",
       "1                        None                             Transfers   \n",
       "2                        None                                  News   \n",
       "3               :Real_Madrid:                                 Media   \n",
       "4                      :Ajax:                                 Media   \n",
       "..                        ...                                   ...   \n",
       "20                     :RUFC:                      Daily Discussion   \n",
       "21  :Haverfordwest_County_FC:  :Queens_Park_Rangers:Official Source   \n",
       "22  :Haverfordwest_County_FC:            :Port_Vale:Official Source   \n",
       "23  :Haverfordwest_County_FC:  :Peterborough_United:Official Source   \n",
       "24  :Haverfordwest_County_FC:         :Salford_City:Official Source   \n",
       "\n",
       "     created_utc num_comments  \n",
       "0   1662147483.0            9  \n",
       "1   1662147482.0            2  \n",
       "2   1662147323.0            6  \n",
       "3   1662147224.0            4  \n",
       "4   1662147042.0           14  \n",
       "..           ...          ...  \n",
       "20  1662112812.0         1705  \n",
       "21  1662112802.0            0  \n",
       "22  1662112682.0            0  \n",
       "23  1662112590.0            4  \n",
       "24  1662112518.0            0  \n",
       "\n",
       "[100 rows x 6 columns]"
      ]
     },
     "execution_count": 13,
     "metadata": {},
     "output_type": "execute_result"
    }
   ],
   "source": [
    "soccer_posts_df"
   ]
  },
  {
   "cell_type": "code",
   "execution_count": 14,
   "id": "6decd5db-d1b1-48a2-a5ca-1aede534a0ce",
   "metadata": {},
   "outputs": [],
   "source": [
    "# fix df indices\n",
    "soccer_posts_df.reset_index(inplace=True)\n",
    "soccer_posts_df.drop(axis=1, columns='index', inplace=True)"
   ]
  },
  {
   "cell_type": "code",
   "execution_count": 15,
   "id": "82528b5c-9c0e-4dbf-9c11-8f8653c83558",
   "metadata": {
    "tags": []
   },
   "outputs": [
    {
     "data": {
      "text/html": [
       "<div>\n",
       "<style scoped>\n",
       "    .dataframe tbody tr th:only-of-type {\n",
       "        vertical-align: middle;\n",
       "    }\n",
       "\n",
       "    .dataframe tbody tr th {\n",
       "        vertical-align: top;\n",
       "    }\n",
       "\n",
       "    .dataframe thead th {\n",
       "        text-align: right;\n",
       "    }\n",
       "</style>\n",
       "<table border=\"1\" class=\"dataframe\">\n",
       "  <thead>\n",
       "    <tr style=\"text-align: right;\">\n",
       "      <th></th>\n",
       "      <th>title</th>\n",
       "      <th>score</th>\n",
       "      <th>author_flair_text</th>\n",
       "      <th>link_flair_text</th>\n",
       "      <th>created_utc</th>\n",
       "      <th>num_comments</th>\n",
       "    </tr>\n",
       "  </thead>\n",
       "  <tbody>\n",
       "    <tr>\n",
       "      <th>0</th>\n",
       "      <td>Benfica [1]-1 Vizela - David Neres Great goal 76'</td>\n",
       "      <td>33</td>\n",
       "      <td>:r_soccer_user:</td>\n",
       "      <td>Media</td>\n",
       "      <td>1662147483.0</td>\n",
       "      <td>9</td>\n",
       "    </tr>\n",
       "    <tr>\n",
       "      <th>1</th>\n",
       "      <td>Edson Álvarez did NOT strike in order to make ...</td>\n",
       "      <td>16</td>\n",
       "      <td>None</td>\n",
       "      <td>Transfers</td>\n",
       "      <td>1662147482.0</td>\n",
       "      <td>2</td>\n",
       "    </tr>\n",
       "    <tr>\n",
       "      <th>2</th>\n",
       "      <td>[Tariq Panja] Inter and Roma affected harder t...</td>\n",
       "      <td>14</td>\n",
       "      <td>None</td>\n",
       "      <td>News</td>\n",
       "      <td>1662147323.0</td>\n",
       "      <td>6</td>\n",
       "    </tr>\n",
       "    <tr>\n",
       "      <th>3</th>\n",
       "      <td>Spain [2] - 0 Hungary | Irene Paredes 26'</td>\n",
       "      <td>5</td>\n",
       "      <td>:Real_Madrid:</td>\n",
       "      <td>Media</td>\n",
       "      <td>1662147224.0</td>\n",
       "      <td>4</td>\n",
       "    </tr>\n",
       "    <tr>\n",
       "      <th>4</th>\n",
       "      <td>Fortuna Sittard 1-[2] FC Utrecht - Anastasios ...</td>\n",
       "      <td>10</td>\n",
       "      <td>:Ajax:</td>\n",
       "      <td>Media</td>\n",
       "      <td>1662147042.0</td>\n",
       "      <td>14</td>\n",
       "    </tr>\n",
       "    <tr>\n",
       "      <th>...</th>\n",
       "      <td>...</td>\n",
       "      <td>...</td>\n",
       "      <td>...</td>\n",
       "      <td>...</td>\n",
       "      <td>...</td>\n",
       "      <td>...</td>\n",
       "    </tr>\n",
       "    <tr>\n",
       "      <th>95</th>\n",
       "      <td>Daily Discussion</td>\n",
       "      <td>59</td>\n",
       "      <td>:RUFC:</td>\n",
       "      <td>Daily Discussion</td>\n",
       "      <td>1662112812.0</td>\n",
       "      <td>1705</td>\n",
       "    </tr>\n",
       "    <tr>\n",
       "      <th>96</th>\n",
       "      <td>QPR sign Tim Iroegbunam on loan from Aston Villa</td>\n",
       "      <td>26</td>\n",
       "      <td>:Haverfordwest_County_FC:</td>\n",
       "      <td>:Queens_Park_Rangers:Official Source</td>\n",
       "      <td>1662112802.0</td>\n",
       "      <td>0</td>\n",
       "    </tr>\n",
       "    <tr>\n",
       "      <th>97</th>\n",
       "      <td>Port Vale sign Dennis Politic on loan from Cre...</td>\n",
       "      <td>17</td>\n",
       "      <td>:Haverfordwest_County_FC:</td>\n",
       "      <td>:Port_Vale:Official Source</td>\n",
       "      <td>1662112682.0</td>\n",
       "      <td>0</td>\n",
       "    </tr>\n",
       "    <tr>\n",
       "      <th>98</th>\n",
       "      <td>Peterborough sign Kelland Watts on loan from N...</td>\n",
       "      <td>16</td>\n",
       "      <td>:Haverfordwest_County_FC:</td>\n",
       "      <td>:Peterborough_United:Official Source</td>\n",
       "      <td>1662112590.0</td>\n",
       "      <td>4</td>\n",
       "    </tr>\n",
       "    <tr>\n",
       "      <th>99</th>\n",
       "      <td>Salford City sign Ethan Galbraith on loan from...</td>\n",
       "      <td>21</td>\n",
       "      <td>:Haverfordwest_County_FC:</td>\n",
       "      <td>:Salford_City:Official Source</td>\n",
       "      <td>1662112518.0</td>\n",
       "      <td>0</td>\n",
       "    </tr>\n",
       "  </tbody>\n",
       "</table>\n",
       "<p>100 rows × 6 columns</p>\n",
       "</div>"
      ],
      "text/plain": [
       "                                                title score  \\\n",
       "0   Benfica [1]-1 Vizela - David Neres Great goal 76'    33   \n",
       "1   Edson Álvarez did NOT strike in order to make ...    16   \n",
       "2   [Tariq Panja] Inter and Roma affected harder t...    14   \n",
       "3           Spain [2] - 0 Hungary | Irene Paredes 26'     5   \n",
       "4   Fortuna Sittard 1-[2] FC Utrecht - Anastasios ...    10   \n",
       "..                                                ...   ...   \n",
       "95                                   Daily Discussion    59   \n",
       "96   QPR sign Tim Iroegbunam on loan from Aston Villa    26   \n",
       "97  Port Vale sign Dennis Politic on loan from Cre...    17   \n",
       "98  Peterborough sign Kelland Watts on loan from N...    16   \n",
       "99  Salford City sign Ethan Galbraith on loan from...    21   \n",
       "\n",
       "            author_flair_text                       link_flair_text  \\\n",
       "0             :r_soccer_user:                                 Media   \n",
       "1                        None                             Transfers   \n",
       "2                        None                                  News   \n",
       "3               :Real_Madrid:                                 Media   \n",
       "4                      :Ajax:                                 Media   \n",
       "..                        ...                                   ...   \n",
       "95                     :RUFC:                      Daily Discussion   \n",
       "96  :Haverfordwest_County_FC:  :Queens_Park_Rangers:Official Source   \n",
       "97  :Haverfordwest_County_FC:            :Port_Vale:Official Source   \n",
       "98  :Haverfordwest_County_FC:  :Peterborough_United:Official Source   \n",
       "99  :Haverfordwest_County_FC:         :Salford_City:Official Source   \n",
       "\n",
       "     created_utc num_comments  \n",
       "0   1662147483.0            9  \n",
       "1   1662147482.0            2  \n",
       "2   1662147323.0            6  \n",
       "3   1662147224.0            4  \n",
       "4   1662147042.0           14  \n",
       "..           ...          ...  \n",
       "95  1662112812.0         1705  \n",
       "96  1662112802.0            0  \n",
       "97  1662112682.0            0  \n",
       "98  1662112590.0            4  \n",
       "99  1662112518.0            0  \n",
       "\n",
       "[100 rows x 6 columns]"
      ]
     },
     "execution_count": 15,
     "metadata": {},
     "output_type": "execute_result"
    }
   ],
   "source": [
    "soccer_posts_df"
   ]
  },
  {
   "cell_type": "code",
   "execution_count": 16,
   "id": "10726e3c-299a-4581-a088-71564e4e6160",
   "metadata": {},
   "outputs": [],
   "source": [
    "# Write soccer_posts_df to csv:\n",
    "soccer_posts_df.to_csv('data/first100.csv', index=False)"
   ]
  },
  {
   "cell_type": "markdown",
   "id": "e5996ef4-026c-460c-a528-2021b277f14c",
   "metadata": {},
   "source": [
    "### Putting it all together to collect 10,000+ posts"
   ]
  },
  {
   "cell_type": "markdown",
   "id": "b8c36a8a-50a0-4c4f-a66f-dd4094ac9c8b",
   "metadata": {},
   "source": [
    "1. Get and store data from first page\n",
    "2. Get and store data from next 60 pages (1500 posts)\n",
    "3. Sleep one minute (60 requests per minute is compliance max for clients)\n",
    "4. Repeat steps 2 and 3 ten times (15,000 posts after first page)\n",
    "5. Write data to csv"
   ]
  },
  {
   "cell_type": "code",
   "execution_count": 2,
   "id": "9e4826a8-3a50-445a-9c06-d85486210e8c",
   "metadata": {},
   "outputs": [
    {
     "data": {
      "text/plain": [
       "{'access_token': '60700017415-W1rhcIQwMo4V-a2LdiYQ1YUnSv_clQ',\n",
       " 'token_type': 'bearer',\n",
       " 'expires_in': 86400,\n",
       " 'scope': '*'}"
      ]
     },
     "execution_count": 2,
     "metadata": {},
     "output_type": "execute_result"
    }
   ],
   "source": [
    "# request a token\n",
    "client_auth = requests.auth.HTTPBasicAuth('WLnCkgzuzO15JrhCBVw32w', 'E_zur7VJmfugyRlP7cAwxssMGwQQpw')\n",
    "post_data = {'grant_type': 'password', 'username': 'gtaylor38', 'password': '7teen4_2@'}\n",
    "headers = {'User-Agent': 'ScraperClient/1.0 by gtaylor38'}\n",
    "response_token = requests.post('https://www.reddit.com/api/v1/access_token', auth=client_auth, data=post_data, headers=headers)\n",
    "response_token.json()"
   ]
  },
  {
   "cell_type": "code",
   "execution_count": 18,
   "id": "fa94e016-e732-47b9-b91e-034d9861ef78",
   "metadata": {},
   "outputs": [],
   "source": [
    "access_token = response_token.json()['access_token']\n",
    "token_type = response_token.json()['token_type']"
   ]
  },
  {
   "cell_type": "code",
   "execution_count": 19,
   "id": "796cea55-59ea-45f7-b6a9-c4252ef900e1",
   "metadata": {
    "tags": []
   },
   "outputs": [],
   "source": [
    "headers = {\"Authorization\": f'{token_type} {access_token}', 'User-Agent': 'ScraperClient/1.0 by gtaylor38'}"
   ]
  },
  {
   "cell_type": "code",
   "execution_count": 31,
   "id": "0330e34d-a00a-44b6-b10f-f446500661b0",
   "metadata": {},
   "outputs": [
    {
     "ename": "KeyError",
     "evalue": "'data'",
     "output_type": "error",
     "traceback": [
      "\u001b[1;31m---------------------------------------------------------------------------\u001b[0m",
      "\u001b[1;31mKeyError\u001b[0m                                  Traceback (most recent call last)",
      "Input \u001b[1;32mIn [31]\u001b[0m, in \u001b[0;36m<cell line: 15>\u001b[1;34m()\u001b[0m\n\u001b[0;32m     11\u001b[0m response \u001b[38;5;241m=\u001b[39m requests\u001b[38;5;241m.\u001b[39mget(url_base, headers\u001b[38;5;241m=\u001b[39mheaders)\n\u001b[0;32m     13\u001b[0m page \u001b[38;5;241m=\u001b[39m []\n\u001b[1;32m---> 15\u001b[0m \u001b[38;5;28;01mfor\u001b[39;00m i \u001b[38;5;129;01min\u001b[39;00m \u001b[38;5;28mrange\u001b[39m(\u001b[43mresponse\u001b[49m\u001b[38;5;241;43m.\u001b[39;49m\u001b[43mjson\u001b[49m\u001b[43m(\u001b[49m\u001b[43m)\u001b[49m\u001b[43m[\u001b[49m\u001b[38;5;124;43m'\u001b[39;49m\u001b[38;5;124;43mdata\u001b[39;49m\u001b[38;5;124;43m'\u001b[39;49m\u001b[43m]\u001b[49m[\u001b[38;5;124m'\u001b[39m\u001b[38;5;124mdist\u001b[39m\u001b[38;5;124m'\u001b[39m]):\n\u001b[0;32m     16\u001b[0m     row \u001b[38;5;241m=\u001b[39m [response\u001b[38;5;241m.\u001b[39mjson()[\u001b[38;5;124m'\u001b[39m\u001b[38;5;124mdata\u001b[39m\u001b[38;5;124m'\u001b[39m][\u001b[38;5;124m'\u001b[39m\u001b[38;5;124mchildren\u001b[39m\u001b[38;5;124m'\u001b[39m][i][\u001b[38;5;124m'\u001b[39m\u001b[38;5;124mdata\u001b[39m\u001b[38;5;124m'\u001b[39m][col_name] \u001b[38;5;28;01mfor\u001b[39;00m col_name \u001b[38;5;129;01min\u001b[39;00m soccer_posts_df\u001b[38;5;241m.\u001b[39mcolumns]\n\u001b[0;32m     17\u001b[0m     page\u001b[38;5;241m.\u001b[39mappend(row)\n",
      "\u001b[1;31mKeyError\u001b[0m: 'data'"
     ]
    }
   ],
   "source": [
    "# initialize df\n",
    "soccer_posts_df = pd.DataFrame(columns=['title', 'score', 'author_flair_text', 'link_flair_text', 'created_utc', 'num_comments'])\n",
    "\n",
    "# set base url\n",
    "url_base = 'https://oauth.reddit.com/r/soccer/new/.json'\n",
    "\n",
    "# initialize count\n",
    "#count = 0\n",
    "\n",
    "# get data from first page using base url and store in df\n",
    "response = requests.get(url_base, headers=headers)\n",
    "\n",
    "page = []\n",
    "\n",
    "for i in range(response.json()['data']['dist']):\n",
    "    row = [response.json()['data']['children'][i]['data'][col_name] for col_name in soccer_posts_df.columns]\n",
    "    page.append(row)\n",
    "df = pd.DataFrame(page, columns=soccer_posts_df.columns)\n",
    "soccer_posts_df = pd.concat([soccer_posts_df, df])\n",
    "\n",
    "# collect data 60 pages at a time (sleeping in between), ten times\n",
    "for i in range(3):\n",
    "    # get and store data for the next sixty pages\n",
    "    for j in range(30):\n",
    "        # update count, after, url\n",
    "        #count += 25\n",
    "        after = response.json()['data']['after']\n",
    "        url_current = f'{url_base}?after={after}'\n",
    "        \n",
    "        # make new request and reset page list\n",
    "        response = requests.get(url_current, headers=headers)\n",
    "        page_new = []\n",
    "\n",
    "        # collect and store data in page list\n",
    "        for k in range(response.json()['data']['dist']):\n",
    "            row = [response.json()['data']['children'][k]['data'][col_name] for col_name in soccer_posts_df.columns]\n",
    "            page_new.append(row)\n",
    "        \n",
    "        # store page list as df and concat df to soccer_posts_df\n",
    "        df = pd.DataFrame(page_new, columns=soccer_posts_df.columns)\n",
    "        soccer_posts_df = pd.concat([soccer_posts_df, df])\n",
    "\n",
    "    # sleep the remainder of the minute\n",
    "    sleep(60)\n",
    "    \n",
    "# Write soccer_posts_df to csv:\n",
    "soccer_posts_df.to_csv('data/soccer_posts.csv', index=False)"
   ]
  },
  {
   "cell_type": "code",
   "execution_count": 28,
   "id": "e91375e6-b93e-4f36-9ed2-315674bb90ac",
   "metadata": {},
   "outputs": [
    {
     "data": {
      "text/plain": [
       "str"
      ]
     },
     "execution_count": 28,
     "metadata": {},
     "output_type": "execute_result"
    }
   ],
   "source": [
    "type(after)"
   ]
  },
  {
   "cell_type": "code",
   "execution_count": 29,
   "id": "31a04042-1ff1-4840-bd73-76901a66c9c3",
   "metadata": {},
   "outputs": [
    {
     "data": {
      "text/plain": [
       "(2265, 6)"
      ]
     },
     "execution_count": 29,
     "metadata": {},
     "output_type": "execute_result"
    }
   ],
   "source": [
    "soccer_posts_df.shape"
   ]
  },
  {
   "cell_type": "code",
   "execution_count": 30,
   "id": "23437b4a-878e-4a3b-9ba4-148ba9f67a4e",
   "metadata": {},
   "outputs": [
    {
     "data": {
      "text/plain": [
       "993"
      ]
     },
     "execution_count": 30,
     "metadata": {},
     "output_type": "execute_result"
    }
   ],
   "source": [
    "len(soccer_posts_df.created_utc.unique())"
   ]
  },
  {
   "cell_type": "code",
   "execution_count": 24,
   "id": "daeb0761-6f80-424b-9152-2946ef107c75",
   "metadata": {},
   "outputs": [
    {
     "data": {
      "text/plain": [
       "993"
      ]
     },
     "execution_count": 24,
     "metadata": {},
     "output_type": "execute_result"
    }
   ],
   "source": [
    "len(soccer_posts_df.title.unique())"
   ]
  },
  {
   "cell_type": "code",
   "execution_count": null,
   "id": "d75c95dc-dd37-475b-b253-22484135efc4",
   "metadata": {},
   "outputs": [],
   "source": []
  },
  {
   "cell_type": "code",
   "execution_count": null,
   "id": "739f7bad-ebcd-47e3-9cf7-52279a2f27b9",
   "metadata": {},
   "outputs": [],
   "source": []
  },
  {
   "cell_type": "code",
   "execution_count": null,
   "id": "68581d60-82b1-4750-99ee-29cee35ab0ae",
   "metadata": {},
   "outputs": [],
   "source": []
  },
  {
   "cell_type": "code",
   "execution_count": null,
   "id": "8dcbfcce-3cc0-4479-b82e-901ee1dd6606",
   "metadata": {},
   "outputs": [],
   "source": []
  }
 ],
 "metadata": {
  "kernelspec": {
   "display_name": "Python 3 (ipykernel)",
   "language": "python",
   "name": "python3"
  },
  "language_info": {
   "codemirror_mode": {
    "name": "ipython",
    "version": 3
   },
   "file_extension": ".py",
   "mimetype": "text/x-python",
   "name": "python",
   "nbconvert_exporter": "python",
   "pygments_lexer": "ipython3",
   "version": "3.9.12"
  }
 },
 "nbformat": 4,
 "nbformat_minor": 5
}
