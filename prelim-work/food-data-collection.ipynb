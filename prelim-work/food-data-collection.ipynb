{
 "cells": [
  {
   "cell_type": "markdown",
   "id": "22ed9c1a-8385-4e87-a0b7-531f7c3d1a23",
   "metadata": {},
   "source": [
    "### Imports"
   ]
  },
  {
   "cell_type": "code",
   "execution_count": 1,
   "id": "208d41cd-b6aa-4427-a8c8-db7e1b49cfeb",
   "metadata": {},
   "outputs": [],
   "source": [
    "import pandas as pd\n",
    "\n",
    "import requests\n",
    "import requests.auth\n",
    "import json\n",
    "\n",
    "import time"
   ]
  },
  {
   "cell_type": "markdown",
   "id": "393b9f2e-7217-4919-b509-35783cdbadd9",
   "metadata": {},
   "source": [
    "### Get Authorization"
   ]
  },
  {
   "cell_type": "code",
   "execution_count": 2,
   "id": "62a0c640-af38-43f1-bd41-f393a93b4aeb",
   "metadata": {},
   "outputs": [
    {
     "data": {
      "text/plain": [
       "{'access_token': '2205940059860-XmY4ot8oq0ihPCm0n3bDsnuLfQkeeg',\n",
       " 'token_type': 'bearer',\n",
       " 'expires_in': 86400,\n",
       " 'scope': '*'}"
      ]
     },
     "execution_count": 2,
     "metadata": {},
     "output_type": "execute_result"
    }
   ],
   "source": [
    "# request a token\n",
    "client_auth = requests.auth.HTTPBasicAuth('ZfnXA82bMZkXWBRp_29tqw', 'MTr-tnMjbizJ9jeuPQI8EK-CiPUFWA')\n",
    "post_data = {'grant_type': 'password', 'username': 'gtaylor38gadsi', 'password': 'axfig654$Bin'}\n",
    "headers = {'User-Agent': 'PostScraperScript/1.0 by gtaylor38gadsi'}\n",
    "response_token = requests.post('https://www.reddit.com/api/v1/access_token', auth=client_auth, data=post_data, headers=headers)\n",
    "response_token.json()"
   ]
  },
  {
   "cell_type": "code",
   "execution_count": 3,
   "id": "54d37e4f-38ea-4aca-aa2a-17f414201f59",
   "metadata": {},
   "outputs": [],
   "source": [
    "# store credentials\n",
    "access_token = response_token.json()['access_token']\n",
    "token_type = response_token.json()['token_type']"
   ]
  },
  {
   "cell_type": "code",
   "execution_count": 4,
   "id": "1eef2646-3343-492d-8485-398936edefd6",
   "metadata": {},
   "outputs": [],
   "source": [
    "# update headers for collection\n",
    "headers = {\"Authorization\": f'{token_type} {access_token}', 'User-Agent': 'PostScraperScript/1.0 by gtaylor38gadsi'}"
   ]
  },
  {
   "cell_type": "markdown",
   "id": "be182c38-a98c-48ed-b8f0-70a3c48d67bf",
   "metadata": {},
   "source": [
    "### Collect Data"
   ]
  },
  {
   "cell_type": "code",
   "execution_count": 5,
   "id": "b28e4c9e-3ec5-4cd6-945b-1aae9eef38ad",
   "metadata": {},
   "outputs": [],
   "source": [
    "# initialize df\n",
    "posts_df = pd.DataFrame(columns=['title', 'subreddit', 'score', 'author_flair_text', 'link_flair_text', 'created_utc', 'num_comments'])\n",
    "\n",
    "# set base url\n",
    "url_base = 'https://oauth.reddit.com/r/food/new/.json'"
   ]
  },
  {
   "cell_type": "code",
   "execution_count": 6,
   "id": "2f8c7228-1180-4558-ba10-3e18bc9d804a",
   "metadata": {},
   "outputs": [
    {
     "data": {
      "text/plain": [
       "992"
      ]
     },
     "execution_count": 6,
     "metadata": {},
     "output_type": "execute_result"
    }
   ],
   "source": [
    "# make initial request, set time, initialize page list, define columns to scrape\n",
    "response = requests.get(url_base, headers=headers)\n",
    "curr_time = time.time()\n",
    "page_new = []\n",
    "base_cols = ['title', 'subreddit', 'score', 'author_flair_text', 'link_flair_text', 'created_utc', 'num_comments']\n",
    "\n",
    "# get data from first page using base url and store in posts_df\n",
    "for i in range(response.json()['data']['dist']):\n",
    "    row = [response.json()['data']['children'][i]['data'][col_name] for col_name in base_cols]\n",
    "    page_new.append(row)\n",
    "df = pd.DataFrame(page_new, columns=posts_df.columns)\n",
    "df['age'] = curr_time - df['created_utc']\n",
    "posts_df = pd.concat([posts_df, df])\n",
    "\n",
    "# collect data from next 39 pages\n",
    "for i in range(39):\n",
    "    # update after and url_current\n",
    "    after = response.json()['data']['after']\n",
    "    url_current = f'{url_base}?after={after}'\n",
    "\n",
    "    # make new request, update time, and reset page list\n",
    "    response = requests.get(url_current, headers=headers)\n",
    "    curr_time = time.time()\n",
    "    page_new = []\n",
    "\n",
    "    # collect and store data in page list\n",
    "    for j in range(response.json()['data']['dist']):\n",
    "        row = [response.json()['data']['children'][j]['data'][col_name] for col_name in posts_df.columns if col_name != 'age']\n",
    "        page_new.append(row)\n",
    "\n",
    "    # store page list as df, add age column, and concat df to posts_df\n",
    "    df = pd.DataFrame(page_new, columns=base_cols)\n",
    "    df['age'] = curr_time - df['created_utc']\n",
    "    posts_df = pd.concat([posts_df, df])\n",
    "    \n",
    "# report number of unique posts\n",
    "len(posts_df.title.unique())"
   ]
  },
  {
   "cell_type": "code",
   "execution_count": 8,
   "id": "e6f4d8eb-8498-4590-a6a9-6e4b48da3ab0",
   "metadata": {},
   "outputs": [
    {
     "data": {
      "text/plain": [
       "(994, 8)"
      ]
     },
     "execution_count": 8,
     "metadata": {},
     "output_type": "execute_result"
    }
   ],
   "source": [
    "posts_df.shape"
   ]
  },
  {
   "cell_type": "markdown",
   "id": "5cdb1c51-0d58-4f29-8493-8d3ddfc87570",
   "metadata": {},
   "source": [
    "### Save Data"
   ]
  },
  {
   "cell_type": "code",
   "execution_count": 7,
   "id": "057cabf5-3793-4061-acaa-793f243966ab",
   "metadata": {},
   "outputs": [],
   "source": [
    "# Write posts_df to csv:\n",
    "posts_df.to_csv('data/food_data/food_posts1.csv', index=False)"
   ]
  }
 ],
 "metadata": {
  "kernelspec": {
   "display_name": "Python 3 (ipykernel)",
   "language": "python",
   "name": "python3"
  },
  "language_info": {
   "codemirror_mode": {
    "name": "ipython",
    "version": 3
   },
   "file_extension": ".py",
   "mimetype": "text/x-python",
   "name": "python",
   "nbconvert_exporter": "python",
   "pygments_lexer": "ipython3",
   "version": "3.9.12"
  }
 },
 "nbformat": 4,
 "nbformat_minor": 5
}
