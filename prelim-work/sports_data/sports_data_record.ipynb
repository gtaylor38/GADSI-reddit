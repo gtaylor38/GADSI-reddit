{
 "cells": [
  {
   "cell_type": "code",
   "execution_count": null,
   "id": "561932e4-3f12-4dea-a0f5-1402922e0d5d",
   "metadata": {},
   "outputs": [],
   "source": []
  },
  {
   "cell_type": "code",
   "execution_count": null,
   "id": "c8c8b452-4f13-4242-a88b-b68b87b3fb8c",
   "metadata": {},
   "outputs": [],
   "source": []
  },
  {
   "cell_type": "code",
   "execution_count": null,
   "id": "94d1f205-d215-44ae-8cd9-f00f2fc30c81",
   "metadata": {},
   "outputs": [],
   "source": []
  },
  {
   "cell_type": "markdown",
   "id": "b8f42a62-c472-4b4c-982e-d7a4c4333faa",
   "metadata": {},
   "source": [
    "| file | created | non-overlapping rows | self-unique rows |\n",
    "| ---- | ------- | -------------------: | ----------------: |\n",
    "| sports_posts1.csv | 9/2/22 6:14pm PDT | 998 | 998 |\n",
    "| sports_posts2.csv | 9/3/22 9:00am PDT | 871 | 999 |"
   ]
  },
  {
   "cell_type": "code",
   "execution_count": null,
   "id": "487ade14-3aef-486e-b45e-937916f880ee",
   "metadata": {},
   "outputs": [],
   "source": []
  },
  {
   "cell_type": "code",
   "execution_count": null,
   "id": "0712b434-0894-41ef-9b43-639a1a7adcf3",
   "metadata": {},
   "outputs": [],
   "source": []
  },
  {
   "cell_type": "code",
   "execution_count": null,
   "id": "c23a6b10-bdfa-4433-97ca-1b22a77f3110",
   "metadata": {},
   "outputs": [],
   "source": []
  }
 ],
 "metadata": {
  "kernelspec": {
   "display_name": "Python 3 (ipykernel)",
   "language": "python",
   "name": "python3"
  },
  "language_info": {
   "codemirror_mode": {
    "name": "ipython",
    "version": 3
   },
   "file_extension": ".py",
   "mimetype": "text/x-python",
   "name": "python",
   "nbconvert_exporter": "python",
   "pygments_lexer": "ipython3",
   "version": "3.9.12"
  }
 },
 "nbformat": 4,
 "nbformat_minor": 5
}
