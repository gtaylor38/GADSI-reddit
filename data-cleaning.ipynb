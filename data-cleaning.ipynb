{
 "cells": [
  {
   "cell_type": "markdown",
   "id": "3af77f2d-c335-41d8-bed2-2830f992b605",
   "metadata": {},
   "source": [
    "# Data Cleaning"
   ]
  },
  {
   "cell_type": "markdown",
   "id": "12b31ecd-59d1-4941-b15b-cacccd10496f",
   "metadata": {},
   "source": [
    "### Imports"
   ]
  },
  {
   "cell_type": "code",
   "execution_count": 1,
   "id": "70729c5f-c8d1-404b-a3cc-dfe618617283",
   "metadata": {},
   "outputs": [],
   "source": [
    "import pandas as pd"
   ]
  },
  {
   "cell_type": "markdown",
   "id": "079a928b-1031-4bc3-8d9f-54ec1b16fdeb",
   "metadata": {},
   "source": [
    "### Load Data"
   ]
  },
  {
   "cell_type": "code",
   "execution_count": 2,
   "id": "f2b15ded-3aec-4965-a006-f85cd09221f2",
   "metadata": {},
   "outputs": [],
   "source": [
    "posts = pd.read_csv('data/all_sports_posts.csv')"
   ]
  },
  {
   "cell_type": "code",
   "execution_count": 3,
   "id": "8c47a758-1cbb-4f91-b745-1bc0c3e3fec0",
   "metadata": {
    "tags": []
   },
   "outputs": [
    {
     "data": {
      "text/html": [
       "<div>\n",
       "<style scoped>\n",
       "    .dataframe tbody tr th:only-of-type {\n",
       "        vertical-align: middle;\n",
       "    }\n",
       "\n",
       "    .dataframe tbody tr th {\n",
       "        vertical-align: top;\n",
       "    }\n",
       "\n",
       "    .dataframe thead th {\n",
       "        text-align: right;\n",
       "    }\n",
       "</style>\n",
       "<table border=\"1\" class=\"dataframe\">\n",
       "  <thead>\n",
       "    <tr style=\"text-align: right;\">\n",
       "      <th></th>\n",
       "      <th>title</th>\n",
       "      <th>subreddit</th>\n",
       "      <th>score</th>\n",
       "      <th>author_flair_text</th>\n",
       "      <th>link_flair_text</th>\n",
       "      <th>created_utc</th>\n",
       "      <th>num_comments</th>\n",
       "      <th>age</th>\n",
       "    </tr>\n",
       "  </thead>\n",
       "  <tbody>\n",
       "    <tr>\n",
       "      <th>0</th>\n",
       "      <td>Rivalry renewed: Canada advances to face U.S. ...</td>\n",
       "      <td>sports</td>\n",
       "      <td>1</td>\n",
       "      <td>NaN</td>\n",
       "      <td>:hockey: Hockey</td>\n",
       "      <td>1.662233e+09</td>\n",
       "      <td>0</td>\n",
       "      <td>750.568575</td>\n",
       "    </tr>\n",
       "    <tr>\n",
       "      <th>1</th>\n",
       "      <td>Multiple Games on any TV with Chrome - Quick t...</td>\n",
       "      <td>sports</td>\n",
       "      <td>0</td>\n",
       "      <td>NaN</td>\n",
       "      <td>:football: Football</td>\n",
       "      <td>1.662232e+09</td>\n",
       "      <td>1</td>\n",
       "      <td>1556.568575</td>\n",
       "    </tr>\n",
       "    <tr>\n",
       "      <th>2</th>\n",
       "      <td>Google Deepmind AI Learns Soccer To Power Robo...</td>\n",
       "      <td>sports</td>\n",
       "      <td>1</td>\n",
       "      <td>NaN</td>\n",
       "      <td>:soccer: Soccer</td>\n",
       "      <td>1.662229e+09</td>\n",
       "      <td>0</td>\n",
       "      <td>4977.568575</td>\n",
       "    </tr>\n",
       "    <tr>\n",
       "      <th>3</th>\n",
       "      <td>FIFA, Qatar agree to beer sales at World Cup</td>\n",
       "      <td>sports</td>\n",
       "      <td>131</td>\n",
       "      <td>NaN</td>\n",
       "      <td>:soccer: Soccer</td>\n",
       "      <td>1.662222e+09</td>\n",
       "      <td>23</td>\n",
       "      <td>11504.568575</td>\n",
       "    </tr>\n",
       "    <tr>\n",
       "      <th>4</th>\n",
       "      <td>Old Dominion does it again in second upset of ...</td>\n",
       "      <td>sports</td>\n",
       "      <td>298</td>\n",
       "      <td>:BIG12isu: Iowa State</td>\n",
       "      <td>:football: Football</td>\n",
       "      <td>1.662209e+09</td>\n",
       "      <td>10</td>\n",
       "      <td>25210.568575</td>\n",
       "    </tr>\n",
       "    <tr>\n",
       "      <th>...</th>\n",
       "      <td>...</td>\n",
       "      <td>...</td>\n",
       "      <td>...</td>\n",
       "      <td>...</td>\n",
       "      <td>...</td>\n",
       "      <td>...</td>\n",
       "      <td>...</td>\n",
       "      <td>...</td>\n",
       "    </tr>\n",
       "    <tr>\n",
       "      <th>19771</th>\n",
       "      <td>First set of clubs</td>\n",
       "      <td>golf</td>\n",
       "      <td>2</td>\n",
       "      <td>NaN</td>\n",
       "      <td>EQUIPMENT</td>\n",
       "      <td>1.661813e+09</td>\n",
       "      <td>6</td>\n",
       "      <td>422496.561974</td>\n",
       "    </tr>\n",
       "    <tr>\n",
       "      <th>19772</th>\n",
       "      <td>Bought a used set of stealths off 2nd swing, o...</td>\n",
       "      <td>golf</td>\n",
       "      <td>77</td>\n",
       "      <td>NaN</td>\n",
       "      <td>EQUIPMENT</td>\n",
       "      <td>1.661812e+09</td>\n",
       "      <td>20</td>\n",
       "      <td>423590.561974</td>\n",
       "    </tr>\n",
       "    <tr>\n",
       "      <th>19773</th>\n",
       "      <td>New Taylormade irons release?</td>\n",
       "      <td>golf</td>\n",
       "      <td>0</td>\n",
       "      <td>NaN</td>\n",
       "      <td>EQUIPMENT</td>\n",
       "      <td>1.661812e+09</td>\n",
       "      <td>1</td>\n",
       "      <td>423744.561974</td>\n",
       "    </tr>\n",
       "    <tr>\n",
       "      <th>19774</th>\n",
       "      <td>How do you breath during your swing?</td>\n",
       "      <td>golf</td>\n",
       "      <td>4</td>\n",
       "      <td>NaN</td>\n",
       "      <td>NaN</td>\n",
       "      <td>1.661812e+09</td>\n",
       "      <td>20</td>\n",
       "      <td>423974.561974</td>\n",
       "    </tr>\n",
       "    <tr>\n",
       "      <th>19775</th>\n",
       "      <td>I Want To Start Walking Courses</td>\n",
       "      <td>golf</td>\n",
       "      <td>9</td>\n",
       "      <td>NaN</td>\n",
       "      <td>NaN</td>\n",
       "      <td>1.661810e+09</td>\n",
       "      <td>54</td>\n",
       "      <td>425555.561974</td>\n",
       "    </tr>\n",
       "  </tbody>\n",
       "</table>\n",
       "<p>19776 rows × 8 columns</p>\n",
       "</div>"
      ],
      "text/plain": [
       "                                                   title subreddit  score  \\\n",
       "0      Rivalry renewed: Canada advances to face U.S. ...    sports      1   \n",
       "1      Multiple Games on any TV with Chrome - Quick t...    sports      0   \n",
       "2      Google Deepmind AI Learns Soccer To Power Robo...    sports      1   \n",
       "3           FIFA, Qatar agree to beer sales at World Cup    sports    131   \n",
       "4      Old Dominion does it again in second upset of ...    sports    298   \n",
       "...                                                  ...       ...    ...   \n",
       "19771                                 First set of clubs      golf      2   \n",
       "19772  Bought a used set of stealths off 2nd swing, o...      golf     77   \n",
       "19773                      New Taylormade irons release?      golf      0   \n",
       "19774               How do you breath during your swing?      golf      4   \n",
       "19775                    I Want To Start Walking Courses      golf      9   \n",
       "\n",
       "           author_flair_text      link_flair_text   created_utc  num_comments  \\\n",
       "0                        NaN      :hockey: Hockey  1.662233e+09             0   \n",
       "1                        NaN  :football: Football  1.662232e+09             1   \n",
       "2                        NaN      :soccer: Soccer  1.662229e+09             0   \n",
       "3                        NaN      :soccer: Soccer  1.662222e+09            23   \n",
       "4      :BIG12isu: Iowa State  :football: Football  1.662209e+09            10   \n",
       "...                      ...                  ...           ...           ...   \n",
       "19771                    NaN            EQUIPMENT  1.661813e+09             6   \n",
       "19772                    NaN            EQUIPMENT  1.661812e+09            20   \n",
       "19773                    NaN            EQUIPMENT  1.661812e+09             1   \n",
       "19774                    NaN                  NaN  1.661812e+09            20   \n",
       "19775                    NaN                  NaN  1.661810e+09            54   \n",
       "\n",
       "                 age  \n",
       "0         750.568575  \n",
       "1        1556.568575  \n",
       "2        4977.568575  \n",
       "3       11504.568575  \n",
       "4       25210.568575  \n",
       "...              ...  \n",
       "19771  422496.561974  \n",
       "19772  423590.561974  \n",
       "19773  423744.561974  \n",
       "19774  423974.561974  \n",
       "19775  425555.561974  \n",
       "\n",
       "[19776 rows x 8 columns]"
      ]
     },
     "execution_count": 3,
     "metadata": {},
     "output_type": "execute_result"
    }
   ],
   "source": [
    "posts"
   ]
  },
  {
   "cell_type": "markdown",
   "id": "21da8920-6ac9-4b4c-8990-c8ec4b4e0dfc",
   "metadata": {},
   "source": [
    "### Inspect Data Types and Missing Values"
   ]
  },
  {
   "cell_type": "code",
   "execution_count": 4,
   "id": "f3de9369-28c5-4add-9497-f235ce07ae0e",
   "metadata": {
    "tags": []
   },
   "outputs": [
    {
     "name": "stdout",
     "output_type": "stream",
     "text": [
      "<class 'pandas.core.frame.DataFrame'>\n",
      "RangeIndex: 19776 entries, 0 to 19775\n",
      "Data columns (total 8 columns):\n",
      " #   Column             Non-Null Count  Dtype  \n",
      "---  ------             --------------  -----  \n",
      " 0   title              19776 non-null  object \n",
      " 1   subreddit          19776 non-null  object \n",
      " 2   score              19776 non-null  int64  \n",
      " 3   author_flair_text  8393 non-null   object \n",
      " 4   link_flair_text    10326 non-null  object \n",
      " 5   created_utc        19776 non-null  float64\n",
      " 6   num_comments       19776 non-null  int64  \n",
      " 7   age                19776 non-null  float64\n",
      "dtypes: float64(2), int64(2), object(4)\n",
      "memory usage: 1.2+ MB\n"
     ]
    }
   ],
   "source": [
    "posts.info()"
   ]
  },
  {
   "cell_type": "code",
   "execution_count": 5,
   "id": "a70ce9c1-d9a3-4ead-bd87-056b29960de8",
   "metadata": {
    "tags": []
   },
   "outputs": [
    {
     "data": {
      "text/plain": [
       "MMA                  999\n",
       "tennis               998\n",
       "snowboarding         996\n",
       "soccer               995\n",
       "CollegeBasketball    995\n",
       "Fishing              993\n",
       "running              993\n",
       "hockey               993\n",
       "CFB                  992\n",
       "NASCAR               991\n",
       "golf                 991\n",
       "nfl                  990\n",
       "bicycling            989\n",
       "formula1             989\n",
       "Boxing               986\n",
       "baseball             986\n",
       "nba                  985\n",
       "skiing               985\n",
       "climbing             980\n",
       "sports               950\n",
       "Name: subreddit, dtype: int64"
      ]
     },
     "execution_count": 5,
     "metadata": {},
     "output_type": "execute_result"
    }
   ],
   "source": [
    "posts.subreddit.value_counts()"
   ]
  },
  {
   "cell_type": "markdown",
   "id": "33769206-a77c-4252-af8a-d47236bbacdb",
   "metadata": {},
   "source": [
    "Cleaning:\n",
    "- DONE Eliminate duplicate posts (posts with same title) using pd.drop_duplicates\n",
    "    - keep last to eliminate re-posts\n",
    "- DONE Create columns for whether post has:\n",
    "    - author flair text\n",
    "    - link flair text\n",
    "- DONE Lowercase all subreddit values\n",
    "    - MMA\n",
    "    - CollegeBasketball\n",
    "    - Fishing\n",
    "    - CFB\n",
    "    - NASCAR\n",
    "    - Boxing\n",
    "- DONE Drop original author, link flair text columns"
   ]
  },
  {
   "cell_type": "code",
   "execution_count": 6,
   "id": "a69b8e43-69ba-4cae-aaf4-733c6ec1ed45",
   "metadata": {
    "tags": []
   },
   "outputs": [
    {
     "data": {
      "text/plain": [
       "False    17468\n",
       "True      2308\n",
       "dtype: int64"
      ]
     },
     "execution_count": 6,
     "metadata": {},
     "output_type": "execute_result"
    }
   ],
   "source": [
    "posts.duplicated(subset=['title'], keep=False).value_counts()"
   ]
  },
  {
   "cell_type": "markdown",
   "id": "aa801e13-56dc-4931-a413-4d45d60643e2",
   "metadata": {},
   "source": [
    "There are 2308 posts of which 2 or more copies exist."
   ]
  },
  {
   "cell_type": "code",
   "execution_count": 7,
   "id": "c50197d8-50a4-4a3a-ab8e-0c9da7d297a3",
   "metadata": {
    "tags": []
   },
   "outputs": [
    {
     "data": {
      "text/plain": [
       "False    18478\n",
       "True      1298\n",
       "dtype: int64"
      ]
     },
     "execution_count": 7,
     "metadata": {},
     "output_type": "execute_result"
    }
   ],
   "source": [
    "posts.duplicated(subset=['title'], keep='last').value_counts()"
   ]
  },
  {
   "cell_type": "markdown",
   "id": "de9f75a4-3522-42d7-8f54-b36ad202fe29",
   "metadata": {},
   "source": [
    "There are 1298 non-lasts, which we want to drop, and therefore 1010 lasts (out of 2308) that we want to keep."
   ]
  },
  {
   "cell_type": "code",
   "execution_count": 8,
   "id": "7acbe23d-74be-47d7-a31b-27110d56bfda",
   "metadata": {
    "tags": []
   },
   "outputs": [
    {
     "data": {
      "text/plain": [
       "hockey               993\n",
       "soccer               990\n",
       "Fishing              990\n",
       "golf                 989\n",
       "nfl                  986\n",
       "formula1             985\n",
       "CFB                  983\n",
       "nba                  975\n",
       "tennis               973\n",
       "bicycling            970\n",
       "NASCAR               966\n",
       "baseball             960\n",
       "skiing               959\n",
       "snowboarding         954\n",
       "Boxing               935\n",
       "MMA                  923\n",
       "running              836\n",
       "CollegeBasketball    835\n",
       "climbing             832\n",
       "sports               444\n",
       "Name: subreddit, dtype: int64"
      ]
     },
     "execution_count": 8,
     "metadata": {},
     "output_type": "execute_result"
    }
   ],
   "source": [
    "posts.drop_duplicates(subset=['title'], keep='last', ignore_index=True).subreddit.value_counts()"
   ]
  },
  {
   "cell_type": "markdown",
   "id": "88c10192-491a-4fae-b30c-d564ef90209d",
   "metadata": {},
   "source": [
    "The cause of duplication is unclear, but assuming that it's either that subreddits contain re-posts or that the post collection algorithm collected the same post more than once, keeping lasts is best. We want either the oldest version of a re-posted post (more time up will translate to a more accurate picture of how its characteristics affect engagement with it), or else the versions are the same and it doesn't matter which we keep.\n",
    "\n",
    "It is also unclear why the sports subreddit had by far the most duplicates, but given that it has the most subscribers, a higher prevalence of re-posting would not be surprising. It's worth noting that the other unique thing about this subreddit is that its data was collected first, but I can think of no reason that this would produce more duplicates. Finally, because we're losing a disproportionate number of posts from the subreddit that is not specific to any sport, this is unlikely to imbalance the data set in a way that would bias analysis."
   ]
  },
  {
   "cell_type": "code",
   "execution_count": 9,
   "id": "5a79085c-6c12-4e7d-b18a-f0f83cb39a2a",
   "metadata": {},
   "outputs": [],
   "source": [
    "# eliminate duplicate posts\n",
    "posts = posts.drop_duplicates(subset=['title'], keep='last', ignore_index=True)"
   ]
  },
  {
   "cell_type": "code",
   "execution_count": 10,
   "id": "d12b1c78-d8b0-4bb9-86d5-a225372574fd",
   "metadata": {
    "tags": []
   },
   "outputs": [
    {
     "name": "stderr",
     "output_type": "stream",
     "text": [
      "C:\\Users\\gtayl\\AppData\\Local\\Temp\\ipykernel_228\\3712620235.py:2: SettingWithCopyWarning: \n",
      "A value is trying to be set on a copy of a slice from a DataFrame.\n",
      "Try using .loc[row_indexer,col_indexer] = value instead\n",
      "\n",
      "See the caveats in the documentation: https://pandas.pydata.org/pandas-docs/stable/user_guide/indexing.html#returning-a-view-versus-a-copy\n",
      "  posts['has_authtext'] = [1 - int(type(text) == float) for text in posts.author_flair_text]\n",
      "C:\\Users\\gtayl\\AppData\\Local\\Temp\\ipykernel_228\\3712620235.py:3: SettingWithCopyWarning: \n",
      "A value is trying to be set on a copy of a slice from a DataFrame.\n",
      "Try using .loc[row_indexer,col_indexer] = value instead\n",
      "\n",
      "See the caveats in the documentation: https://pandas.pydata.org/pandas-docs/stable/user_guide/indexing.html#returning-a-view-versus-a-copy\n",
      "  posts['has_linktext'] = [1 - int(type(text) == float) for text in posts.link_flair_text]\n"
     ]
    }
   ],
   "source": [
    "# create columns for whether the post has author, link flair text\n",
    "posts['has_authtext'] = [1 - int(type(text) == float) for text in posts.author_flair_text]\n",
    "posts['has_linktext'] = [1 - int(type(text) == float) for text in posts.link_flair_text]"
   ]
  },
  {
   "cell_type": "code",
   "execution_count": 11,
   "id": "3225eee0-3c4a-47c6-bb51-d1b47130f2d6",
   "metadata": {
    "tags": []
   },
   "outputs": [
    {
     "name": "stderr",
     "output_type": "stream",
     "text": [
      "C:\\Users\\gtayl\\AppData\\Local\\Temp\\ipykernel_228\\666270466.py:2: SettingWithCopyWarning: \n",
      "A value is trying to be set on a copy of a slice from a DataFrame.\n",
      "Try using .loc[row_indexer,col_indexer] = value instead\n",
      "\n",
      "See the caveats in the documentation: https://pandas.pydata.org/pandas-docs/stable/user_guide/indexing.html#returning-a-view-versus-a-copy\n",
      "  posts['subreddit'] = [sub.lower() for sub in posts.subreddit]\n"
     ]
    }
   ],
   "source": [
    "# lowercase all subreddit values\n",
    "posts['subreddit'] = [sub.lower() for sub in posts.subreddit]"
   ]
  },
  {
   "cell_type": "code",
   "execution_count": 12,
   "id": "66ded63d-cad9-4222-94b7-204aec92d6a6",
   "metadata": {},
   "outputs": [],
   "source": [
    "# drop original author, link flair text columns\n",
    "posts = posts.drop(columns=['author_flair_text', 'link_flair_text'])"
   ]
  },
  {
   "cell_type": "code",
   "execution_count": 13,
   "id": "1ffc1657-f0d7-4953-b6ab-b5ada914809f",
   "metadata": {},
   "outputs": [
    {
     "data": {
      "text/html": [
       "<div>\n",
       "<style scoped>\n",
       "    .dataframe tbody tr th:only-of-type {\n",
       "        vertical-align: middle;\n",
       "    }\n",
       "\n",
       "    .dataframe tbody tr th {\n",
       "        vertical-align: top;\n",
       "    }\n",
       "\n",
       "    .dataframe thead th {\n",
       "        text-align: right;\n",
       "    }\n",
       "</style>\n",
       "<table border=\"1\" class=\"dataframe\">\n",
       "  <thead>\n",
       "    <tr style=\"text-align: right;\">\n",
       "      <th></th>\n",
       "      <th>title</th>\n",
       "      <th>subreddit</th>\n",
       "      <th>score</th>\n",
       "      <th>created_utc</th>\n",
       "      <th>num_comments</th>\n",
       "      <th>age</th>\n",
       "      <th>has_authtext</th>\n",
       "      <th>has_linktext</th>\n",
       "    </tr>\n",
       "  </thead>\n",
       "  <tbody>\n",
       "    <tr>\n",
       "      <th>0</th>\n",
       "      <td>Serena Williams’s Once-In-A-Lifetime Serve</td>\n",
       "      <td>sports</td>\n",
       "      <td>1</td>\n",
       "      <td>1.661814e+09</td>\n",
       "      <td>0</td>\n",
       "      <td>420116.161326</td>\n",
       "      <td>1</td>\n",
       "      <td>1</td>\n",
       "    </tr>\n",
       "    <tr>\n",
       "      <th>1</th>\n",
       "      <td>Wholesome moment, \"Ichiro Girl\" throws out fir...</td>\n",
       "      <td>sports</td>\n",
       "      <td>1413</td>\n",
       "      <td>1.661797e+09</td>\n",
       "      <td>50</td>\n",
       "      <td>436886.161326</td>\n",
       "      <td>0</td>\n",
       "      <td>1</td>\n",
       "    </tr>\n",
       "    <tr>\n",
       "      <th>2</th>\n",
       "      <td>Williams' goodbye &amp;amp; Raducanu's defence top...</td>\n",
       "      <td>sports</td>\n",
       "      <td>5</td>\n",
       "      <td>1.661797e+09</td>\n",
       "      <td>1</td>\n",
       "      <td>437390.161326</td>\n",
       "      <td>0</td>\n",
       "      <td>1</td>\n",
       "    </tr>\n",
       "    <tr>\n",
       "      <th>3</th>\n",
       "      <td>Duke volleyball player: BYU slow to act on slurs</td>\n",
       "      <td>sports</td>\n",
       "      <td>4962</td>\n",
       "      <td>1.661787e+09</td>\n",
       "      <td>703</td>\n",
       "      <td>447296.161326</td>\n",
       "      <td>1</td>\n",
       "      <td>1</td>\n",
       "    </tr>\n",
       "    <tr>\n",
       "      <th>4</th>\n",
       "      <td>[ESPN] Washington Commanders RB Brian Robinson...</td>\n",
       "      <td>sports</td>\n",
       "      <td>55</td>\n",
       "      <td>1.661743e+09</td>\n",
       "      <td>5</td>\n",
       "      <td>490948.161326</td>\n",
       "      <td>1</td>\n",
       "      <td>1</td>\n",
       "    </tr>\n",
       "    <tr>\n",
       "      <th>...</th>\n",
       "      <td>...</td>\n",
       "      <td>...</td>\n",
       "      <td>...</td>\n",
       "      <td>...</td>\n",
       "      <td>...</td>\n",
       "      <td>...</td>\n",
       "      <td>...</td>\n",
       "      <td>...</td>\n",
       "    </tr>\n",
       "    <tr>\n",
       "      <th>18473</th>\n",
       "      <td>First set of clubs</td>\n",
       "      <td>golf</td>\n",
       "      <td>2</td>\n",
       "      <td>1.661813e+09</td>\n",
       "      <td>6</td>\n",
       "      <td>422496.561974</td>\n",
       "      <td>0</td>\n",
       "      <td>1</td>\n",
       "    </tr>\n",
       "    <tr>\n",
       "      <th>18474</th>\n",
       "      <td>Bought a used set of stealths off 2nd swing, o...</td>\n",
       "      <td>golf</td>\n",
       "      <td>77</td>\n",
       "      <td>1.661812e+09</td>\n",
       "      <td>20</td>\n",
       "      <td>423590.561974</td>\n",
       "      <td>0</td>\n",
       "      <td>1</td>\n",
       "    </tr>\n",
       "    <tr>\n",
       "      <th>18475</th>\n",
       "      <td>New Taylormade irons release?</td>\n",
       "      <td>golf</td>\n",
       "      <td>0</td>\n",
       "      <td>1.661812e+09</td>\n",
       "      <td>1</td>\n",
       "      <td>423744.561974</td>\n",
       "      <td>0</td>\n",
       "      <td>1</td>\n",
       "    </tr>\n",
       "    <tr>\n",
       "      <th>18476</th>\n",
       "      <td>How do you breath during your swing?</td>\n",
       "      <td>golf</td>\n",
       "      <td>4</td>\n",
       "      <td>1.661812e+09</td>\n",
       "      <td>20</td>\n",
       "      <td>423974.561974</td>\n",
       "      <td>0</td>\n",
       "      <td>0</td>\n",
       "    </tr>\n",
       "    <tr>\n",
       "      <th>18477</th>\n",
       "      <td>I Want To Start Walking Courses</td>\n",
       "      <td>golf</td>\n",
       "      <td>9</td>\n",
       "      <td>1.661810e+09</td>\n",
       "      <td>54</td>\n",
       "      <td>425555.561974</td>\n",
       "      <td>0</td>\n",
       "      <td>0</td>\n",
       "    </tr>\n",
       "  </tbody>\n",
       "</table>\n",
       "<p>18478 rows × 8 columns</p>\n",
       "</div>"
      ],
      "text/plain": [
       "                                                   title subreddit  score  \\\n",
       "0             Serena Williams’s Once-In-A-Lifetime Serve    sports      1   \n",
       "1      Wholesome moment, \"Ichiro Girl\" throws out fir...    sports   1413   \n",
       "2      Williams' goodbye &amp; Raducanu's defence top...    sports      5   \n",
       "3       Duke volleyball player: BYU slow to act on slurs    sports   4962   \n",
       "4      [ESPN] Washington Commanders RB Brian Robinson...    sports     55   \n",
       "...                                                  ...       ...    ...   \n",
       "18473                                 First set of clubs      golf      2   \n",
       "18474  Bought a used set of stealths off 2nd swing, o...      golf     77   \n",
       "18475                      New Taylormade irons release?      golf      0   \n",
       "18476               How do you breath during your swing?      golf      4   \n",
       "18477                    I Want To Start Walking Courses      golf      9   \n",
       "\n",
       "        created_utc  num_comments            age  has_authtext  has_linktext  \n",
       "0      1.661814e+09             0  420116.161326             1             1  \n",
       "1      1.661797e+09            50  436886.161326             0             1  \n",
       "2      1.661797e+09             1  437390.161326             0             1  \n",
       "3      1.661787e+09           703  447296.161326             1             1  \n",
       "4      1.661743e+09             5  490948.161326             1             1  \n",
       "...             ...           ...            ...           ...           ...  \n",
       "18473  1.661813e+09             6  422496.561974             0             1  \n",
       "18474  1.661812e+09            20  423590.561974             0             1  \n",
       "18475  1.661812e+09             1  423744.561974             0             1  \n",
       "18476  1.661812e+09            20  423974.561974             0             0  \n",
       "18477  1.661810e+09            54  425555.561974             0             0  \n",
       "\n",
       "[18478 rows x 8 columns]"
      ]
     },
     "execution_count": 13,
     "metadata": {},
     "output_type": "execute_result"
    }
   ],
   "source": [
    "posts"
   ]
  },
  {
   "cell_type": "code",
   "execution_count": 14,
   "id": "b262a3fe-e805-4a69-b6a6-9d2e7d9d4a89",
   "metadata": {},
   "outputs": [
    {
     "name": "stdout",
     "output_type": "stream",
     "text": [
      "<class 'pandas.core.frame.DataFrame'>\n",
      "RangeIndex: 18478 entries, 0 to 18477\n",
      "Data columns (total 8 columns):\n",
      " #   Column        Non-Null Count  Dtype  \n",
      "---  ------        --------------  -----  \n",
      " 0   title         18478 non-null  object \n",
      " 1   subreddit     18478 non-null  object \n",
      " 2   score         18478 non-null  int64  \n",
      " 3   created_utc   18478 non-null  float64\n",
      " 4   num_comments  18478 non-null  int64  \n",
      " 5   age           18478 non-null  float64\n",
      " 6   has_authtext  18478 non-null  int64  \n",
      " 7   has_linktext  18478 non-null  int64  \n",
      "dtypes: float64(2), int64(4), object(2)\n",
      "memory usage: 1.1+ MB\n"
     ]
    }
   ],
   "source": [
    "posts.info()"
   ]
  },
  {
   "cell_type": "markdown",
   "id": "25b7fd91-57d9-494a-9fcd-7daa5134e565",
   "metadata": {},
   "source": [
    "No missing values, data types correct, all columns potentially useful. Data clean!"
   ]
  },
  {
   "cell_type": "code",
   "execution_count": 16,
   "id": "8510a7e6-e49f-4296-afb2-52d456ece2c1",
   "metadata": {},
   "outputs": [],
   "source": [
    "posts.to_csv('data/clean_sports_posts.csv', index=False)"
   ]
  }
 ],
 "metadata": {
  "kernelspec": {
   "display_name": "Python 3 (ipykernel)",
   "language": "python",
   "name": "python3"
  },
  "language_info": {
   "codemirror_mode": {
    "name": "ipython",
    "version": 3
   },
   "file_extension": ".py",
   "mimetype": "text/x-python",
   "name": "python",
   "nbconvert_exporter": "python",
   "pygments_lexer": "ipython3",
   "version": "3.9.12"
  }
 },
 "nbformat": 4,
 "nbformat_minor": 5
}
