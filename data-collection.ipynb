{
 "cells": [
  {
   "cell_type": "markdown",
   "id": "2b6add1d-56b7-41d6-b40e-bd5419929f60",
   "metadata": {},
   "source": [
    "# All Sports Data Collection\n",
    "\n",
    "- Data collected from 20 popular sports subreddits\n",
    "- Max 1000 posts collected from each, due to Reddit's limit on viewable posts"
   ]
  },
  {
   "cell_type": "markdown",
   "id": "22ed9c1a-8385-4e87-a0b7-531f7c3d1a23",
   "metadata": {},
   "source": [
    "### Imports"
   ]
  },
  {
   "cell_type": "code",
   "execution_count": 1,
   "id": "208d41cd-b6aa-4427-a8c8-db7e1b49cfeb",
   "metadata": {},
   "outputs": [],
   "source": [
    "import pandas as pd\n",
    "\n",
    "import requests\n",
    "import requests.auth\n",
    "import json\n",
    "\n",
    "import time\n",
    "from time import sleep"
   ]
  },
  {
   "cell_type": "markdown",
   "id": "393b9f2e-7217-4919-b509-35783cdbadd9",
   "metadata": {},
   "source": [
    "### Get Authorization"
   ]
  },
  {
   "cell_type": "code",
   "execution_count": 2,
   "id": "62a0c640-af38-43f1-bd41-f393a93b4aeb",
   "metadata": {},
   "outputs": [
    {
     "data": {
      "text/plain": [
       "{'access_token': '2205940059860-tmuQaSyS5zLBJ-Ft1wgn_uif033vlw',\n",
       " 'token_type': 'bearer',\n",
       " 'expires_in': 86400,\n",
       " 'scope': '*'}"
      ]
     },
     "execution_count": 2,
     "metadata": {},
     "output_type": "execute_result"
    }
   ],
   "source": [
    "# request a token\n",
    "client_auth = requests.auth.HTTPBasicAuth('ZfnXA82bMZkXWBRp_29tqw', 'MTr-tnMjbizJ9jeuPQI8EK-CiPUFWA')\n",
    "post_data = {'grant_type': 'password', 'username': 'gtaylor38gadsi', 'password': 'axfig654$Bin'}\n",
    "headers = {'User-Agent': 'PostScraperScript/1.0 by gtaylor38gadsi'}\n",
    "response_token = requests.post('https://www.reddit.com/api/v1/access_token', auth=client_auth, data=post_data, headers=headers)\n",
    "response_token.json()"
   ]
  },
  {
   "cell_type": "code",
   "execution_count": 3,
   "id": "54d37e4f-38ea-4aca-aa2a-17f414201f59",
   "metadata": {},
   "outputs": [],
   "source": [
    "# store credentials\n",
    "access_token = response_token.json()['access_token']\n",
    "token_type = response_token.json()['token_type']"
   ]
  },
  {
   "cell_type": "code",
   "execution_count": 4,
   "id": "1eef2646-3343-492d-8485-398936edefd6",
   "metadata": {},
   "outputs": [],
   "source": [
    "# update headers for data collection\n",
    "headers = {\"Authorization\": f'{token_type} {access_token}', 'User-Agent': 'PostScraperScript/1.0 by gtaylor38gadsi'}"
   ]
  },
  {
   "cell_type": "markdown",
   "id": "be182c38-a98c-48ed-b8f0-70a3c48d67bf",
   "metadata": {},
   "source": [
    "### Collect Data"
   ]
  },
  {
   "cell_type": "code",
   "execution_count": 5,
   "id": "3cbad071-4f65-4617-8a51-53ff687e7948",
   "metadata": {},
   "outputs": [],
   "source": [
    "# initialize df\n",
    "posts_df = pd.DataFrame(columns=['title', 'subreddit', 'score', 'author_flair_text', 'link_flair_text',\n",
    "                                 'created_utc', 'num_comments', 'age'])\n",
    "\n",
    "# define columns to collect\n",
    "base_cols = ['title', 'subreddit', 'score', 'author_flair_text', 'link_flair_text', 'created_utc', 'num_comments']\n",
    "\n",
    "# create subreddit list\n",
    "subreddits = ['sports', 'nba', 'soccer', 'nfl', 'baseball',\n",
    "              'collegebasketball', 'mma', 'formula1', 'running', 'hockey',\n",
    "              'cfb', 'snowboarding', 'skiing', 'boxing', 'bicycling',\n",
    "              'climbing', 'fishing', 'nascar', 'tennis', 'golf']"
   ]
  },
  {
   "cell_type": "code",
   "execution_count": 6,
   "id": "3622221d-f5c5-4419-b9a7-c0bfe2831e3d",
   "metadata": {},
   "outputs": [],
   "source": [
    "# collect ~1000 posts from each subreddit\n",
    "for sub in subreddits:\n",
    "    # set base url\n",
    "    url_base = f'https://oauth.reddit.com/r/{sub}/new/.json'\n",
    "\n",
    "    # make initial request, initialize page list, define columns to scrape\n",
    "    response = requests.get(url_base, headers=headers)\n",
    "    page_new = []\n",
    "\n",
    "    # get data from first page using base url and store in posts_df\n",
    "    for i in range(response.json()['data']['dist']):\n",
    "        row = [response.json()['data']['children'][i]['data'][col_name] for col_name in base_cols]\n",
    "        page_new.append(row)\n",
    "    df = pd.DataFrame(page_new, columns=base_cols)\n",
    "    curr_time = time.time()\n",
    "    df['age'] = curr_time - df['created_utc']\n",
    "    posts_df = pd.concat([posts_df, df])\n",
    "\n",
    "    # collect data from next 39 pages\n",
    "    for i in range(39):\n",
    "        # update after and url_current\n",
    "        after = response.json()['data']['after']\n",
    "        url_current = f'{url_base}?after={after}'\n",
    "\n",
    "        # make new request, update time, and reset page list\n",
    "        response = requests.get(url_current, headers=headers)\n",
    "        page_new = []\n",
    "\n",
    "        # collect and store data in page list\n",
    "        for j in range(response.json()['data']['dist']):\n",
    "            row = [response.json()['data']['children'][j]['data'][col_name] for col_name in base_cols]\n",
    "            page_new.append(row)\n",
    "\n",
    "        # store page list as df, add age column, and concat df to posts_df\n",
    "        df = pd.DataFrame(page_new, columns=base_cols)\n",
    "        curr_time = time.time()\n",
    "        df['age'] = curr_time - df['created_utc']\n",
    "        posts_df = pd.concat([posts_df, df])\n",
    "        \n",
    "    # sleep one minute to comply with requests limit\n",
    "    sleep(60)"
   ]
  },
  {
   "cell_type": "code",
   "execution_count": 7,
   "id": "30b109ce-8a08-4b5b-8202-b0390f72b9bc",
   "metadata": {},
   "outputs": [
    {
     "name": "stdout",
     "output_type": "stream",
     "text": [
      "posts_df shape: (19776, 8) \n",
      "# of unique posts: 18478\n"
     ]
    }
   ],
   "source": [
    "# check data\n",
    "print('posts_df shape:', posts_df.shape, '\\n# of unique posts:', len(posts_df.title.unique()))"
   ]
  },
  {
   "cell_type": "code",
   "execution_count": 11,
   "id": "ff89fccc-0e54-4f5b-8878-2b0b13283eb5",
   "metadata": {},
   "outputs": [
    {
     "data": {
      "text/plain": [
       "MMA                  999\n",
       "tennis               998\n",
       "snowboarding         996\n",
       "soccer               995\n",
       "CollegeBasketball    995\n",
       "Fishing              993\n",
       "running              993\n",
       "hockey               993\n",
       "CFB                  992\n",
       "NASCAR               991\n",
       "golf                 991\n",
       "nfl                  990\n",
       "bicycling            989\n",
       "formula1             989\n",
       "Boxing               986\n",
       "baseball             986\n",
       "nba                  985\n",
       "skiing               985\n",
       "climbing             980\n",
       "sports               950\n",
       "Name: subreddit, dtype: int64"
      ]
     },
     "execution_count": 11,
     "metadata": {},
     "output_type": "execute_result"
    }
   ],
   "source": [
    "posts_df.subreddit.value_counts()"
   ]
  },
  {
   "cell_type": "markdown",
   "id": "5cdb1c51-0d58-4f29-8493-8d3ddfc87570",
   "metadata": {},
   "source": [
    "### Save Data"
   ]
  },
  {
   "cell_type": "code",
   "execution_count": 12,
   "id": "057cabf5-3793-4061-acaa-793f243966ab",
   "metadata": {},
   "outputs": [],
   "source": [
    "# Write posts_df to csv:\n",
    "posts_df.to_csv('data/all_sports_posts.csv', index=False)"
   ]
  }
 ],
 "metadata": {
  "kernelspec": {
   "display_name": "Python 3 (ipykernel)",
   "language": "python",
   "name": "python3"
  },
  "language_info": {
   "codemirror_mode": {
    "name": "ipython",
    "version": 3
   },
   "file_extension": ".py",
   "mimetype": "text/x-python",
   "name": "python",
   "nbconvert_exporter": "python",
   "pygments_lexer": "ipython3",
   "version": "3.9.12"
  }
 },
 "nbformat": 4,
 "nbformat_minor": 5
}
